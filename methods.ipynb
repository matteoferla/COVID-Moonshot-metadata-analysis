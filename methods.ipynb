{
 "cells": [
  {
   "cell_type": "code",
   "execution_count": null,
   "id": "17cc9c52-09e8-4efb-b348-72faf3622640",
   "metadata": {},
   "outputs": [],
   "source": [
    "import pandas as pd\n",
    "import numpy as np\n",
    "\n",
    "_m = pd.read_pickle('moonshot_submissions.p')\n",
    "\n",
    "moonshot = _m.loc[_m.okay][['CID (canonical)','CID_group', 'old_index', 'clean_creator', 'SMILES', 'new_smiles',\n",
    "                           'fragments', 'xcode', 'Structure ID', 'xcode','site_name', 'pdb_entry',\n",
    "                            'ORDERED', 'MADE', 'ASSAYED', 'in_fragalysis',\n",
    "                            'IC50', 'pIC50', 'prior', 'internal',\n",
    "                           'submission_date', 'inferred_submission_date', 'order_date', 'shipment_date', \n",
    "                           'description', 'initial_screen',\n",
    "                           'N_creator_submission', 'N_submission_group', 'resubmitted',\n",
    "                           'Enamine - REAL Space', 'Enamine - Extended REAL Space',\n",
    "                           'Enamine - SCR', 'Enamine - BB', 'Mcule', 'Mcule Ultimate',\n",
    "                           'N_chars', 'N_words', 'N_words_cutoff', 'classified_method', 'flesch',\n",
    "                           'dale_chall']]\n",
    "\n",
    "del _m\n",
    "\n",
    "moonshot['inferred_submission_month'] = moonshot.inferred_submission_date.apply(lambda d: d.month + 12 * (d.year -2020))\n",
    "moonshot['pIC50'] = moonshot.IC50.apply(lambda i: -np.log10(i) + 6)\n",
    "\n",
    "# for j, i in enumerate(moonshot.index[moonshot.initial_screen]):\n",
    "#     moonshot.at[i, 'CID_group'] = f'DSi-poised-{j}'\n",
    "    \n",
    "moonshot['approach'] = moonshot.classified_method.map(dict(\n",
    "                                    MANUAL_POSSIBLY='Unclear',\n",
    "                                    DOCKING='Docking',\n",
    "                                    MANUAL='Hypothesis-driven',\n",
    "                                    FEP='FEP',\n",
    "                                    PRIOR_SARS_INHIBITOR='Prior SARS inhibitor',\n",
    "                                    STARTING_LIBRARY='Starting library',\n",
    "                                   )\n",
    "                              )\n",
    "\n",
    "# double tap!\n",
    "for k, v in moonshot.description.str.lower().str.replace(',','').str.contains('sars inhibitor').items():\n",
    "    if v:\n",
    "        moonshot.at[k, 'approach'] = 'Prior SARS inhibitor'"
   ]
  },
  {
   "cell_type": "code",
   "execution_count": null,
   "id": "cbfee454-71c9-4dbf-ad9b-c43b2ec9c78d",
   "metadata": {},
   "outputs": [],
   "source": [
    "moonshot.approach.value_counts()"
   ]
  },
  {
   "cell_type": "code",
   "execution_count": null,
   "id": "a0e38202-d6ee-4bfc-9cf4-34e25bf90ab2",
   "metadata": {},
   "outputs": [],
   "source": [
    "import plotly.express as px\n",
    "\n",
    "fig = px.histogram(moonshot.drop_duplicates('CID_group'), \n",
    "                     'inferred_submission_month', \n",
    "                     color='approach',\n",
    "                     color_discrete_map = {'Docking': '#ff7f50', 'Hypothesis-drivenL':'#30d5c8','Unclear': '#afeeee',\n",
    "                                           'Prior SARS inhibitor':'#ffdb58','Starting library': 'gainsboro'},\n",
    "                     title='Methodology used per submission groups across time',\n",
    "                     template='plotly_white',\n",
    "                    )\n",
    "fig.write_image(\"images/methodology_time.svg\", width=800, height=800, scale=2)\n",
    "fig.write_image('images/methodology_time.jpg')\n",
    "fig"
   ]
  },
  {
   "cell_type": "code",
   "execution_count": null,
   "id": "9b111269-b06d-4eae-9aeb-685c008feb94",
   "metadata": {},
   "outputs": [],
   "source": [
    "import plotly.express as px\n",
    "\n",
    "fig = px.histogram(moonshot.loc[(moonshot.MADE)].drop_duplicates('CID_group'), \n",
    "                     'inferred_submission_month', \n",
    "                     color='approach',\n",
    "                     color_discrete_map = {'Docking': '#ff7f50', 'Hypothesis-drivenL':'#30d5c8','Unclear': '#afeeee',\n",
    "                                           'Prior SARS inhibitor':'#ffdb58','Starting library': 'gainsboro'},\n",
    "                     title='Methodology used per _made_ submission groups across time',\n",
    "                     template='plotly_white',\n",
    "                    )\n",
    "#fig.write_image(\"methodology_time.svg\", width=800, height=800, scale=2)\n",
    "fig"
   ]
  },
  {
   "cell_type": "code",
   "execution_count": null,
   "id": "d9545e5d-c836-4f8b-b3ff-b631a2b82c1c",
   "metadata": {},
   "outputs": [],
   "source": [
    "import plotly.express as px\n",
    "from datetime import datetime\n",
    "\n",
    "date_cutoff = datetime(2021, 1, 1)\n",
    "subbed = moonshot.loc[(moonshot.MADE) & (~moonshot.internal) & (moonshot.inferred_submission_date < date_cutoff)].drop_duplicates('CID_group')\n",
    "\n",
    "fig = px.histogram(subbed, \n",
    "                     'inferred_submission_month', \n",
    "                     color='classified_method',\n",
    "                     color_discrete_map = {'DOCKING': '#ff7f50', 'MANUAL':'#30d5c8','MANUAL_POSSIBLY': '#afeeee',\n",
    "                                           'PRIOR_SARS_INHIBITOR':'#ffdb58','STARTING_LIBRARY': 'gainsboro'},\n",
    "                     title=f'Methodology used per _made_ submission groups across time from not internal submitters (total: {len(subbed)}; submitted prior to {date_cutoff.strftime(\"%d-%m-%Y\")})',\n",
    "                     template='plotly_white',\n",
    "                    )\n",
    "#fig.write_image(\"methodology_time.svg\", width=800, height=800, scale=2)\n",
    "fig"
   ]
  },
  {
   "cell_type": "code",
   "execution_count": null,
   "id": "9d37ec27-837d-4b4f-ae18-97b6fd6b061d",
   "metadata": {},
   "outputs": [],
   "source": [
    "moonshot['category'] = moonshot.internal.map({True: 'Core', False: 'External'})\n",
    "moonshot['short'] = moonshot.description.str.slice(0,50)"
   ]
  },
  {
   "cell_type": "code",
   "execution_count": null,
   "id": "f7554e8f-5274-4f83-a577-1cb8efe0fd1b",
   "metadata": {},
   "outputs": [],
   "source": [
    "from datetime import datetime\n",
    "\n",
    "date_cutoff = datetime(2020, 8, 1)\n",
    "\n",
    "subbed = moonshot.loc[~moonshot.classified_method.isin(['STARTING_LIBRARY', 'UNKNOWN']) & \\\n",
    "                      (moonshot.submission_date < date_cutoff) & (moonshot.shipment_date < date_cutoff)\n",
    "                     ]\n",
    "fig = px.violin(subbed,\n",
    "                title=f'pIC50 by approach taken used (submitted prior to {date_cutoff.strftime(\"%d-%m-%Y\")})',\n",
    "                y='pIC50', x='approach',\n",
    "               color='category',\n",
    "                hover_data=['CID (canonical)', 'clean_creator', 'shipment_date', 'site_name', 'short'],\n",
    "               box=True,\n",
    "               points='all')\n",
    "fig.update_traces(spanmode = 'hard')\n",
    "fig.write_image(\"methodology_vio.jpg\")\n",
    "fig.write_image(\"methodology_vio.svg\", width=800, height=800, scale=2)\n",
    "fig"
   ]
  }
 ],
 "metadata": {
  "kernelspec": {
   "display_name": "Python [conda env:cc39]",
   "language": "python",
   "name": "conda-env-cc39-py"
  },
  "language_info": {
   "codemirror_mode": {
    "name": "ipython",
    "version": 3
   },
   "file_extension": ".py",
   "mimetype": "text/x-python",
   "name": "python",
   "nbconvert_exporter": "python",
   "pygments_lexer": "ipython3",
   "version": "3.9.15"
  }
 },
 "nbformat": 4,
 "nbformat_minor": 5
}

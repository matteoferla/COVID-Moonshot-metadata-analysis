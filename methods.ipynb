{
 "cells": [
  {
   "cell_type": "code",
   "execution_count": 24,
   "id": "17cc9c52-09e8-4efb-b348-72faf3622640",
   "metadata": {},
   "outputs": [],
   "source": [
    "import pandas as pd\n",
    "import numpy as np\n",
    "\n",
    "_m = pd.read_pickle('moonshot_submissions.p')\n",
    "\n",
    "\n",
    "\n",
    "_m['covalent'] = _m[['Acrylamide',\n",
    "                     'Acrylamide Adduct',\n",
    "                     'Chloroacetamide',\n",
    "                     'Chloroacetamide Adduct',\n",
    "                     'Vinylsulfonamide',\n",
    "                     'Vinylsulfonamide Adduct']].any(axis=1)  # not sure which is important\n",
    "\n",
    "moonshot = _m.loc[_m.okay][['CID (canonical)','CID_group', 'old_index', 'clean_creator', 'SMILES', 'new_smiles',\n",
    "                           'fragments', 'xcode', 'Structure ID', 'xcode','site_name', 'pdb_entry',\n",
    "                            'ORDERED', 'MADE', 'ASSAYED', 'in_fragalysis',\n",
    "                            'IC50', 'pIC50', 'prior', 'internal',\n",
    "                           'submission_date', 'inferred_submission_date', 'order_date', 'shipment_date', \n",
    "                           'description', 'initial_screen',\n",
    "                           'N_creator_submission', 'N_submission_group', 'resubmitted',\n",
    "                           'Enamine - REAL Space', 'Enamine - Extended REAL Space',\n",
    "                           'Enamine - SCR', 'Enamine - BB', 'Mcule', 'Mcule Ultimate',\n",
    "                           'N_chars', 'N_words', 'N_words_cutoff', 'classified_method', 'flesch',\n",
    "                           'dale_chall', 'covalent']]\n",
    "\n",
    "del _m\n",
    "\n",
    "moonshot['inferred_submission_month'] = moonshot.inferred_submission_date.apply(lambda d: d.month + 12 * (d.year -2020))\n",
    "moonshot['pIC50'] = moonshot.IC50.apply(lambda i: -np.log10(i) + 6)\n",
    "moonshot['category'] = moonshot.internal.map({True: 'Core', False: 'External'})\n",
    "moonshot['short'] = moonshot.description.str.slice(0,50)\n",
    "\n",
    "# for j, i in enumerate(moonshot.index[moonshot.initial_screen]):\n",
    "#     moonshot.at[i, 'CID_group'] = f'DSi-poised-{j}'\n",
    "    \n",
    "moonshot['approach'] = moonshot.classified_method.map(dict(\n",
    "                                    MANUAL_POSSIBLY='Unclear',\n",
    "                                    DOCKING='Docking',\n",
    "                                    MANUAL='Hypothesis-driven',\n",
    "                                    FEP='FEP',\n",
    "                                    PRIOR_SARS_INHIBITOR='Prior SARS inhibitor',\n",
    "                                    STARTING_LIBRARY='Starting library',\n",
    "                                   )\n",
    "                              )\n",
    "\n",
    "# double tap!\n",
    "for k, v in moonshot.description.str.lower().str.replace(',','').str.contains('sars inhibitor').items():\n",
    "    if v:\n",
    "        moonshot.at[k, 'approach'] = 'Prior SARS inhibitor'"
   ]
  },
  {
   "cell_type": "code",
   "execution_count": 25,
   "id": "cbfee454-71c9-4dbf-ad9b-c43b2ec9c78d",
   "metadata": {},
   "outputs": [
    {
     "data": {
      "text/plain": [
       "Unclear                 9285\n",
       "Docking                 3116\n",
       "Hypothesis-driven       1420\n",
       "FEP                      161\n",
       "Prior SARS inhibitor      44\n",
       "Starting library          40\n",
       "Name: approach, dtype: int64"
      ]
     },
     "execution_count": 25,
     "metadata": {},
     "output_type": "execute_result"
    }
   ],
   "source": [
    "moonshot.approach.value_counts()"
   ]
  },
  {
   "cell_type": "code",
   "execution_count": 23,
   "id": "a0e38202-d6ee-4bfc-9cf4-34e25bf90ab2",
   "metadata": {},
   "outputs": [
    {
     "data": {
      "application/vnd.plotly.v1+json": {
       "config": {
        "plotlyServerURL": "https://plot.ly"
       },
       "data": [
        {
         "alignmentgroup": "True",
         "bingroup": "x",
         "hovertemplate": "approach=Hypothesis-driven<br>inferred_submission_month=%{x}<br>count=%{y}<extra></extra>",
         "legendgroup": "Hypothesis-driven",
         "marker": {
          "color": "#19d3f3",
          "pattern": {
           "shape": ""
          }
         },
         "name": "Hypothesis-driven",
         "offsetgroup": "Hypothesis-driven",
         "orientation": "v",
         "showlegend": true,
         "type": "histogram",
         "x": [
          3,
          3,
          3,
          3,
          3,
          3,
          3,
          3,
          3,
          3,
          3,
          3,
          3,
          3,
          3,
          3,
          3,
          3,
          3,
          3,
          3,
          3,
          3,
          3,
          3,
          3,
          3,
          3,
          3,
          3,
          3,
          3,
          3,
          3,
          3,
          3,
          3,
          3,
          3,
          3,
          3,
          3,
          3,
          3,
          3,
          3,
          3,
          3,
          3,
          3,
          3,
          3,
          3,
          3,
          3,
          3,
          3,
          3,
          3,
          3,
          3,
          3,
          3,
          3,
          3,
          3,
          4,
          4,
          4,
          4,
          4,
          4,
          4,
          4,
          4,
          4,
          4,
          4,
          4,
          4,
          4,
          4,
          4,
          4,
          4,
          4,
          4,
          4,
          4,
          4,
          4,
          4,
          4,
          4,
          4,
          4,
          4,
          4,
          4,
          4,
          4,
          4,
          4,
          4,
          4,
          4,
          4,
          4,
          5,
          5,
          5,
          5,
          5,
          5,
          5,
          5,
          5,
          5,
          5,
          5,
          5,
          5,
          5,
          5,
          5,
          5,
          5,
          5,
          6,
          6,
          6,
          6,
          6,
          6,
          6,
          6,
          6,
          6,
          6,
          6,
          6,
          7,
          7,
          7,
          7,
          7,
          7,
          7,
          7,
          7,
          8,
          8,
          8,
          8,
          8,
          9,
          9,
          9,
          9,
          9,
          9,
          9,
          9,
          9,
          9,
          10,
          10,
          10,
          10,
          10,
          10,
          10,
          10,
          10,
          10,
          11,
          11,
          11,
          11,
          11,
          11,
          11,
          12,
          12,
          12,
          12,
          12,
          12,
          12,
          12,
          13,
          13,
          13,
          14,
          14,
          14,
          14,
          15,
          15,
          15,
          15,
          15,
          15,
          17,
          17,
          17,
          17,
          17,
          17,
          17,
          17,
          17,
          17,
          17,
          17,
          17,
          17,
          17,
          17,
          17,
          17,
          17,
          18,
          18,
          18,
          18,
          18,
          19,
          19
         ],
         "xaxis": "x",
         "yaxis": "y"
        },
        {
         "alignmentgroup": "True",
         "bingroup": "x",
         "hovertemplate": "approach=Unclear<br>inferred_submission_month=%{x}<br>count=%{y}<extra></extra>",
         "legendgroup": "Unclear",
         "marker": {
          "color": "#afeeee",
          "pattern": {
           "shape": ""
          }
         },
         "name": "Unclear",
         "offsetgroup": "Unclear",
         "orientation": "v",
         "showlegend": true,
         "type": "histogram",
         "x": [
          3,
          3,
          3,
          3,
          3,
          3,
          3,
          3,
          3,
          3,
          3,
          3,
          3,
          3,
          3,
          3,
          3,
          3,
          3,
          3,
          3,
          3,
          3,
          3,
          3,
          3,
          3,
          3,
          3,
          3,
          3,
          3,
          3,
          3,
          3,
          3,
          3,
          3,
          3,
          3,
          3,
          3,
          3,
          3,
          3,
          3,
          3,
          3,
          3,
          3,
          3,
          3,
          3,
          3,
          3,
          3,
          3,
          3,
          3,
          3,
          3,
          3,
          3,
          3,
          3,
          3,
          3,
          3,
          3,
          3,
          3,
          3,
          3,
          3,
          3,
          3,
          3,
          3,
          3,
          3,
          3,
          3,
          3,
          3,
          3,
          3,
          3,
          3,
          3,
          3,
          3,
          3,
          3,
          3,
          3,
          3,
          3,
          3,
          3,
          3,
          3,
          3,
          3,
          3,
          3,
          3,
          3,
          3,
          3,
          3,
          3,
          3,
          3,
          3,
          3,
          3,
          3,
          3,
          3,
          3,
          3,
          3,
          3,
          3,
          3,
          3,
          3,
          3,
          3,
          3,
          3,
          3,
          3,
          3,
          3,
          3,
          3,
          3,
          3,
          3,
          3,
          3,
          3,
          3,
          3,
          3,
          3,
          3,
          3,
          3,
          3,
          3,
          3,
          3,
          3,
          3,
          3,
          3,
          3,
          3,
          3,
          3,
          3,
          3,
          3,
          3,
          3,
          3,
          3,
          3,
          3,
          3,
          3,
          3,
          3,
          3,
          3,
          3,
          3,
          3,
          3,
          3,
          3,
          3,
          3,
          3,
          3,
          3,
          3,
          3,
          3,
          3,
          3,
          3,
          3,
          3,
          3,
          3,
          3,
          3,
          3,
          3,
          3,
          3,
          3,
          3,
          3,
          4,
          4,
          4,
          4,
          4,
          4,
          4,
          4,
          4,
          4,
          4,
          4,
          4,
          4,
          4,
          4,
          4,
          4,
          4,
          4,
          4,
          4,
          4,
          4,
          4,
          4,
          4,
          4,
          4,
          4,
          4,
          4,
          4,
          4,
          4,
          4,
          4,
          4,
          4,
          4,
          4,
          4,
          4,
          4,
          4,
          4,
          4,
          4,
          4,
          4,
          4,
          4,
          4,
          4,
          4,
          4,
          4,
          4,
          4,
          4,
          4,
          4,
          4,
          4,
          4,
          4,
          4,
          4,
          4,
          4,
          4,
          4,
          4,
          4,
          4,
          4,
          4,
          4,
          4,
          4,
          4,
          4,
          4,
          4,
          4,
          4,
          4,
          4,
          4,
          4,
          4,
          4,
          4,
          4,
          4,
          4,
          4,
          4,
          4,
          4,
          4,
          4,
          4,
          4,
          4,
          4,
          4,
          4,
          4,
          4,
          4,
          4,
          4,
          4,
          4,
          4,
          4,
          4,
          4,
          4,
          4,
          4,
          4,
          4,
          4,
          4,
          4,
          4,
          4,
          4,
          4,
          4,
          4,
          4,
          4,
          4,
          4,
          4,
          4,
          4,
          4,
          4,
          4,
          4,
          4,
          4,
          4,
          4,
          4,
          4,
          4,
          4,
          4,
          4,
          4,
          4,
          4,
          4,
          4,
          4,
          4,
          4,
          4,
          4,
          4,
          4,
          4,
          4,
          4,
          4,
          4,
          4,
          4,
          4,
          4,
          4,
          4,
          4,
          4,
          4,
          4,
          4,
          4,
          4,
          4,
          4,
          4,
          4,
          4,
          4,
          4,
          4,
          4,
          4,
          4,
          4,
          4,
          4,
          4,
          4,
          4,
          5,
          5,
          5,
          5,
          5,
          5,
          5,
          5,
          5,
          5,
          5,
          5,
          5,
          5,
          5,
          5,
          5,
          5,
          5,
          5,
          5,
          5,
          5,
          5,
          5,
          5,
          5,
          5,
          5,
          5,
          5,
          5,
          5,
          5,
          5,
          5,
          5,
          5,
          5,
          5,
          5,
          5,
          5,
          5,
          5,
          5,
          5,
          5,
          5,
          5,
          5,
          5,
          5,
          5,
          5,
          5,
          5,
          5,
          5,
          5,
          5,
          5,
          5,
          5,
          5,
          5,
          5,
          5,
          5,
          5,
          5,
          5,
          5,
          5,
          5,
          5,
          5,
          5,
          5,
          5,
          5,
          5,
          5,
          5,
          5,
          5,
          5,
          5,
          5,
          5,
          5,
          5,
          5,
          5,
          5,
          5,
          5,
          5,
          5,
          5,
          5,
          5,
          5,
          5,
          5,
          5,
          5,
          5,
          5,
          5,
          5,
          5,
          5,
          5,
          5,
          6,
          6,
          6,
          6,
          6,
          6,
          6,
          6,
          6,
          6,
          6,
          6,
          6,
          6,
          6,
          6,
          6,
          6,
          6,
          6,
          6,
          6,
          6,
          6,
          6,
          6,
          6,
          6,
          6,
          6,
          6,
          6,
          6,
          6,
          6,
          6,
          6,
          6,
          6,
          6,
          6,
          6,
          6,
          6,
          6,
          6,
          6,
          6,
          6,
          6,
          6,
          6,
          6,
          6,
          6,
          6,
          6,
          6,
          6,
          6,
          6,
          6,
          6,
          6,
          6,
          6,
          6,
          6,
          6,
          6,
          6,
          6,
          6,
          6,
          6,
          6,
          6,
          6,
          6,
          6,
          6,
          6,
          6,
          6,
          6,
          6,
          6,
          6,
          6,
          6,
          6,
          7,
          7,
          7,
          7,
          7,
          7,
          7,
          7,
          7,
          7,
          7,
          7,
          7,
          7,
          7,
          7,
          7,
          7,
          7,
          7,
          7,
          7,
          7,
          7,
          7,
          7,
          7,
          7,
          7,
          7,
          7,
          7,
          7,
          7,
          7,
          7,
          7,
          7,
          7,
          7,
          7,
          7,
          7,
          7,
          7,
          7,
          7,
          7,
          7,
          7,
          7,
          7,
          7,
          7,
          7,
          7,
          7,
          7,
          7,
          7,
          7,
          7,
          7,
          7,
          7,
          7,
          7,
          7,
          7,
          7,
          8,
          8,
          8,
          8,
          8,
          8,
          8,
          8,
          8,
          8,
          8,
          8,
          8,
          8,
          8,
          8,
          8,
          8,
          8,
          8,
          8,
          8,
          8,
          8,
          8,
          8,
          8,
          8,
          8,
          8,
          8,
          8,
          8,
          8,
          8,
          8,
          8,
          8,
          8,
          8,
          8,
          8,
          8,
          9,
          9,
          9,
          9,
          9,
          9,
          9,
          9,
          9,
          9,
          9,
          9,
          9,
          9,
          9,
          9,
          9,
          9,
          9,
          9,
          9,
          9,
          9,
          9,
          9,
          9,
          9,
          9,
          9,
          9,
          9,
          9,
          9,
          9,
          9,
          9,
          9,
          9,
          9,
          9,
          9,
          9,
          9,
          9,
          9,
          9,
          9,
          9,
          9,
          9,
          9,
          9,
          9,
          9,
          9,
          9,
          9,
          9,
          10,
          10,
          10,
          10,
          10,
          10,
          10,
          10,
          10,
          10,
          10,
          10,
          10,
          10,
          10,
          10,
          10,
          10,
          10,
          10,
          10,
          10,
          10,
          10,
          10,
          10,
          10,
          10,
          10,
          10,
          10,
          10,
          10,
          10,
          10,
          10,
          10,
          10,
          10,
          10,
          10,
          10,
          10,
          10,
          10,
          10,
          10,
          10,
          10,
          10,
          10,
          10,
          10,
          10,
          10,
          10,
          10,
          10,
          10,
          10,
          10,
          10,
          10,
          11,
          11,
          11,
          11,
          11,
          11,
          11,
          11,
          11,
          11,
          11,
          11,
          11,
          11,
          11,
          11,
          11,
          11,
          11,
          11,
          11,
          11,
          11,
          11,
          11,
          11,
          11,
          11,
          11,
          11,
          11,
          11,
          11,
          11,
          11,
          11,
          11,
          11,
          11,
          11,
          11,
          11,
          11,
          11,
          11,
          11,
          11,
          11,
          11,
          11,
          11,
          11,
          11,
          12,
          12,
          12,
          12,
          12,
          12,
          12,
          12,
          12,
          12,
          12,
          12,
          12,
          12,
          12,
          12,
          12,
          12,
          12,
          12,
          12,
          12,
          12,
          12,
          12,
          12,
          12,
          12,
          12,
          12,
          12,
          12,
          12,
          12,
          12,
          12,
          12,
          12,
          12,
          12,
          12,
          12,
          12,
          12,
          12,
          12,
          12,
          12,
          12,
          12,
          13,
          13,
          13,
          13,
          13,
          13,
          13,
          13,
          13,
          13,
          13,
          13,
          13,
          13,
          13,
          13,
          13,
          13,
          13,
          13,
          13,
          13,
          13,
          13,
          13,
          13,
          13,
          13,
          13,
          13,
          13,
          13,
          13,
          13,
          13,
          13,
          13,
          13,
          13,
          13,
          13,
          13,
          13,
          13,
          13,
          13,
          13,
          13,
          13,
          13,
          13,
          13,
          13,
          13,
          13,
          13,
          13,
          13,
          13,
          13,
          13,
          13,
          13,
          14,
          14,
          14,
          14,
          14,
          14,
          14,
          14,
          14,
          14,
          14,
          14,
          14,
          14,
          14,
          14,
          14,
          14,
          14,
          14,
          14,
          14,
          14,
          14,
          14,
          14,
          14,
          14,
          14,
          14,
          14,
          14,
          14,
          14,
          14,
          14,
          14,
          14,
          14,
          14,
          14,
          14,
          14,
          14,
          14,
          14,
          14,
          14,
          14,
          14,
          15,
          15,
          15,
          15,
          15,
          15,
          15,
          15,
          15,
          15,
          15,
          15,
          15,
          15,
          15,
          15,
          15,
          15,
          15,
          15,
          15,
          15,
          15,
          15,
          15,
          15,
          15,
          15,
          15,
          15,
          15,
          15,
          15,
          15,
          15,
          15,
          15,
          15,
          15,
          15,
          15,
          15,
          15,
          15,
          15,
          15,
          15,
          15,
          15,
          15,
          15,
          15,
          15,
          15,
          15,
          15,
          15,
          15,
          15,
          15,
          15,
          15,
          15,
          15,
          15,
          15,
          15,
          15,
          16,
          16,
          16,
          16,
          16,
          16,
          16,
          16,
          16,
          16,
          16,
          16,
          16,
          16,
          16,
          16,
          16,
          16,
          16,
          16,
          16,
          16,
          16,
          16,
          16,
          16,
          16,
          16,
          16,
          16,
          16,
          16,
          16,
          16,
          16,
          16,
          16,
          16,
          16,
          16,
          16,
          16,
          16,
          16,
          16,
          16,
          16,
          16,
          16,
          16,
          16,
          16,
          16,
          16,
          16,
          16,
          16,
          16,
          16,
          16,
          16,
          16,
          16,
          16,
          17,
          17,
          17,
          17,
          17,
          17,
          17,
          17,
          17,
          17,
          17,
          17,
          17,
          17,
          17,
          17,
          17,
          17,
          17,
          17,
          17,
          17,
          17,
          17,
          17,
          17,
          17,
          17,
          17,
          17,
          17,
          17,
          17,
          17,
          17,
          17,
          17,
          17,
          17,
          17,
          17,
          17,
          17,
          17,
          17,
          17,
          17,
          17,
          17,
          17,
          17,
          17,
          17,
          17,
          17,
          17,
          17,
          17,
          17,
          17,
          17,
          17,
          17,
          17,
          17,
          17,
          18,
          18,
          18,
          18,
          18,
          18,
          18,
          18,
          18,
          18,
          18,
          18,
          18,
          18,
          18,
          18,
          18,
          18,
          18,
          18,
          18,
          18,
          18,
          18,
          18,
          18,
          18,
          18,
          18,
          18,
          18,
          18,
          18,
          18,
          18,
          18,
          18,
          18,
          18,
          18,
          18,
          18,
          18,
          18,
          18,
          18,
          18,
          18,
          18,
          18,
          18,
          18,
          18,
          19,
          19,
          19,
          19,
          19,
          19,
          19,
          19,
          19,
          19,
          19,
          19,
          19,
          19,
          19,
          19,
          19,
          19,
          19,
          19,
          19,
          19,
          19,
          19,
          19,
          19,
          19,
          19,
          19,
          19,
          19,
          19,
          19,
          19,
          19,
          19,
          19,
          19,
          19,
          19,
          19,
          19,
          19,
          19,
          19,
          19,
          19,
          19,
          19,
          19,
          19,
          19,
          20,
          20,
          20,
          20,
          20,
          20,
          20,
          20,
          20,
          20,
          20,
          20,
          20,
          20,
          20,
          20,
          20,
          20,
          20,
          20,
          20,
          20,
          20,
          20,
          20,
          20,
          20,
          20,
          20,
          20,
          20,
          20,
          20,
          20,
          20,
          20,
          20,
          20,
          20,
          20,
          20,
          20,
          20,
          20,
          20,
          20,
          20,
          20,
          20,
          20,
          20,
          20,
          20,
          20,
          20,
          20,
          20,
          20,
          20,
          20,
          20,
          20,
          20,
          20,
          21,
          21,
          21,
          21,
          21,
          21,
          21,
          21,
          21,
          21,
          21,
          21,
          21,
          21,
          21,
          21,
          21,
          21,
          21,
          21,
          21,
          21,
          21,
          21,
          21,
          21,
          21,
          21,
          21,
          21,
          21,
          21,
          21,
          21,
          21,
          21,
          21,
          21,
          21,
          21,
          21,
          21,
          21,
          21,
          21,
          21,
          21,
          21,
          21,
          21,
          21,
          21,
          21,
          21,
          21,
          22,
          22,
          22,
          22,
          22,
          22,
          22,
          22,
          22,
          22,
          22,
          22,
          22,
          22,
          22,
          22,
          22,
          22,
          22,
          22,
          22,
          22,
          22,
          22,
          22,
          22,
          22,
          22,
          22,
          22,
          22,
          22,
          22,
          22,
          22,
          22,
          22,
          22,
          22,
          22,
          22,
          22,
          22,
          22,
          22,
          22,
          22,
          22,
          22,
          22,
          22,
          22,
          22,
          22,
          23,
          23,
          23,
          23,
          23,
          23,
          23,
          23,
          23,
          23,
          23,
          23,
          23,
          23,
          23,
          23,
          23,
          23,
          23,
          23,
          23,
          23,
          23,
          23,
          23,
          23,
          23,
          23,
          23,
          23,
          23,
          23,
          23,
          23,
          23,
          23,
          23,
          23,
          23,
          23,
          23,
          23,
          23,
          24,
          24,
          24,
          24,
          24,
          24,
          24,
          24,
          24,
          24,
          24,
          24,
          24,
          24,
          24,
          24,
          24,
          24,
          24,
          24,
          24,
          24,
          24,
          24,
          24,
          24,
          24,
          24,
          24,
          24,
          24,
          24,
          24,
          24,
          24,
          24,
          24,
          24,
          24,
          24,
          24,
          24,
          24,
          24,
          24,
          24,
          24,
          24,
          24,
          24,
          24,
          24,
          24,
          24,
          24,
          24,
          24,
          24,
          24,
          24,
          24,
          24,
          24,
          24,
          24,
          24,
          24,
          24,
          24,
          24,
          24,
          24,
          24,
          24,
          24,
          24,
          24,
          24,
          24,
          24,
          24,
          24,
          24,
          24,
          24,
          24,
          24,
          24,
          24,
          24,
          24,
          24,
          24
         ],
         "xaxis": "x",
         "yaxis": "y"
        },
        {
         "alignmentgroup": "True",
         "bingroup": "x",
         "hovertemplate": "approach=Docking<br>inferred_submission_month=%{x}<br>count=%{y}<extra></extra>",
         "legendgroup": "Docking",
         "marker": {
          "color": "#ff7f50",
          "pattern": {
           "shape": ""
          }
         },
         "name": "Docking",
         "offsetgroup": "Docking",
         "orientation": "v",
         "showlegend": true,
         "type": "histogram",
         "x": [
          3,
          3,
          3,
          3,
          3,
          3,
          3,
          3,
          3,
          3,
          3,
          3,
          3,
          3,
          3,
          3,
          3,
          3,
          3,
          3,
          3,
          3,
          3,
          3,
          3,
          3,
          3,
          3,
          3,
          3,
          3,
          3,
          3,
          3,
          3,
          3,
          3,
          3,
          3,
          3,
          3,
          3,
          3,
          3,
          3,
          3,
          3,
          3,
          3,
          3,
          3,
          3,
          3,
          3,
          3,
          3,
          3,
          3,
          3,
          3,
          3,
          3,
          3,
          3,
          3,
          3,
          3,
          3,
          3,
          3,
          3,
          3,
          3,
          3,
          3,
          3,
          3,
          3,
          3,
          3,
          3,
          3,
          3,
          4,
          4,
          4,
          4,
          4,
          4,
          4,
          4,
          4,
          4,
          4,
          4,
          4,
          4,
          4,
          4,
          4,
          4,
          4,
          4,
          4,
          4,
          4,
          4,
          4,
          4,
          4,
          4,
          4,
          4,
          4,
          4,
          4,
          4,
          4,
          4,
          4,
          4,
          4,
          4,
          4,
          4,
          4,
          4,
          4,
          4,
          4,
          4,
          4,
          4,
          4,
          4,
          4,
          4,
          4,
          4,
          4,
          4,
          4,
          4,
          4,
          4,
          4,
          4,
          4,
          4,
          4,
          4,
          4,
          4,
          4,
          4,
          4,
          4,
          4,
          4,
          4,
          4,
          4,
          4,
          4,
          4,
          4,
          4,
          4,
          4,
          4,
          4,
          4,
          4,
          4,
          4,
          4,
          4,
          4,
          4,
          4,
          4,
          4,
          4,
          4,
          4,
          4,
          4,
          5,
          5,
          5,
          5,
          5,
          5,
          5,
          5,
          5,
          5,
          5,
          5,
          5,
          5,
          5,
          5,
          5,
          5,
          5,
          5,
          5,
          5,
          5,
          5,
          5,
          5,
          5,
          5,
          5,
          5,
          5,
          5,
          5,
          5,
          5,
          5,
          5,
          5,
          5,
          5,
          5,
          5,
          5,
          5,
          5,
          5,
          5,
          5,
          5,
          5,
          5,
          5,
          5,
          5,
          5,
          5,
          6,
          6,
          6,
          6,
          6,
          6,
          6,
          6,
          6,
          6,
          6,
          6,
          6,
          6,
          6,
          6,
          7,
          7,
          7,
          7,
          7,
          7,
          7,
          7,
          7,
          7,
          8,
          8,
          8,
          8,
          8,
          8,
          8,
          8,
          8,
          8,
          8,
          8,
          8,
          8,
          8,
          8,
          8,
          8,
          8,
          9,
          9,
          9,
          9,
          9,
          9,
          9,
          9,
          9,
          10,
          10,
          10,
          10,
          10,
          10,
          10,
          10,
          10,
          10,
          10,
          10,
          10,
          10,
          10,
          10,
          10,
          10,
          10,
          10,
          10,
          10,
          10,
          10,
          10,
          10,
          10,
          10,
          10,
          10,
          10,
          10,
          10,
          10,
          10,
          10,
          10,
          10,
          10,
          10,
          10,
          10,
          10,
          10,
          10,
          10,
          10,
          10,
          10,
          10,
          10,
          10,
          10,
          10,
          10,
          10,
          10,
          10,
          10,
          10,
          10,
          10,
          11,
          11,
          11,
          11,
          11,
          12,
          12,
          12,
          12,
          12,
          12,
          12,
          12,
          13,
          13,
          13,
          13,
          13,
          14,
          14,
          14,
          14,
          14,
          14,
          14,
          14,
          15,
          15,
          15,
          15,
          15,
          15,
          15,
          15,
          15,
          15,
          15,
          15,
          15,
          15,
          15,
          15,
          15,
          15,
          15,
          15,
          15,
          15,
          15,
          15,
          15,
          15,
          15,
          15,
          16,
          16,
          16,
          16,
          16,
          16,
          16,
          16,
          16,
          16,
          16,
          16,
          16,
          16,
          16,
          16,
          17,
          17,
          17,
          17,
          19,
          20,
          21,
          24,
          24
         ],
         "xaxis": "x",
         "yaxis": "y"
        },
        {
         "alignmentgroup": "True",
         "bingroup": "x",
         "hovertemplate": "approach=Starting library<br>inferred_submission_month=%{x}<br>count=%{y}<extra></extra>",
         "legendgroup": "Starting library",
         "marker": {
          "color": "gainsboro",
          "pattern": {
           "shape": ""
          }
         },
         "name": "Starting library",
         "offsetgroup": "Starting library",
         "orientation": "v",
         "showlegend": true,
         "type": "histogram",
         "x": [
          2,
          2,
          2,
          2,
          2
         ],
         "xaxis": "x",
         "yaxis": "y"
        },
        {
         "alignmentgroup": "True",
         "bingroup": "x",
         "hovertemplate": "approach=Prior SARS inhibitor<br>inferred_submission_month=%{x}<br>count=%{y}<extra></extra>",
         "legendgroup": "Prior SARS inhibitor",
         "marker": {
          "color": "#ffdb58",
          "pattern": {
           "shape": ""
          }
         },
         "name": "Prior SARS inhibitor",
         "offsetgroup": "Prior SARS inhibitor",
         "orientation": "v",
         "showlegend": true,
         "type": "histogram",
         "x": [
          5,
          5,
          7,
          7,
          7
         ],
         "xaxis": "x",
         "yaxis": "y"
        },
        {
         "alignmentgroup": "True",
         "bingroup": "x",
         "hovertemplate": "approach=FEP<br>inferred_submission_month=%{x}<br>count=%{y}<extra></extra>",
         "legendgroup": "FEP",
         "marker": {
          "color": "#B6E880",
          "pattern": {
           "shape": ""
          }
         },
         "name": "FEP",
         "offsetgroup": "FEP",
         "orientation": "v",
         "showlegend": true,
         "type": "histogram",
         "x": [
          7,
          7,
          8,
          8,
          8,
          9,
          10,
          10,
          10,
          12,
          12,
          12,
          12,
          13,
          13,
          13,
          14,
          14,
          14,
          14,
          15
         ],
         "xaxis": "x",
         "yaxis": "y"
        }
       ],
       "layout": {
        "autosize": true,
        "barmode": "relative",
        "legend": {
         "title": {
          "text": "approach"
         },
         "tracegroupgap": 0
        },
        "template": {
         "data": {
          "bar": [
           {
            "error_x": {
             "color": "#2a3f5f"
            },
            "error_y": {
             "color": "#2a3f5f"
            },
            "marker": {
             "line": {
              "color": "white",
              "width": 0.5
             },
             "pattern": {
              "fillmode": "overlay",
              "size": 10,
              "solidity": 0.2
             }
            },
            "type": "bar"
           }
          ],
          "barpolar": [
           {
            "marker": {
             "line": {
              "color": "white",
              "width": 0.5
             },
             "pattern": {
              "fillmode": "overlay",
              "size": 10,
              "solidity": 0.2
             }
            },
            "type": "barpolar"
           }
          ],
          "carpet": [
           {
            "aaxis": {
             "endlinecolor": "#2a3f5f",
             "gridcolor": "#C8D4E3",
             "linecolor": "#C8D4E3",
             "minorgridcolor": "#C8D4E3",
             "startlinecolor": "#2a3f5f"
            },
            "baxis": {
             "endlinecolor": "#2a3f5f",
             "gridcolor": "#C8D4E3",
             "linecolor": "#C8D4E3",
             "minorgridcolor": "#C8D4E3",
             "startlinecolor": "#2a3f5f"
            },
            "type": "carpet"
           }
          ],
          "choropleth": [
           {
            "colorbar": {
             "outlinewidth": 0,
             "ticks": ""
            },
            "type": "choropleth"
           }
          ],
          "contour": [
           {
            "colorbar": {
             "outlinewidth": 0,
             "ticks": ""
            },
            "colorscale": [
             [
              0,
              "#0d0887"
             ],
             [
              0.1111111111111111,
              "#46039f"
             ],
             [
              0.2222222222222222,
              "#7201a8"
             ],
             [
              0.3333333333333333,
              "#9c179e"
             ],
             [
              0.4444444444444444,
              "#bd3786"
             ],
             [
              0.5555555555555556,
              "#d8576b"
             ],
             [
              0.6666666666666666,
              "#ed7953"
             ],
             [
              0.7777777777777778,
              "#fb9f3a"
             ],
             [
              0.8888888888888888,
              "#fdca26"
             ],
             [
              1,
              "#f0f921"
             ]
            ],
            "type": "contour"
           }
          ],
          "contourcarpet": [
           {
            "colorbar": {
             "outlinewidth": 0,
             "ticks": ""
            },
            "type": "contourcarpet"
           }
          ],
          "heatmap": [
           {
            "colorbar": {
             "outlinewidth": 0,
             "ticks": ""
            },
            "colorscale": [
             [
              0,
              "#0d0887"
             ],
             [
              0.1111111111111111,
              "#46039f"
             ],
             [
              0.2222222222222222,
              "#7201a8"
             ],
             [
              0.3333333333333333,
              "#9c179e"
             ],
             [
              0.4444444444444444,
              "#bd3786"
             ],
             [
              0.5555555555555556,
              "#d8576b"
             ],
             [
              0.6666666666666666,
              "#ed7953"
             ],
             [
              0.7777777777777778,
              "#fb9f3a"
             ],
             [
              0.8888888888888888,
              "#fdca26"
             ],
             [
              1,
              "#f0f921"
             ]
            ],
            "type": "heatmap"
           }
          ],
          "heatmapgl": [
           {
            "colorbar": {
             "outlinewidth": 0,
             "ticks": ""
            },
            "colorscale": [
             [
              0,
              "#0d0887"
             ],
             [
              0.1111111111111111,
              "#46039f"
             ],
             [
              0.2222222222222222,
              "#7201a8"
             ],
             [
              0.3333333333333333,
              "#9c179e"
             ],
             [
              0.4444444444444444,
              "#bd3786"
             ],
             [
              0.5555555555555556,
              "#d8576b"
             ],
             [
              0.6666666666666666,
              "#ed7953"
             ],
             [
              0.7777777777777778,
              "#fb9f3a"
             ],
             [
              0.8888888888888888,
              "#fdca26"
             ],
             [
              1,
              "#f0f921"
             ]
            ],
            "type": "heatmapgl"
           }
          ],
          "histogram": [
           {
            "marker": {
             "pattern": {
              "fillmode": "overlay",
              "size": 10,
              "solidity": 0.2
             }
            },
            "type": "histogram"
           }
          ],
          "histogram2d": [
           {
            "colorbar": {
             "outlinewidth": 0,
             "ticks": ""
            },
            "colorscale": [
             [
              0,
              "#0d0887"
             ],
             [
              0.1111111111111111,
              "#46039f"
             ],
             [
              0.2222222222222222,
              "#7201a8"
             ],
             [
              0.3333333333333333,
              "#9c179e"
             ],
             [
              0.4444444444444444,
              "#bd3786"
             ],
             [
              0.5555555555555556,
              "#d8576b"
             ],
             [
              0.6666666666666666,
              "#ed7953"
             ],
             [
              0.7777777777777778,
              "#fb9f3a"
             ],
             [
              0.8888888888888888,
              "#fdca26"
             ],
             [
              1,
              "#f0f921"
             ]
            ],
            "type": "histogram2d"
           }
          ],
          "histogram2dcontour": [
           {
            "colorbar": {
             "outlinewidth": 0,
             "ticks": ""
            },
            "colorscale": [
             [
              0,
              "#0d0887"
             ],
             [
              0.1111111111111111,
              "#46039f"
             ],
             [
              0.2222222222222222,
              "#7201a8"
             ],
             [
              0.3333333333333333,
              "#9c179e"
             ],
             [
              0.4444444444444444,
              "#bd3786"
             ],
             [
              0.5555555555555556,
              "#d8576b"
             ],
             [
              0.6666666666666666,
              "#ed7953"
             ],
             [
              0.7777777777777778,
              "#fb9f3a"
             ],
             [
              0.8888888888888888,
              "#fdca26"
             ],
             [
              1,
              "#f0f921"
             ]
            ],
            "type": "histogram2dcontour"
           }
          ],
          "mesh3d": [
           {
            "colorbar": {
             "outlinewidth": 0,
             "ticks": ""
            },
            "type": "mesh3d"
           }
          ],
          "parcoords": [
           {
            "line": {
             "colorbar": {
              "outlinewidth": 0,
              "ticks": ""
             }
            },
            "type": "parcoords"
           }
          ],
          "pie": [
           {
            "automargin": true,
            "type": "pie"
           }
          ],
          "scatter": [
           {
            "fillpattern": {
             "fillmode": "overlay",
             "size": 10,
             "solidity": 0.2
            },
            "type": "scatter"
           }
          ],
          "scatter3d": [
           {
            "line": {
             "colorbar": {
              "outlinewidth": 0,
              "ticks": ""
             }
            },
            "marker": {
             "colorbar": {
              "outlinewidth": 0,
              "ticks": ""
             }
            },
            "type": "scatter3d"
           }
          ],
          "scattercarpet": [
           {
            "marker": {
             "colorbar": {
              "outlinewidth": 0,
              "ticks": ""
             }
            },
            "type": "scattercarpet"
           }
          ],
          "scattergeo": [
           {
            "marker": {
             "colorbar": {
              "outlinewidth": 0,
              "ticks": ""
             }
            },
            "type": "scattergeo"
           }
          ],
          "scattergl": [
           {
            "marker": {
             "colorbar": {
              "outlinewidth": 0,
              "ticks": ""
             }
            },
            "type": "scattergl"
           }
          ],
          "scattermapbox": [
           {
            "marker": {
             "colorbar": {
              "outlinewidth": 0,
              "ticks": ""
             }
            },
            "type": "scattermapbox"
           }
          ],
          "scatterpolar": [
           {
            "marker": {
             "colorbar": {
              "outlinewidth": 0,
              "ticks": ""
             }
            },
            "type": "scatterpolar"
           }
          ],
          "scatterpolargl": [
           {
            "marker": {
             "colorbar": {
              "outlinewidth": 0,
              "ticks": ""
             }
            },
            "type": "scatterpolargl"
           }
          ],
          "scatterternary": [
           {
            "marker": {
             "colorbar": {
              "outlinewidth": 0,
              "ticks": ""
             }
            },
            "type": "scatterternary"
           }
          ],
          "surface": [
           {
            "colorbar": {
             "outlinewidth": 0,
             "ticks": ""
            },
            "colorscale": [
             [
              0,
              "#0d0887"
             ],
             [
              0.1111111111111111,
              "#46039f"
             ],
             [
              0.2222222222222222,
              "#7201a8"
             ],
             [
              0.3333333333333333,
              "#9c179e"
             ],
             [
              0.4444444444444444,
              "#bd3786"
             ],
             [
              0.5555555555555556,
              "#d8576b"
             ],
             [
              0.6666666666666666,
              "#ed7953"
             ],
             [
              0.7777777777777778,
              "#fb9f3a"
             ],
             [
              0.8888888888888888,
              "#fdca26"
             ],
             [
              1,
              "#f0f921"
             ]
            ],
            "type": "surface"
           }
          ],
          "table": [
           {
            "cells": {
             "fill": {
              "color": "#EBF0F8"
             },
             "line": {
              "color": "white"
             }
            },
            "header": {
             "fill": {
              "color": "#C8D4E3"
             },
             "line": {
              "color": "white"
             }
            },
            "type": "table"
           }
          ]
         },
         "layout": {
          "annotationdefaults": {
           "arrowcolor": "#2a3f5f",
           "arrowhead": 0,
           "arrowwidth": 1
          },
          "autotypenumbers": "strict",
          "coloraxis": {
           "colorbar": {
            "outlinewidth": 0,
            "ticks": ""
           }
          },
          "colorscale": {
           "diverging": [
            [
             0,
             "#8e0152"
            ],
            [
             0.1,
             "#c51b7d"
            ],
            [
             0.2,
             "#de77ae"
            ],
            [
             0.3,
             "#f1b6da"
            ],
            [
             0.4,
             "#fde0ef"
            ],
            [
             0.5,
             "#f7f7f7"
            ],
            [
             0.6,
             "#e6f5d0"
            ],
            [
             0.7,
             "#b8e186"
            ],
            [
             0.8,
             "#7fbc41"
            ],
            [
             0.9,
             "#4d9221"
            ],
            [
             1,
             "#276419"
            ]
           ],
           "sequential": [
            [
             0,
             "#0d0887"
            ],
            [
             0.1111111111111111,
             "#46039f"
            ],
            [
             0.2222222222222222,
             "#7201a8"
            ],
            [
             0.3333333333333333,
             "#9c179e"
            ],
            [
             0.4444444444444444,
             "#bd3786"
            ],
            [
             0.5555555555555556,
             "#d8576b"
            ],
            [
             0.6666666666666666,
             "#ed7953"
            ],
            [
             0.7777777777777778,
             "#fb9f3a"
            ],
            [
             0.8888888888888888,
             "#fdca26"
            ],
            [
             1,
             "#f0f921"
            ]
           ],
           "sequentialminus": [
            [
             0,
             "#0d0887"
            ],
            [
             0.1111111111111111,
             "#46039f"
            ],
            [
             0.2222222222222222,
             "#7201a8"
            ],
            [
             0.3333333333333333,
             "#9c179e"
            ],
            [
             0.4444444444444444,
             "#bd3786"
            ],
            [
             0.5555555555555556,
             "#d8576b"
            ],
            [
             0.6666666666666666,
             "#ed7953"
            ],
            [
             0.7777777777777778,
             "#fb9f3a"
            ],
            [
             0.8888888888888888,
             "#fdca26"
            ],
            [
             1,
             "#f0f921"
            ]
           ]
          },
          "colorway": [
           "#636efa",
           "#EF553B",
           "#00cc96",
           "#ab63fa",
           "#FFA15A",
           "#19d3f3",
           "#FF6692",
           "#B6E880",
           "#FF97FF",
           "#FECB52"
          ],
          "font": {
           "color": "#2a3f5f"
          },
          "geo": {
           "bgcolor": "white",
           "lakecolor": "white",
           "landcolor": "white",
           "showlakes": true,
           "showland": true,
           "subunitcolor": "#C8D4E3"
          },
          "hoverlabel": {
           "align": "left"
          },
          "hovermode": "closest",
          "mapbox": {
           "style": "light"
          },
          "paper_bgcolor": "white",
          "plot_bgcolor": "white",
          "polar": {
           "angularaxis": {
            "gridcolor": "#EBF0F8",
            "linecolor": "#EBF0F8",
            "ticks": ""
           },
           "bgcolor": "white",
           "radialaxis": {
            "gridcolor": "#EBF0F8",
            "linecolor": "#EBF0F8",
            "ticks": ""
           }
          },
          "scene": {
           "xaxis": {
            "backgroundcolor": "white",
            "gridcolor": "#DFE8F3",
            "gridwidth": 2,
            "linecolor": "#EBF0F8",
            "showbackground": true,
            "ticks": "",
            "zerolinecolor": "#EBF0F8"
           },
           "yaxis": {
            "backgroundcolor": "white",
            "gridcolor": "#DFE8F3",
            "gridwidth": 2,
            "linecolor": "#EBF0F8",
            "showbackground": true,
            "ticks": "",
            "zerolinecolor": "#EBF0F8"
           },
           "zaxis": {
            "backgroundcolor": "white",
            "gridcolor": "#DFE8F3",
            "gridwidth": 2,
            "linecolor": "#EBF0F8",
            "showbackground": true,
            "ticks": "",
            "zerolinecolor": "#EBF0F8"
           }
          },
          "shapedefaults": {
           "line": {
            "color": "#2a3f5f"
           }
          },
          "ternary": {
           "aaxis": {
            "gridcolor": "#DFE8F3",
            "linecolor": "#A2B1C6",
            "ticks": ""
           },
           "baxis": {
            "gridcolor": "#DFE8F3",
            "linecolor": "#A2B1C6",
            "ticks": ""
           },
           "bgcolor": "white",
           "caxis": {
            "gridcolor": "#DFE8F3",
            "linecolor": "#A2B1C6",
            "ticks": ""
           }
          },
          "title": {
           "x": 0.05
          },
          "xaxis": {
           "automargin": true,
           "gridcolor": "#EBF0F8",
           "linecolor": "#EBF0F8",
           "ticks": "",
           "title": {
            "standoff": 15
           },
           "zerolinecolor": "#EBF0F8",
           "zerolinewidth": 2
          },
          "yaxis": {
           "automargin": true,
           "gridcolor": "#EBF0F8",
           "linecolor": "#EBF0F8",
           "ticks": "",
           "title": {
            "standoff": 15
           },
           "zerolinecolor": "#EBF0F8",
           "zerolinewidth": 2
          }
         }
        },
        "title": {
         "text": "Methodology used per submission groups across time"
        },
        "xaxis": {
         "anchor": "y",
         "autorange": true,
         "domain": [
          0,
          1
         ],
         "range": [
          1.5,
          24.5
         ],
         "title": {
          "text": "inferred_submission_month"
         },
         "type": "linear"
        },
        "yaxis": {
         "anchor": "x",
         "autorange": true,
         "domain": [
          0,
          1
         ],
         "range": [
          0,
          374.7368421052632
         ],
         "title": {
          "text": "count"
         }
        }
       }
      },
      "image/png": "[encoded data removed]",
      "text/html": [
       "<div>                            <div id=\"56c4300a-f6a7-4706-b2ee-9913a2211504\" class=\"plotly-graph-div\" style=\"height:525px; width:100%;\"></div>            <script type=\"text/javascript\">                require([\"plotly\"], function(Plotly) {                    window.PLOTLYENV=window.PLOTLYENV || {};                                    if (document.getElementById(\"56c4300a-f6a7-4706-b2ee-9913a2211504\")) {                    Plotly.newPlot(                        \"56c4300a-f6a7-4706-b2ee-9913a2211504\",                        [{\"alignmentgroup\":\"True\",\"bingroup\":\"x\",\"hovertemplate\":\"approach=Hypothesis-driven<br>inferred_submission_month=%{x}<br>count=%{y}<extra></extra>\",\"legendgroup\":\"Hypothesis-driven\",\"marker\":{\"color\":\"#19d3f3\",\"pattern\":{\"shape\":\"\"}},\"name\":\"Hypothesis-driven\",\"offsetgroup\":\"Hypothesis-driven\",\"orientation\":\"v\",\"showlegend\":true,\"x\":[3,3,3,3,3,3,3,3,3,3,3,3,3,3,3,3,3,3,3,3,3,3,3,3,3,3,3,3,3,3,3,3,3,3,3,3,3,3,3,3,3,3,3,3,3,3,3,3,3,3,3,3,3,3,3,3,3,3,3,3,3,3,3,3,3,3,4,4,4,4,4,4,4,4,4,4,4,4,4,4,4,4,4,4,4,4,4,4,4,4,4,4,4,4,4,4,4,4,4,4,4,4,4,4,4,4,4,4,5,5,5,5,5,5,5,5,5,5,5,5,5,5,5,5,5,5,5,5,6,6,6,6,6,6,6,6,6,6,6,6,6,7,7,7,7,7,7,7,7,7,8,8,8,8,8,9,9,9,9,9,9,9,9,9,9,10,10,10,10,10,10,10,10,10,10,11,11,11,11,11,11,11,12,12,12,12,12,12,12,12,13,13,13,14,14,14,14,15,15,15,15,15,15,17,17,17,17,17,17,17,17,17,17,17,17,17,17,17,17,17,17,17,18,18,18,18,18,19,19],\"xaxis\":\"x\",\"yaxis\":\"y\",\"type\":\"histogram\"},{\"alignmentgroup\":\"True\",\"bingroup\":\"x\",\"hovertemplate\":\"approach=Unclear<br>inferred_submission_month=%{x}<br>count=%{y}<extra></extra>\",\"legendgroup\":\"Unclear\",\"marker\":{\"color\":\"#afeeee\",\"pattern\":{\"shape\":\"\"}},\"name\":\"Unclear\",\"offsetgroup\":\"Unclear\",\"orientation\":\"v\",\"showlegend\":true,\"x\":[3,3,3,3,3,3,3,3,3,3,3,3,3,3,3,3,3,3,3,3,3,3,3,3,3,3,3,3,3,3,3,3,3,3,3,3,3,3,3,3,3,3,3,3,3,3,3,3,3,3,3,3,3,3,3,3,3,3,3,3,3,3,3,3,3,3,3,3,3,3,3,3,3,3,3,3,3,3,3,3,3,3,3,3,3,3,3,3,3,3,3,3,3,3,3,3,3,3,3,3,3,3,3,3,3,3,3,3,3,3,3,3,3,3,3,3,3,3,3,3,3,3,3,3,3,3,3,3,3,3,3,3,3,3,3,3,3,3,3,3,3,3,3,3,3,3,3,3,3,3,3,3,3,3,3,3,3,3,3,3,3,3,3,3,3,3,3,3,3,3,3,3,3,3,3,3,3,3,3,3,3,3,3,3,3,3,3,3,3,3,3,3,3,3,3,3,3,3,3,3,3,3,3,3,3,3,3,4,4,4,4,4,4,4,4,4,4,4,4,4,4,4,4,4,4,4,4,4,4,4,4,4,4,4,4,4,4,4,4,4,4,4,4,4,4,4,4,4,4,4,4,4,4,4,4,4,4,4,4,4,4,4,4,4,4,4,4,4,4,4,4,4,4,4,4,4,4,4,4,4,4,4,4,4,4,4,4,4,4,4,4,4,4,4,4,4,4,4,4,4,4,4,4,4,4,4,4,4,4,4,4,4,4,4,4,4,4,4,4,4,4,4,4,4,4,4,4,4,4,4,4,4,4,4,4,4,4,4,4,4,4,4,4,4,4,4,4,4,4,4,4,4,4,4,4,4,4,4,4,4,4,4,4,4,4,4,4,4,4,4,4,4,4,4,4,4,4,4,4,4,4,4,4,4,4,4,4,4,4,4,4,4,4,4,4,4,4,4,4,4,4,4,4,4,4,4,4,4,5,5,5,5,5,5,5,5,5,5,5,5,5,5,5,5,5,5,5,5,5,5,5,5,5,5,5,5,5,5,5,5,5,5,5,5,5,5,5,5,5,5,5,5,5,5,5,5,5,5,5,5,5,5,5,5,5,5,5,5,5,5,5,5,5,5,5,5,5,5,5,5,5,5,5,5,5,5,5,5,5,5,5,5,5,5,5,5,5,5,5,5,5,5,5,5,5,5,5,5,5,5,5,5,5,5,5,5,5,5,5,5,5,5,5,6,6,6,6,6,6,6,6,6,6,6,6,6,6,6,6,6,6,6,6,6,6,6,6,6,6,6,6,6,6,6,6,6,6,6,6,6,6,6,6,6,6,6,6,6,6,6,6,6,6,6,6,6,6,6,6,6,6,6,6,6,6,6,6,6,6,6,6,6,6,6,6,6,6,6,6,6,6,6,6,6,6,6,6,6,6,6,6,6,6,6,7,7,7,7,7,7,7,7,7,7,7,7,7,7,7,7,7,7,7,7,7,7,7,7,7,7,7,7,7,7,7,7,7,7,7,7,7,7,7,7,7,7,7,7,7,7,7,7,7,7,7,7,7,7,7,7,7,7,7,7,7,7,7,7,7,7,7,7,7,7,8,8,8,8,8,8,8,8,8,8,8,8,8,8,8,8,8,8,8,8,8,8,8,8,8,8,8,8,8,8,8,8,8,8,8,8,8,8,8,8,8,8,8,9,9,9,9,9,9,9,9,9,9,9,9,9,9,9,9,9,9,9,9,9,9,9,9,9,9,9,9,9,9,9,9,9,9,9,9,9,9,9,9,9,9,9,9,9,9,9,9,9,9,9,9,9,9,9,9,9,9,10,10,10,10,10,10,10,10,10,10,10,10,10,10,10,10,10,10,10,10,10,10,10,10,10,10,10,10,10,10,10,10,10,10,10,10,10,10,10,10,10,10,10,10,10,10,10,10,10,10,10,10,10,10,10,10,10,10,10,10,10,10,10,11,11,11,11,11,11,11,11,11,11,11,11,11,11,11,11,11,11,11,11,11,11,11,11,11,11,11,11,11,11,11,11,11,11,11,11,11,11,11,11,11,11,11,11,11,11,11,11,11,11,11,11,11,12,12,12,12,12,12,12,12,12,12,12,12,12,12,12,12,12,12,12,12,12,12,12,12,12,12,12,12,12,12,12,12,12,12,12,12,12,12,12,12,12,12,12,12,12,12,12,12,12,12,13,13,13,13,13,13,13,13,13,13,13,13,13,13,13,13,13,13,13,13,13,13,13,13,13,13,13,13,13,13,13,13,13,13,13,13,13,13,13,13,13,13,13,13,13,13,13,13,13,13,13,13,13,13,13,13,13,13,13,13,13,13,13,14,14,14,14,14,14,14,14,14,14,14,14,14,14,14,14,14,14,14,14,14,14,14,14,14,14,14,14,14,14,14,14,14,14,14,14,14,14,14,14,14,14,14,14,14,14,14,14,14,14,15,15,15,15,15,15,15,15,15,15,15,15,15,15,15,15,15,15,15,15,15,15,15,15,15,15,15,15,15,15,15,15,15,15,15,15,15,15,15,15,15,15,15,15,15,15,15,15,15,15,15,15,15,15,15,15,15,15,15,15,15,15,15,15,15,15,15,15,16,16,16,16,16,16,16,16,16,16,16,16,16,16,16,16,16,16,16,16,16,16,16,16,16,16,16,16,16,16,16,16,16,16,16,16,16,16,16,16,16,16,16,16,16,16,16,16,16,16,16,16,16,16,16,16,16,16,16,16,16,16,16,16,17,17,17,17,17,17,17,17,17,17,17,17,17,17,17,17,17,17,17,17,17,17,17,17,17,17,17,17,17,17,17,17,17,17,17,17,17,17,17,17,17,17,17,17,17,17,17,17,17,17,17,17,17,17,17,17,17,17,17,17,17,17,17,17,17,17,18,18,18,18,18,18,18,18,18,18,18,18,18,18,18,18,18,18,18,18,18,18,18,18,18,18,18,18,18,18,18,18,18,18,18,18,18,18,18,18,18,18,18,18,18,18,18,18,18,18,18,18,18,19,19,19,19,19,19,19,19,19,19,19,19,19,19,19,19,19,19,19,19,19,19,19,19,19,19,19,19,19,19,19,19,19,19,19,19,19,19,19,19,19,19,19,19,19,19,19,19,19,19,19,19,20,20,20,20,20,20,20,20,20,20,20,20,20,20,20,20,20,20,20,20,20,20,20,20,20,20,20,20,20,20,20,20,20,20,20,20,20,20,20,20,20,20,20,20,20,20,20,20,20,20,20,20,20,20,20,20,20,20,20,20,20,20,20,20,21,21,21,21,21,21,21,21,21,21,21,21,21,21,21,21,21,21,21,21,21,21,21,21,21,21,21,21,21,21,21,21,21,21,21,21,21,21,21,21,21,21,21,21,21,21,21,21,21,21,21,21,21,21,21,22,22,22,22,22,22,22,22,22,22,22,22,22,22,22,22,22,22,22,22,22,22,22,22,22,22,22,22,22,22,22,22,22,22,22,22,22,22,22,22,22,22,22,22,22,22,22,22,22,22,22,22,22,22,23,23,23,23,23,23,23,23,23,23,23,23,23,23,23,23,23,23,23,23,23,23,23,23,23,23,23,23,23,23,23,23,23,23,23,23,23,23,23,23,23,23,23,24,24,24,24,24,24,24,24,24,24,24,24,24,24,24,24,24,24,24,24,24,24,24,24,24,24,24,24,24,24,24,24,24,24,24,24,24,24,24,24,24,24,24,24,24,24,24,24,24,24,24,24,24,24,24,24,24,24,24,24,24,24,24,24,24,24,24,24,24,24,24,24,24,24,24,24,24,24,24,24,24,24,24,24,24,24,24,24,24,24,24,24,24],\"xaxis\":\"x\",\"yaxis\":\"y\",\"type\":\"histogram\"},{\"alignmentgroup\":\"True\",\"bingroup\":\"x\",\"hovertemplate\":\"approach=Docking<br>inferred_submission_month=%{x}<br>count=%{y}<extra></extra>\",\"legendgroup\":\"Docking\",\"marker\":{\"color\":\"#ff7f50\",\"pattern\":{\"shape\":\"\"}},\"name\":\"Docking\",\"offsetgroup\":\"Docking\",\"orientation\":\"v\",\"showlegend\":true,\"x\":[3,3,3,3,3,3,3,3,3,3,3,3,3,3,3,3,3,3,3,3,3,3,3,3,3,3,3,3,3,3,3,3,3,3,3,3,3,3,3,3,3,3,3,3,3,3,3,3,3,3,3,3,3,3,3,3,3,3,3,3,3,3,3,3,3,3,3,3,3,3,3,3,3,3,3,3,3,3,3,3,3,3,3,4,4,4,4,4,4,4,4,4,4,4,4,4,4,4,4,4,4,4,4,4,4,4,4,4,4,4,4,4,4,4,4,4,4,4,4,4,4,4,4,4,4,4,4,4,4,4,4,4,4,4,4,4,4,4,4,4,4,4,4,4,4,4,4,4,4,4,4,4,4,4,4,4,4,4,4,4,4,4,4,4,4,4,4,4,4,4,4,4,4,4,4,4,4,4,4,4,4,4,4,4,4,4,4,5,5,5,5,5,5,5,5,5,5,5,5,5,5,5,5,5,5,5,5,5,5,5,5,5,5,5,5,5,5,5,5,5,5,5,5,5,5,5,5,5,5,5,5,5,5,5,5,5,5,5,5,5,5,5,5,6,6,6,6,6,6,6,6,6,6,6,6,6,6,6,6,7,7,7,7,7,7,7,7,7,7,8,8,8,8,8,8,8,8,8,8,8,8,8,8,8,8,8,8,8,9,9,9,9,9,9,9,9,9,10,10,10,10,10,10,10,10,10,10,10,10,10,10,10,10,10,10,10,10,10,10,10,10,10,10,10,10,10,10,10,10,10,10,10,10,10,10,10,10,10,10,10,10,10,10,10,10,10,10,10,10,10,10,10,10,10,10,10,10,10,10,11,11,11,11,11,12,12,12,12,12,12,12,12,13,13,13,13,13,14,14,14,14,14,14,14,14,15,15,15,15,15,15,15,15,15,15,15,15,15,15,15,15,15,15,15,15,15,15,15,15,15,15,15,15,16,16,16,16,16,16,16,16,16,16,16,16,16,16,16,16,17,17,17,17,19,20,21,24,24],\"xaxis\":\"x\",\"yaxis\":\"y\",\"type\":\"histogram\"},{\"alignmentgroup\":\"True\",\"bingroup\":\"x\",\"hovertemplate\":\"approach=Starting library<br>inferred_submission_month=%{x}<br>count=%{y}<extra></extra>\",\"legendgroup\":\"Starting library\",\"marker\":{\"color\":\"gainsboro\",\"pattern\":{\"shape\":\"\"}},\"name\":\"Starting library\",\"offsetgroup\":\"Starting library\",\"orientation\":\"v\",\"showlegend\":true,\"x\":[2,2,2,2,2],\"xaxis\":\"x\",\"yaxis\":\"y\",\"type\":\"histogram\"},{\"alignmentgroup\":\"True\",\"bingroup\":\"x\",\"hovertemplate\":\"approach=Prior SARS inhibitor<br>inferred_submission_month=%{x}<br>count=%{y}<extra></extra>\",\"legendgroup\":\"Prior SARS inhibitor\",\"marker\":{\"color\":\"#ffdb58\",\"pattern\":{\"shape\":\"\"}},\"name\":\"Prior SARS inhibitor\",\"offsetgroup\":\"Prior SARS inhibitor\",\"orientation\":\"v\",\"showlegend\":true,\"x\":[5,5,7,7,7],\"xaxis\":\"x\",\"yaxis\":\"y\",\"type\":\"histogram\"},{\"alignmentgroup\":\"True\",\"bingroup\":\"x\",\"hovertemplate\":\"approach=FEP<br>inferred_submission_month=%{x}<br>count=%{y}<extra></extra>\",\"legendgroup\":\"FEP\",\"marker\":{\"color\":\"#B6E880\",\"pattern\":{\"shape\":\"\"}},\"name\":\"FEP\",\"offsetgroup\":\"FEP\",\"orientation\":\"v\",\"showlegend\":true,\"x\":[7,7,8,8,8,9,10,10,10,12,12,12,12,13,13,13,14,14,14,14,15],\"xaxis\":\"x\",\"yaxis\":\"y\",\"type\":\"histogram\"}],                        {\"template\":{\"data\":{\"barpolar\":[{\"marker\":{\"line\":{\"color\":\"white\",\"width\":0.5},\"pattern\":{\"fillmode\":\"overlay\",\"size\":10,\"solidity\":0.2}},\"type\":\"barpolar\"}],\"bar\":[{\"error_x\":{\"color\":\"#2a3f5f\"},\"error_y\":{\"color\":\"#2a3f5f\"},\"marker\":{\"line\":{\"color\":\"white\",\"width\":0.5},\"pattern\":{\"fillmode\":\"overlay\",\"size\":10,\"solidity\":0.2}},\"type\":\"bar\"}],\"carpet\":[{\"aaxis\":{\"endlinecolor\":\"#2a3f5f\",\"gridcolor\":\"#C8D4E3\",\"linecolor\":\"#C8D4E3\",\"minorgridcolor\":\"#C8D4E3\",\"startlinecolor\":\"#2a3f5f\"},\"baxis\":{\"endlinecolor\":\"#2a3f5f\",\"gridcolor\":\"#C8D4E3\",\"linecolor\":\"#C8D4E3\",\"minorgridcolor\":\"#C8D4E3\",\"startlinecolor\":\"#2a3f5f\"},\"type\":\"carpet\"}],\"choropleth\":[{\"colorbar\":{\"outlinewidth\":0,\"ticks\":\"\"},\"type\":\"choropleth\"}],\"contourcarpet\":[{\"colorbar\":{\"outlinewidth\":0,\"ticks\":\"\"},\"type\":\"contourcarpet\"}],\"contour\":[{\"colorbar\":{\"outlinewidth\":0,\"ticks\":\"\"},\"colorscale\":[[0.0,\"#0d0887\"],[0.1111111111111111,\"#46039f\"],[0.2222222222222222,\"#7201a8\"],[0.3333333333333333,\"#9c179e\"],[0.4444444444444444,\"#bd3786\"],[0.5555555555555556,\"#d8576b\"],[0.6666666666666666,\"#ed7953\"],[0.7777777777777778,\"#fb9f3a\"],[0.8888888888888888,\"#fdca26\"],[1.0,\"#f0f921\"]],\"type\":\"contour\"}],\"heatmapgl\":[{\"colorbar\":{\"outlinewidth\":0,\"ticks\":\"\"},\"colorscale\":[[0.0,\"#0d0887\"],[0.1111111111111111,\"#46039f\"],[0.2222222222222222,\"#7201a8\"],[0.3333333333333333,\"#9c179e\"],[0.4444444444444444,\"#bd3786\"],[0.5555555555555556,\"#d8576b\"],[0.6666666666666666,\"#ed7953\"],[0.7777777777777778,\"#fb9f3a\"],[0.8888888888888888,\"#fdca26\"],[1.0,\"#f0f921\"]],\"type\":\"heatmapgl\"}],\"heatmap\":[{\"colorbar\":{\"outlinewidth\":0,\"ticks\":\"\"},\"colorscale\":[[0.0,\"#0d0887\"],[0.1111111111111111,\"#46039f\"],[0.2222222222222222,\"#7201a8\"],[0.3333333333333333,\"#9c179e\"],[0.4444444444444444,\"#bd3786\"],[0.5555555555555556,\"#d8576b\"],[0.6666666666666666,\"#ed7953\"],[0.7777777777777778,\"#fb9f3a\"],[0.8888888888888888,\"#fdca26\"],[1.0,\"#f0f921\"]],\"type\":\"heatmap\"}],\"histogram2dcontour\":[{\"colorbar\":{\"outlinewidth\":0,\"ticks\":\"\"},\"colorscale\":[[0.0,\"#0d0887\"],[0.1111111111111111,\"#46039f\"],[0.2222222222222222,\"#7201a8\"],[0.3333333333333333,\"#9c179e\"],[0.4444444444444444,\"#bd3786\"],[0.5555555555555556,\"#d8576b\"],[0.6666666666666666,\"#ed7953\"],[0.7777777777777778,\"#fb9f3a\"],[0.8888888888888888,\"#fdca26\"],[1.0,\"#f0f921\"]],\"type\":\"histogram2dcontour\"}],\"histogram2d\":[{\"colorbar\":{\"outlinewidth\":0,\"ticks\":\"\"},\"colorscale\":[[0.0,\"#0d0887\"],[0.1111111111111111,\"#46039f\"],[0.2222222222222222,\"#7201a8\"],[0.3333333333333333,\"#9c179e\"],[0.4444444444444444,\"#bd3786\"],[0.5555555555555556,\"#d8576b\"],[0.6666666666666666,\"#ed7953\"],[0.7777777777777778,\"#fb9f3a\"],[0.8888888888888888,\"#fdca26\"],[1.0,\"#f0f921\"]],\"type\":\"histogram2d\"}],\"histogram\":[{\"marker\":{\"pattern\":{\"fillmode\":\"overlay\",\"size\":10,\"solidity\":0.2}},\"type\":\"histogram\"}],\"mesh3d\":[{\"colorbar\":{\"outlinewidth\":0,\"ticks\":\"\"},\"type\":\"mesh3d\"}],\"parcoords\":[{\"line\":{\"colorbar\":{\"outlinewidth\":0,\"ticks\":\"\"}},\"type\":\"parcoords\"}],\"pie\":[{\"automargin\":true,\"type\":\"pie\"}],\"scatter3d\":[{\"line\":{\"colorbar\":{\"outlinewidth\":0,\"ticks\":\"\"}},\"marker\":{\"colorbar\":{\"outlinewidth\":0,\"ticks\":\"\"}},\"type\":\"scatter3d\"}],\"scattercarpet\":[{\"marker\":{\"colorbar\":{\"outlinewidth\":0,\"ticks\":\"\"}},\"type\":\"scattercarpet\"}],\"scattergeo\":[{\"marker\":{\"colorbar\":{\"outlinewidth\":0,\"ticks\":\"\"}},\"type\":\"scattergeo\"}],\"scattergl\":[{\"marker\":{\"colorbar\":{\"outlinewidth\":0,\"ticks\":\"\"}},\"type\":\"scattergl\"}],\"scattermapbox\":[{\"marker\":{\"colorbar\":{\"outlinewidth\":0,\"ticks\":\"\"}},\"type\":\"scattermapbox\"}],\"scatterpolargl\":[{\"marker\":{\"colorbar\":{\"outlinewidth\":0,\"ticks\":\"\"}},\"type\":\"scatterpolargl\"}],\"scatterpolar\":[{\"marker\":{\"colorbar\":{\"outlinewidth\":0,\"ticks\":\"\"}},\"type\":\"scatterpolar\"}],\"scatter\":[{\"fillpattern\":{\"fillmode\":\"overlay\",\"size\":10,\"solidity\":0.2},\"type\":\"scatter\"}],\"scatterternary\":[{\"marker\":{\"colorbar\":{\"outlinewidth\":0,\"ticks\":\"\"}},\"type\":\"scatterternary\"}],\"surface\":[{\"colorbar\":{\"outlinewidth\":0,\"ticks\":\"\"},\"colorscale\":[[0.0,\"#0d0887\"],[0.1111111111111111,\"#46039f\"],[0.2222222222222222,\"#7201a8\"],[0.3333333333333333,\"#9c179e\"],[0.4444444444444444,\"#bd3786\"],[0.5555555555555556,\"#d8576b\"],[0.6666666666666666,\"#ed7953\"],[0.7777777777777778,\"#fb9f3a\"],[0.8888888888888888,\"#fdca26\"],[1.0,\"#f0f921\"]],\"type\":\"surface\"}],\"table\":[{\"cells\":{\"fill\":{\"color\":\"#EBF0F8\"},\"line\":{\"color\":\"white\"}},\"header\":{\"fill\":{\"color\":\"#C8D4E3\"},\"line\":{\"color\":\"white\"}},\"type\":\"table\"}]},\"layout\":{\"annotationdefaults\":{\"arrowcolor\":\"#2a3f5f\",\"arrowhead\":0,\"arrowwidth\":1},\"autotypenumbers\":\"strict\",\"coloraxis\":{\"colorbar\":{\"outlinewidth\":0,\"ticks\":\"\"}},\"colorscale\":{\"diverging\":[[0,\"#8e0152\"],[0.1,\"#c51b7d\"],[0.2,\"#de77ae\"],[0.3,\"#f1b6da\"],[0.4,\"#fde0ef\"],[0.5,\"#f7f7f7\"],[0.6,\"#e6f5d0\"],[0.7,\"#b8e186\"],[0.8,\"#7fbc41\"],[0.9,\"#4d9221\"],[1,\"#276419\"]],\"sequential\":[[0.0,\"#0d0887\"],[0.1111111111111111,\"#46039f\"],[0.2222222222222222,\"#7201a8\"],[0.3333333333333333,\"#9c179e\"],[0.4444444444444444,\"#bd3786\"],[0.5555555555555556,\"#d8576b\"],[0.6666666666666666,\"#ed7953\"],[0.7777777777777778,\"#fb9f3a\"],[0.8888888888888888,\"#fdca26\"],[1.0,\"#f0f921\"]],\"sequentialminus\":[[0.0,\"#0d0887\"],[0.1111111111111111,\"#46039f\"],[0.2222222222222222,\"#7201a8\"],[0.3333333333333333,\"#9c179e\"],[0.4444444444444444,\"#bd3786\"],[0.5555555555555556,\"#d8576b\"],[0.6666666666666666,\"#ed7953\"],[0.7777777777777778,\"#fb9f3a\"],[0.8888888888888888,\"#fdca26\"],[1.0,\"#f0f921\"]]},\"colorway\":[\"#636efa\",\"#EF553B\",\"#00cc96\",\"#ab63fa\",\"#FFA15A\",\"#19d3f3\",\"#FF6692\",\"#B6E880\",\"#FF97FF\",\"#FECB52\"],\"font\":{\"color\":\"#2a3f5f\"},\"geo\":{\"bgcolor\":\"white\",\"lakecolor\":\"white\",\"landcolor\":\"white\",\"showlakes\":true,\"showland\":true,\"subunitcolor\":\"#C8D4E3\"},\"hoverlabel\":{\"align\":\"left\"},\"hovermode\":\"closest\",\"mapbox\":{\"style\":\"light\"},\"paper_bgcolor\":\"white\",\"plot_bgcolor\":\"white\",\"polar\":{\"angularaxis\":{\"gridcolor\":\"#EBF0F8\",\"linecolor\":\"#EBF0F8\",\"ticks\":\"\"},\"bgcolor\":\"white\",\"radialaxis\":{\"gridcolor\":\"#EBF0F8\",\"linecolor\":\"#EBF0F8\",\"ticks\":\"\"}},\"scene\":{\"xaxis\":{\"backgroundcolor\":\"white\",\"gridcolor\":\"#DFE8F3\",\"gridwidth\":2,\"linecolor\":\"#EBF0F8\",\"showbackground\":true,\"ticks\":\"\",\"zerolinecolor\":\"#EBF0F8\"},\"yaxis\":{\"backgroundcolor\":\"white\",\"gridcolor\":\"#DFE8F3\",\"gridwidth\":2,\"linecolor\":\"#EBF0F8\",\"showbackground\":true,\"ticks\":\"\",\"zerolinecolor\":\"#EBF0F8\"},\"zaxis\":{\"backgroundcolor\":\"white\",\"gridcolor\":\"#DFE8F3\",\"gridwidth\":2,\"linecolor\":\"#EBF0F8\",\"showbackground\":true,\"ticks\":\"\",\"zerolinecolor\":\"#EBF0F8\"}},\"shapedefaults\":{\"line\":{\"color\":\"#2a3f5f\"}},\"ternary\":{\"aaxis\":{\"gridcolor\":\"#DFE8F3\",\"linecolor\":\"#A2B1C6\",\"ticks\":\"\"},\"baxis\":{\"gridcolor\":\"#DFE8F3\",\"linecolor\":\"#A2B1C6\",\"ticks\":\"\"},\"bgcolor\":\"white\",\"caxis\":{\"gridcolor\":\"#DFE8F3\",\"linecolor\":\"#A2B1C6\",\"ticks\":\"\"}},\"title\":{\"x\":0.05},\"xaxis\":{\"automargin\":true,\"gridcolor\":\"#EBF0F8\",\"linecolor\":\"#EBF0F8\",\"ticks\":\"\",\"title\":{\"standoff\":15},\"zerolinecolor\":\"#EBF0F8\",\"zerolinewidth\":2},\"yaxis\":{\"automargin\":true,\"gridcolor\":\"#EBF0F8\",\"linecolor\":\"#EBF0F8\",\"ticks\":\"\",\"title\":{\"standoff\":15},\"zerolinecolor\":\"#EBF0F8\",\"zerolinewidth\":2}}},\"xaxis\":{\"anchor\":\"y\",\"domain\":[0.0,1.0],\"title\":{\"text\":\"inferred_submission_month\"}},\"yaxis\":{\"anchor\":\"x\",\"domain\":[0.0,1.0],\"title\":{\"text\":\"count\"}},\"legend\":{\"title\":{\"text\":\"approach\"},\"tracegroupgap\":0},\"title\":{\"text\":\"Methodology used per submission groups across time\"},\"barmode\":\"relative\"},                        {\"responsive\": true}                    ).then(function(){\n",
       "                            \n",
       "var gd = document.getElementById('56c4300a-f6a7-4706-b2ee-9913a2211504');\n",
       "var x = new MutationObserver(function (mutations, observer) {{\n",
       "        var display = window.getComputedStyle(gd).display;\n",
       "        if (!display || display === 'none') {{\n",
       "            console.log([gd, 'removed!']);\n",
       "            Plotly.purge(gd);\n",
       "            observer.disconnect();\n",
       "        }}\n",
       "}});\n",
       "\n",
       "// Listen for the removal of the full notebook cells\n",
       "var notebookContainer = gd.closest('#notebook-container');\n",
       "if (notebookContainer) {{\n",
       "    x.observe(notebookContainer, {childList: true});\n",
       "}}\n",
       "\n",
       "// Listen for the clearing of the current output cell\n",
       "var outputEl = gd.closest('.output');\n",
       "if (outputEl) {{\n",
       "    x.observe(outputEl, {childList: true});\n",
       "}}\n",
       "\n",
       "                        })                };                });            </script>        </div>"
      ]
     },
     "metadata": {},
     "output_type": "display_data"
    }
   ],
   "source": [
    "import plotly.express as px\n",
    "\n",
    "fig = px.histogram(moonshot.drop_duplicates('CID_group'), \n",
    "                     'inferred_submission_month', \n",
    "                     color='approach',\n",
    "                     color_discrete_map = {'Docking': '#ff7f50', 'Hypothesis-drivenL':'#30d5c8','Unclear': '#afeeee',\n",
    "                                           'Prior SARS inhibitor':'#ffdb58','Starting library': 'gainsboro'},\n",
    "                     title='Methodology used per submission groups across time',\n",
    "                     template='plotly_white',\n",
    "                    )\n",
    "fig.write_image(\"images/methodology_time.svg\", width=800, height=800, scale=2)\n",
    "fig.write_image('images/methodology_time.jpg')\n",
    "fig"
   ]
  },
  {
   "cell_type": "code",
   "execution_count": null,
   "id": "9b111269-b06d-4eae-9aeb-685c008feb94",
   "metadata": {},
   "outputs": [],
   "source": [
    "import plotly.express as px\n",
    "\n",
    "fig = px.histogram(moonshot.loc[(moonshot.MADE)].drop_duplicates('CID_group'), \n",
    "                     'inferred_submission_month', \n",
    "                     color='approach',\n",
    "                     color_discrete_map = {'Docking': '#ff7f50', 'Hypothesis-drivenL':'#30d5c8','Unclear': '#afeeee',\n",
    "                                           'Prior SARS inhibitor':'#ffdb58','Starting library': 'gainsboro'},\n",
    "                     title='Methodology used per _made_ submission groups across time',\n",
    "                     template='plotly_white',\n",
    "                    )\n",
    "#fig.write_image(\"methodology_time.svg\", width=800, height=800, scale=2)\n",
    "fig"
   ]
  },
  {
   "cell_type": "code",
   "execution_count": null,
   "id": "d9545e5d-c836-4f8b-b3ff-b631a2b82c1c",
   "metadata": {},
   "outputs": [],
   "source": [
    "import plotly.express as px\n",
    "from datetime import datetime\n",
    "\n",
    "date_cutoff = datetime(2021, 1, 1)\n",
    "subbed = moonshot.loc[(moonshot.MADE) & (~moonshot.internal) & (moonshot.inferred_submission_date < date_cutoff)].drop_duplicates('CID_group')\n",
    "\n",
    "fig = px.histogram(subbed, \n",
    "                     'inferred_submission_month', \n",
    "                     color='classified_method',\n",
    "                     color_discrete_map = {'DOCKING': '#ff7f50', 'MANUAL':'#30d5c8','MANUAL_POSSIBLY': '#afeeee',\n",
    "                                           'PRIOR_SARS_INHIBITOR':'#ffdb58','STARTING_LIBRARY': 'gainsboro'},\n",
    "                     title=f'Methodology used per _made_ submission groups across time from not internal submitters (total: {len(subbed)}; submitted prior to {date_cutoff.strftime(\"%d-%m-%Y\")})',\n",
    "                     template='plotly_white',\n",
    "                    )\n",
    "#fig.write_image(\"methodology_time.svg\", width=800, height=800, scale=2)\n",
    "fig"
   ]
  },
  {
   "cell_type": "code",
   "execution_count": null,
   "id": "f7554e8f-5274-4f83-a577-1cb8efe0fd1b",
   "metadata": {},
   "outputs": [],
   "source": [
    "from datetime import datetime\n",
    "\n",
    "date_cutoff = datetime(2020, 8, 1)\n",
    "\n",
    "subbed = moonshot.loc[~moonshot.classified_method.isin(['STARTING_LIBRARY', 'UNKNOWN']) & \\\n",
    "                      (moonshot.submission_date < date_cutoff) & (moonshot.shipment_date < date_cutoff)\n",
    "                     ]\n",
    "fig = px.violin(subbed,\n",
    "                title=f'pIC50 by approach taken used (submitted prior to {date_cutoff.strftime(\"%d-%m-%Y\")})',\n",
    "                y='pIC50', x='approach',\n",
    "               color='category',\n",
    "                hover_data=['CID (canonical)', 'clean_creator', 'shipment_date', 'site_name', 'short'],\n",
    "               box=True,\n",
    "               points='all')\n",
    "fig.update_traces(spanmode = 'hard')\n",
    "fig.write_image(\"methodology_vio.jpg\")\n",
    "fig.write_image(\"methodology_vio.svg\", width=800, height=800, scale=2)\n",
    "fig"
   ]
  },
  {
   "cell_type": "code",
   "execution_count": null,
   "id": "f8d27ad1-0c5d-4f4c-83fd-404084bce55e",
   "metadata": {},
   "outputs": [],
   "source": []
  },
  {
   "cell_type": "code",
   "execution_count": 33,
   "id": "93062ccb-516c-4b7b-87d7-8153fd5752b6",
   "metadata": {},
   "outputs": [],
   "source": [
    "moonshot['ccategory'] = moonshot.internal.map({True: 'Core', False: 'Community'}) + moonshot.covalent.map({True: '_covalent', False: ''})"
   ]
  },
  {
   "cell_type": "code",
   "execution_count": 40,
   "id": "f4bba911-b732-4021-8528-444b58293077",
   "metadata": {},
   "outputs": [
    {
     "data": {
      "application/vnd.plotly.v1+json": {
       "config": {
        "plotlyServerURL": "https://plot.ly"
       },
       "data": [
        {
         "alignmentgroup": "True",
         "box": {
          "visible": true
         },
         "customdata": [
          [
           "DAR-DIA-23aa0b97-8",
           "Daren Fearon",
           "2020-04-27T00:00:00",
           "",
           "Introduction of aromatic ring with nitrile/chloro "
          ],
          [
           "DAR-DIA-23aa0b97-11",
           "Daren Fearon",
           "2020-04-27T00:00:00",
           "",
           "Introduction of aromatic ring with nitrile/chloro "
          ],
          [
           "DAR-DIA-23aa0b97-19",
           "Daren Fearon",
           "2020-04-17T00:00:00",
           "",
           "Introduction of aromatic ring with nitrile/chloro "
          ],
          [
           "DAR-DIA-23aa0b97-20",
           "Daren Fearon",
           "2020-04-17T00:00:00",
           "Isoquinoline",
           "Introduction of aromatic ring with nitrile/chloro "
          ],
          [
           "WAR-XCH-eb7b662f-2",
           "Warren Thompson",
           "2020-04-17T00:00:00",
           "",
           "Combining fragments X0305 and X0434 by eye."
          ],
          [
           "ALP-POS-95b75b4d-1",
           "Alpha Lee",
           "2020-06-10T00:00:00",
           "Aminopyridine-like",
           "Exploration around hit scaffold"
          ],
          [
           "EDG-MED-0da5ad92-2",
           "Ed Griffen",
           "2020-05-26T00:00:00",
           "Aminopyridine-like",
           "Straightforward medicinal chemistry pairs based on"
          ],
          [
           "EDJ-MED-49816e9b-1",
           "Ed Griffen",
           "2020-06-01T00:00:00",
           "Aminopyridine-like",
           "Designs based on biasing conformation of linker ch"
          ],
          [
           "RAL-MED-2de63afb-1",
           "Med-Chem team",
           "2020-06-10T00:00:00",
           "Aminopyridine-like",
           "Close in (single point change) analogs of hit BAR-"
          ],
          [
           "RAL-MED-2de63afb-2",
           "Med-Chem team",
           "2020-06-10T00:00:00",
           "Aminopyridine-like",
           "Close in (single point change) analogs of hit BAR-"
          ],
          [
           "RAL-MED-2de63afb-14",
           "Med-Chem team",
           "2020-06-10T00:00:00",
           "Aminopyridine-like",
           "Close in (single point change) analogs of hit BAR-"
          ],
          [
           "MAT-POS-590ac91e-11",
           "Matthew Robinson",
           "2020-06-16T00:00:00",
           "Aminopyridine-like",
           "Enamine REAL analogs of IC50 amino-pyridine hits a"
          ],
          [
           "MAT-POS-590ac91e-32",
           "Matthew Robinson",
           "2020-06-10T00:00:00",
           "Quinolone",
           "Enamine REAL analogs of IC50 amino-pyridine hits a"
          ],
          [
           "MAT-POS-590ac91e-38",
           "Matthew Robinson",
           "2020-06-10T00:00:00",
           "",
           "Enamine REAL analogs of IC50 amino-pyridine hits a"
          ],
          [
           "MAT-POS-590ac91e-40",
           "Matthew Robinson",
           "2020-06-10T00:00:00",
           "",
           "Enamine REAL analogs of IC50 amino-pyridine hits a"
          ],
          [
           "MAT-POS-590ac91e-41",
           "Matthew Robinson",
           "2020-06-16T00:00:00",
           "",
           "Enamine REAL analogs of IC50 amino-pyridine hits a"
          ],
          [
           "MAT-POS-590ac91e-46",
           "Matthew Robinson",
           "2020-06-10T00:00:00",
           "",
           "Enamine REAL analogs of IC50 amino-pyridine hits a"
          ],
          [
           "MAT-POS-590ac91e-61",
           "Matthew Robinson",
           "2020-06-10T00:00:00",
           "",
           "Enamine REAL analogs of IC50 amino-pyridine hits a"
          ],
          [
           "MAT-POS-590ac91e-63",
           "Matthew Robinson",
           "2020-06-10T00:00:00",
           "",
           "Enamine REAL analogs of IC50 amino-pyridine hits a"
          ],
          [
           "LON-WEI-ff7b210a-4",
           "Nir London",
           "2020-06-24T00:00:00",
           "",
           "Enamine-available hits (>80% inhibition at 10uM) f"
          ],
          [
           "LON-WEI-ff7b210a-5",
           "Nir London",
           "2020-06-24T00:00:00",
           "",
           "Enamine-available hits (>80% inhibition at 10uM) f"
          ]
         ],
         "hovertemplate": "ccategory=Core<br>approach=%{x}<br>pIC50=%{y}<br>CID (canonical)=%{customdata[0]}<br>clean_creator=%{customdata[1]}<br>shipment_date=%{customdata[2]}<br>site_name=%{customdata[3]}<br>short=%{customdata[4]}<extra></extra>",
         "legendgroup": "Core",
         "marker": {
          "color": "#FD8A8A"
         },
         "name": "Core",
         "offsetgroup": "Core",
         "orientation": "v",
         "points": "all",
         "scalegroup": "True",
         "showlegend": true,
         "spanmode": "hard",
         "type": "violin",
         "x": [
          "Unclear",
          "Unclear",
          "Unclear",
          "Unclear",
          "Unclear",
          "Unclear",
          "Unclear",
          "Hypothesis-driven",
          "Unclear",
          "Unclear",
          "Unclear",
          "Docking",
          "Docking",
          "Docking",
          "Docking",
          "Docking",
          "Docking",
          "Docking",
          "Docking",
          "Unclear",
          "Unclear"
         ],
         "x0": " ",
         "xaxis": "x",
         "y": [
          4.265200170411153,
          4.196542884351587,
          4.573488738635425,
          4.239577516576788,
          4.00436480540245,
          4.018634490921455,
          4.270025714300444,
          4.52432881167557,
          4.053056729302175,
          4.464705879957229,
          4.603800652904264,
          4.00436480540245,
          4.002176919254275,
          4.002176919254275,
          4.4723700991286615,
          4.785156151952302,
          4.002176919254275,
          4,
          4.002176919254275,
          6.297569463554475,
          5.795880017344075
         ],
         "y0": " ",
         "yaxis": "y"
        },
        {
         "alignmentgroup": "True",
         "box": {
          "visible": true
         },
         "customdata": [
          [
           "TRY-UNI-714a760b-6",
           "Tryfon Zarganis",
           "2020-04-09T00:00:00",
           "Aminopyridine-like",
           "The design of the molecules was done by superimpos"
          ],
          [
           "TRY-UNI-714a760b-12",
           "Tryfon Zarganis",
           "2020-04-17T00:00:00",
           "Aminopyridine-like",
           "The design of the molecules was done by superimpos"
          ],
          [
           "TRY-UNI-714a760b-18",
           "Tryfon Zarganis",
           "2020-04-09T00:00:00",
           "Aminopyridine-like",
           "The design of the molecules was done by superimpos"
          ],
          [
           "TRY-UNI-714a760b-20",
           "Tryfon Zarganis",
           "2020-04-17T00:00:00",
           "Aminopyridine-like",
           "The design of the molecules was done by superimpos"
          ],
          [
           "TRY-UNI-714a760b-22",
           "Tryfon Zarganis",
           "2020-04-17T00:00:00",
           "Aminopyridine-like",
           "The design of the molecules was done by superimpos"
          ],
          [
           "TRY-UNI-714a760b-24",
           "Tryfon Zarganis",
           "2020-04-17T00:00:00",
           "",
           "The design of the molecules was done by superimpos"
          ],
          [
           "JOR-UNI-2fc98d0b-12",
           "Jordi JuarezJimenez",
           "2020-05-26T00:00:00",
           "Aminopyridine-like",
           "These compounds are based on the fragment X_0434. "
          ],
          [
           "AGN-NEW-891393a6-1",
           "Agnieszka Bronowska",
           "2020-06-16T00:00:00",
           "",
           "Molecular docking and structure-guided design of s"
          ],
          [
           "CHR-SOS-7098f804-10",
           "Chris De Graaf",
           "2020-05-13T00:00:00",
           "",
           "Structure-based design combining:\r\n1) X_0678 and X"
          ],
          [
           "CHR-SOS-7098f804-14",
           "Chris De Graaf",
           "2020-05-20T00:00:00",
           "",
           "Structure-based design combining:\r\n1) X_0678 and X"
          ],
          [
           "RUT-UNI-630c5802-20",
           "Ruth Brenk",
           "2020-04-27T00:00:00",
           "",
           "1) obviously, no potent inhibitors for Mpro are kn"
          ],
          [
           "GAB-REV-70cc3ca5-8",
           "Gabriel Grand",
           "2020-05-13T00:00:00",
           "Aminopyridine-like",
           "Top 23 results hand-selected from a virtual fragme"
          ],
          [
           "BAR-COM-4e090d3a-6",
           "Bart Lenselink",
           "2020-04-27T00:00:00",
           "",
           "Virtual screen on enamine REAL:\r\nhttps://docs. goo"
          ],
          [
           "JAN-GHE-83b26c96-8",
           "Jan Hullaert",
           "2020-06-10T00:00:00",
           "Aminopyridine-like",
           "Library of Enamine REAL analogues of HIT compound "
          ],
          [
           "JAN-GHE-83b26c96-12",
           "Jan Hullaert",
           "2020-06-01T00:00:00",
           "Aminopyridine-like",
           "Library of Enamine REAL analogues of HIT compound "
          ],
          [
           "JAN-GHE-83b26c96-20",
           "Jan Hullaert",
           "2020-06-10T00:00:00",
           "Aminopyridine-like",
           "Library of Enamine REAL analogues of HIT compound "
          ],
          [
           "JAN-GHE-83b26c96-22",
           "Jan Hullaert",
           "2020-06-10T00:00:00",
           "Aminopyridine-like",
           "Library of Enamine REAL analogues of HIT compound "
          ],
          [
           "TRY-UNI-2eddb1ff-2",
           "Tryfon Zarganis",
           "2020-06-24T00:00:00",
           "Aminopyridine-like",
           "The design of the molecules was done by superimpos"
          ],
          [
           "TRY-UNI-2eddb1ff-7",
           "Tryfon Zarganis",
           "2020-06-10T00:00:00",
           "Aminopyridine-like",
           "The design of the molecules was done by superimpos"
          ],
          [
           "JAN-GHE-5a013bed-1",
           "Jan Hullaert",
           "2020-06-16T00:00:00",
           "",
           "Library of Enamine REAL compounds for SAR focused "
          ],
          [
           "JAN-GHE-5a013bed-2",
           "Jan Hullaert",
           "2020-06-16T00:00:00",
           "Aminopyridine-like",
           "Library of Enamine REAL compounds for SAR focused "
          ],
          [
           "JAN-GHE-5a013bed-3",
           "Jan Hullaert",
           "2020-06-16T00:00:00",
           "",
           "Library of Enamine REAL compounds for SAR focused "
          ],
          [
           "JAN-GHE-5a013bed-11",
           "Jan Hullaert",
           "2020-06-16T00:00:00",
           "",
           "Library of Enamine REAL compounds for SAR focused "
          ],
          [
           "BEN-DND-7e92b6ca-4",
           "Benjamin Perry",
           "2020-06-10T00:00:00",
           "Quinolone",
           "Scanning SAR around the 4-amidoquinolones identifi"
          ],
          [
           "BEN-DND-7e92b6ca-5",
           "Benjamin Perry",
           "2020-06-10T00:00:00",
           "",
           "Scanning SAR around the 4-amidoquinolones identifi"
          ],
          [
           "BEN-DND-7e92b6ca-10",
           "Benjamin Perry",
           "2020-06-01T00:00:00",
           "",
           "Scanning SAR around the 4-amidoquinolones identifi"
          ],
          [
           "BEN-DND-7e92b6ca-11",
           "Benjamin Perry",
           "2020-06-01T00:00:00",
           "",
           "Scanning SAR around the 4-amidoquinolones identifi"
          ],
          [
           "BEN-DND-7e92b6ca-12",
           "Benjamin Perry",
           "2020-06-01T00:00:00",
           "",
           "Scanning SAR around the 4-amidoquinolones identifi"
          ],
          [
           "BEN-DND-7e92b6ca-13",
           "Benjamin Perry",
           "2020-06-01T00:00:00",
           "",
           "Scanning SAR around the 4-amidoquinolones identifi"
          ],
          [
           "BEN-DND-7e92b6ca-14",
           "Benjamin Perry",
           "2020-06-01T00:00:00",
           "",
           "Scanning SAR around the 4-amidoquinolones identifi"
          ],
          [
           "BEN-DND-7e92b6ca-16",
           "Benjamin Perry",
           "2020-06-01T00:00:00",
           "Quinolone",
           "Scanning SAR around the 4-amidoquinolones identifi"
          ],
          [
           "BAR-COM-0f94fc3d-48",
           "Bart Lenselink",
           "2020-06-24T00:00:00",
           "Aminopyridine-like",
           "Similar approach as previously: \r\n\r\nhttps://docs. "
          ]
         ],
         "hovertemplate": "ccategory=Community<br>approach=%{x}<br>pIC50=%{y}<br>CID (canonical)=%{customdata[0]}<br>clean_creator=%{customdata[1]}<br>shipment_date=%{customdata[2]}<br>site_name=%{customdata[3]}<br>short=%{customdata[4]}<extra></extra>",
         "legendgroup": "Community",
         "marker": {
          "color": "#A8D1D1"
         },
         "name": "Community",
         "offsetgroup": "Community",
         "orientation": "v",
         "points": "all",
         "scalegroup": "True",
         "showlegend": true,
         "spanmode": "hard",
         "type": "violin",
         "x": [
          "Hypothesis-driven",
          "Unclear",
          "Hypothesis-driven",
          "Hypothesis-driven",
          "Hypothesis-driven",
          "Hypothesis-driven",
          "Unclear",
          "Docking",
          "Hypothesis-driven",
          "Hypothesis-driven",
          "Docking",
          "Docking",
          "Docking",
          "Docking",
          "Docking",
          "Unclear",
          "Unclear",
          "Unclear",
          "Unclear",
          "Unclear",
          "Unclear",
          "Unclear",
          "Unclear",
          "Docking",
          "Docking",
          "Unclear",
          "Unclear",
          "Unclear",
          "Docking",
          "Docking",
          "Docking",
          "Docking"
         ],
         "x0": " ",
         "xaxis": "x",
         "y": [
          4.609064892896621,
          4.1904402853647325,
          4.581698708680254,
          4.211831628858832,
          4.260427655549908,
          4.00436480540245,
          5.51427857351842,
          5.175223537524454,
          4.616184634019569,
          4.407823242604133,
          4.105130343254747,
          4.00436480540245,
          4.447331783887806,
          4.761953896871205,
          4.686132779630847,
          4.002176919254275,
          4.013676222949234,
          4.333482019445119,
          5.440093374963888,
          4.847711655616943,
          5.080921907623926,
          5.062983892535186,
          4.343901797987169,
          4.002176919254275,
          4.002176919254275,
          5.057495893831919,
          4.8326826652518236,
          5.1220530483708115,
          4.484126156288321,
          4.782516055786093,
          4.619788758288394,
          4.2225731776106885
         ],
         "y0": " ",
         "yaxis": "y"
        },
        {
         "alignmentgroup": "True",
         "box": {
          "visible": true
         },
         "customdata": [
          [
           "NIR-THE-c331be7a-1",
           "Nir London",
           "2020-06-24T00:00:00",
           "",
           "These are all based on merges of:\r\n- x1420 as a ba"
          ],
          [
           "NIR-THE-c331be7a-2",
           "Nir London",
           "2020-06-24T00:00:00",
           "Chloroacetamide",
           "These are all based on merges of:\r\n- x1420 as a ba"
          ],
          [
           "NIR-THE-c331be7a-6",
           "Nir London",
           "2020-06-16T00:00:00",
           "Chloroacetamide",
           "These are all based on merges of:\r\n- x1420 as a ba"
          ],
          [
           "NIR-THE-0d6461ce-8",
           "Nir London",
           "2020-05-26T00:00:00",
           "",
           "x0692, x0770 and x0830 are all chloroacetamides of"
          ],
          [
           "DAR-DIA-fb20be43-6",
           "Daren Fearon",
           "2020-05-20T00:00:00",
           "",
           "Merging of x0830 with x0305/x0104 and x0195 to tar"
          ],
          [
           "DAR-DIA-fb20be43-7",
           "Daren Fearon",
           "2020-06-24T00:00:00",
           "",
           "Merging of x0830 with x0305/x0104 and x0195 to tar"
          ],
          [
           "WAR-XCH-b0339bbe-19",
           "Warren Thompson",
           "2020-06-16T00:00:00",
           "",
           "1. Used top 40 compounds from Moonshot Folding doc"
          ],
          [
           "WAR-XCH-79d12f6e-4",
           "Warren Thompson",
           "2020-05-20T00:00:00",
           "",
           "1. Top 40 docking score compounds (John Chodera's "
          ],
          [
           "MED-COV-4280ac29-12",
           "Med-Chem team",
           "2020-06-10T00:00:00",
           "",
           "These are substitutions on submissions by the MedC"
          ],
          [
           "MED-COV-4280ac29-13",
           "Med-Chem team",
           "2020-05-13T00:00:00",
           "",
           "These are substitutions on submissions by the MedC"
          ],
          [
           "MED-COV-4280ac29-25",
           "Med-Chem team",
           "2020-05-26T00:00:00",
           "Chloroacetamide",
           "These are substitutions on submissions by the MedC"
          ],
          [
           "MED-COV-4280ac29-30",
           "Med-Chem team",
           "2020-06-24T00:00:00",
           "",
           "These are substitutions on submissions by the MedC"
          ],
          [
           "MED-COV-4280ac29-33",
           "Med-Chem team",
           "2020-06-01T00:00:00",
           "",
           "These are substitutions on submissions by the MedC"
          ],
          [
           "MED-COV-4280ac29-37",
           "Med-Chem team",
           "2020-06-24T00:00:00",
           "",
           "These are substitutions on submissions by the MedC"
          ],
          [
           "LON-WEI-babf2c61-1",
           "Nir London",
           "2020-06-16T00:00:00",
           "",
           "third gen. ugi designs combining previous ‘winning"
          ],
          [
           "LON-WEI-babf2c61-2",
           "Nir London",
           "2020-06-16T00:00:00",
           "",
           "third gen. ugi designs combining previous ‘winning"
          ],
          [
           "LON-WEI-babf2c61-5",
           "Nir London",
           "2020-06-16T00:00:00",
           "",
           "third gen. ugi designs combining previous ‘winning"
          ],
          [
           "LON-WEI-babf2c61-6",
           "Nir London",
           "2020-06-16T00:00:00",
           "",
           "third gen. ugi designs combining previous ‘winning"
          ],
          [
           "LON-WEI-babf2c61-9",
           "Nir London",
           "2020-06-16T00:00:00",
           "",
           "third gen. ugi designs combining previous ‘winning"
          ]
         ],
         "hovertemplate": "ccategory=Core_covalent<br>approach=%{x}<br>pIC50=%{y}<br>CID (canonical)=%{customdata[0]}<br>clean_creator=%{customdata[1]}<br>shipment_date=%{customdata[2]}<br>site_name=%{customdata[3]}<br>short=%{customdata[4]}<extra></extra>",
         "legendgroup": "Core_covalent",
         "marker": {
          "color": "#fec5c5"
         },
         "name": "Core_covalent",
         "offsetgroup": "Core_covalent",
         "orientation": "v",
         "points": "all",
         "scalegroup": "True",
         "showlegend": true,
         "spanmode": "hard",
         "type": "violin",
         "x": [
          "Hypothesis-driven",
          "Hypothesis-driven",
          "Hypothesis-driven",
          "Hypothesis-driven",
          "Hypothesis-driven",
          "Hypothesis-driven",
          "Docking",
          "Docking",
          "Unclear",
          "Unclear",
          "Unclear",
          "Unclear",
          "Unclear",
          "Unclear",
          "Unclear",
          "Unclear",
          "Unclear",
          "Unclear",
          "Unclear"
         ],
         "x0": " ",
         "xaxis": "x",
         "y": [
          5.034798298974088,
          5.931814138253839,
          5.698970004336019,
          5.447331783887806,
          5.336299074610352,
          5.560667306169737,
          4.739928612014925,
          4.474955192963154,
          4.2716462179787715,
          5.111820506081675,
          4.525783735923745,
          6.265200170411153,
          5.3214816209598865,
          5.657577319177793,
          4.939302159646388,
          4.935542010773082,
          4.621602099051862,
          4.614393726401688,
          4.696803942579511
         ],
         "y0": " ",
         "yaxis": "y"
        },
        {
         "alignmentgroup": "True",
         "box": {
          "visible": true
         },
         "customdata": [
          [
           "DUN-NEW-f8ce3686-22",
           "Duncan Miller",
           "2020-05-13T00:00:00",
           "",
           "Merging of x0072 with x1458 to combine the covalen"
          ],
          [
           "DUN-NEW-f8ce3686-23",
           "Duncan Miller",
           "2020-06-30T00:00:00",
           "Chloroacetamide",
           "Merging of x0072 with x1458 to combine the covalen"
          ],
          [
           "DUN-NEW-f8ce3686-24",
           "Duncan Miller",
           "2020-06-16T00:00:00",
           "Chloroacetamide",
           "Merging of x0072 with x1458 to combine the covalen"
          ],
          [
           "DAN-LON-a5fc619e-8",
           "Daniel Zaidman",
           "2020-05-13T00:00:00",
           "Chloroacetamide",
           "The inspiration is X_0770, one of the covalent fra"
          ],
          [
           "GIA-UNK-a79af1bc-1",
           "Gianfranco Lopopolo",
           "2020-05-26T00:00:00",
           "",
           "Replacement with pyrimidine, in order do have poss"
          ],
          [
           "DAV-CRI-3edb475e-4",
           "David Briggs",
           "2020-05-07T00:00:00",
           "Chloroacetamide",
           "Modifications of x1382, the best occupancy, high c"
          ],
          [
           "DAV-CRI-3edb475e-6",
           "David Briggs",
           "2020-05-26T00:00:00",
           "Chloroacetamide",
           "Modifications of x1382, the best occupancy, high c"
          ],
          [
           "DAV-CRI-14a23e73-1",
           "David Briggs",
           "2020-06-24T00:00:00",
           "",
           "By eye merging of X0161 and x1382, retaining coval"
          ],
          [
           "GIA-UNK-20b63697-2",
           "Gianfranco Lopopolo",
           "2020-06-10T00:00:00",
           "",
           "A series of derivatives, having the chloroacetamid"
          ],
          [
           "GIA-UNK-20b63697-6",
           "Gianfranco Lopopolo",
           "2020-06-10T00:00:00",
           "",
           "A series of derivatives, having the chloroacetamid"
          ],
          [
           "TAM-UNI-d1c3dd9f-5",
           "Tamas Szommer",
           "2020-05-26T00:00:00",
           "",
           "Covalent fragments were re-docked using multiple p"
          ],
          [
           "PAU-UNI-8cdd41c7-1",
           "Paul Brear",
           "2020-05-13T00:00:00",
           "",
           "Combination fo x0770 and x0692. by eye."
          ],
          [
           "STU-CHA-6cae54d3-1",
           "Stuart Ward",
           "2020-06-30T00:00:00",
           "",
           "Combination of covalent fragment x0770 with non-co"
          ],
          [
           "STU-CHA-83dacf15-1",
           "Stuart Ward",
           "2020-06-16T00:00:00",
           "",
           "Combination of covalent fragment x0770 with non-co"
          ],
          [
           "SIM-SYN-f15aaa3a-1",
           "Simon Williams",
           "2020-05-07T00:00:00",
           "Chloroacetamide",
           "Noting that the benzylic group on fragments such a"
          ],
          [
           "NEH-REV-107bcf72-5",
           "Neha Rana",
           "2020-05-13T00:00:00",
           "",
           "In addition to the covalent bond between chloroace"
          ],
          [
           "NAU-LAT-64f4b287-4",
           "Nauris Narvaiss",
           "2020-06-24T00:00:00",
           "",
           "X-ray/IC50 fragment and structure growing/merging "
          ],
          [
           "NAU-LAT-64f4b287-5",
           "Nauris Narvaiss",
           "2020-06-24T00:00:00",
           "Chloroacetamide",
           "X-ray/IC50 fragment and structure growing/merging "
          ]
         ],
         "hovertemplate": "ccategory=Community_covalent<br>approach=%{x}<br>pIC50=%{y}<br>CID (canonical)=%{customdata[0]}<br>clean_creator=%{customdata[1]}<br>shipment_date=%{customdata[2]}<br>site_name=%{customdata[3]}<br>short=%{customdata[4]}<extra></extra>",
         "legendgroup": "Community_covalent",
         "marker": {
          "color": "#d4e8e8"
         },
         "name": "Community_covalent",
         "offsetgroup": "Community_covalent",
         "orientation": "v",
         "points": "all",
         "scalegroup": "True",
         "showlegend": true,
         "spanmode": "hard",
         "type": "violin",
         "x": [
          "Hypothesis-driven",
          "Hypothesis-driven",
          "Hypothesis-driven",
          "Docking",
          "Unclear",
          "Unclear",
          "Unclear",
          "Hypothesis-driven",
          "Unclear",
          "Unclear",
          "Docking",
          "Unclear",
          "Docking",
          "Docking",
          "Unclear",
          "Docking",
          "Hypothesis-driven",
          "Hypothesis-driven"
         ],
         "x0": " ",
         "xaxis": "x",
         "y": [
          4.97469413473523,
          4.723538195826756,
          4.7594507517174005,
          5.663540266151471,
          4.559090917934782,
          4.00436480540245,
          4.554395796726403,
          6.33161408331,
          4.661543506395395,
          5.361510743045363,
          4.39577394691553,
          5.723538195826756,
          5.42021640338319,
          4.709965388637482,
          5.703334809738469,
          4.42712839779952,
          5.42712839779952,
          4.2716462179787715
         ],
         "y0": " ",
         "yaxis": "y"
        }
       ],
       "layout": {
        "autosize": true,
        "legend": {
         "title": {
          "text": "Group"
         },
         "tracegroupgap": 0
        },
        "template": {
         "data": {
          "bar": [
           {
            "error_x": {
             "color": "#2a3f5f"
            },
            "error_y": {
             "color": "#2a3f5f"
            },
            "marker": {
             "line": {
              "color": "white",
              "width": 0.5
             },
             "pattern": {
              "fillmode": "overlay",
              "size": 10,
              "solidity": 0.2
             }
            },
            "type": "bar"
           }
          ],
          "barpolar": [
           {
            "marker": {
             "line": {
              "color": "white",
              "width": 0.5
             },
             "pattern": {
              "fillmode": "overlay",
              "size": 10,
              "solidity": 0.2
             }
            },
            "type": "barpolar"
           }
          ],
          "carpet": [
           {
            "aaxis": {
             "endlinecolor": "#2a3f5f",
             "gridcolor": "#C8D4E3",
             "linecolor": "#C8D4E3",
             "minorgridcolor": "#C8D4E3",
             "startlinecolor": "#2a3f5f"
            },
            "baxis": {
             "endlinecolor": "#2a3f5f",
             "gridcolor": "#C8D4E3",
             "linecolor": "#C8D4E3",
             "minorgridcolor": "#C8D4E3",
             "startlinecolor": "#2a3f5f"
            },
            "type": "carpet"
           }
          ],
          "choropleth": [
           {
            "colorbar": {
             "outlinewidth": 0,
             "ticks": ""
            },
            "type": "choropleth"
           }
          ],
          "contour": [
           {
            "colorbar": {
             "outlinewidth": 0,
             "ticks": ""
            },
            "colorscale": [
             [
              0,
              "#0d0887"
             ],
             [
              0.1111111111111111,
              "#46039f"
             ],
             [
              0.2222222222222222,
              "#7201a8"
             ],
             [
              0.3333333333333333,
              "#9c179e"
             ],
             [
              0.4444444444444444,
              "#bd3786"
             ],
             [
              0.5555555555555556,
              "#d8576b"
             ],
             [
              0.6666666666666666,
              "#ed7953"
             ],
             [
              0.7777777777777778,
              "#fb9f3a"
             ],
             [
              0.8888888888888888,
              "#fdca26"
             ],
             [
              1,
              "#f0f921"
             ]
            ],
            "type": "contour"
           }
          ],
          "contourcarpet": [
           {
            "colorbar": {
             "outlinewidth": 0,
             "ticks": ""
            },
            "type": "contourcarpet"
           }
          ],
          "heatmap": [
           {
            "colorbar": {
             "outlinewidth": 0,
             "ticks": ""
            },
            "colorscale": [
             [
              0,
              "#0d0887"
             ],
             [
              0.1111111111111111,
              "#46039f"
             ],
             [
              0.2222222222222222,
              "#7201a8"
             ],
             [
              0.3333333333333333,
              "#9c179e"
             ],
             [
              0.4444444444444444,
              "#bd3786"
             ],
             [
              0.5555555555555556,
              "#d8576b"
             ],
             [
              0.6666666666666666,
              "#ed7953"
             ],
             [
              0.7777777777777778,
              "#fb9f3a"
             ],
             [
              0.8888888888888888,
              "#fdca26"
             ],
             [
              1,
              "#f0f921"
             ]
            ],
            "type": "heatmap"
           }
          ],
          "heatmapgl": [
           {
            "colorbar": {
             "outlinewidth": 0,
             "ticks": ""
            },
            "colorscale": [
             [
              0,
              "#0d0887"
             ],
             [
              0.1111111111111111,
              "#46039f"
             ],
             [
              0.2222222222222222,
              "#7201a8"
             ],
             [
              0.3333333333333333,
              "#9c179e"
             ],
             [
              0.4444444444444444,
              "#bd3786"
             ],
             [
              0.5555555555555556,
              "#d8576b"
             ],
             [
              0.6666666666666666,
              "#ed7953"
             ],
             [
              0.7777777777777778,
              "#fb9f3a"
             ],
             [
              0.8888888888888888,
              "#fdca26"
             ],
             [
              1,
              "#f0f921"
             ]
            ],
            "type": "heatmapgl"
           }
          ],
          "histogram": [
           {
            "marker": {
             "pattern": {
              "fillmode": "overlay",
              "size": 10,
              "solidity": 0.2
             }
            },
            "type": "histogram"
           }
          ],
          "histogram2d": [
           {
            "colorbar": {
             "outlinewidth": 0,
             "ticks": ""
            },
            "colorscale": [
             [
              0,
              "#0d0887"
             ],
             [
              0.1111111111111111,
              "#46039f"
             ],
             [
              0.2222222222222222,
              "#7201a8"
             ],
             [
              0.3333333333333333,
              "#9c179e"
             ],
             [
              0.4444444444444444,
              "#bd3786"
             ],
             [
              0.5555555555555556,
              "#d8576b"
             ],
             [
              0.6666666666666666,
              "#ed7953"
             ],
             [
              0.7777777777777778,
              "#fb9f3a"
             ],
             [
              0.8888888888888888,
              "#fdca26"
             ],
             [
              1,
              "#f0f921"
             ]
            ],
            "type": "histogram2d"
           }
          ],
          "histogram2dcontour": [
           {
            "colorbar": {
             "outlinewidth": 0,
             "ticks": ""
            },
            "colorscale": [
             [
              0,
              "#0d0887"
             ],
             [
              0.1111111111111111,
              "#46039f"
             ],
             [
              0.2222222222222222,
              "#7201a8"
             ],
             [
              0.3333333333333333,
              "#9c179e"
             ],
             [
              0.4444444444444444,
              "#bd3786"
             ],
             [
              0.5555555555555556,
              "#d8576b"
             ],
             [
              0.6666666666666666,
              "#ed7953"
             ],
             [
              0.7777777777777778,
              "#fb9f3a"
             ],
             [
              0.8888888888888888,
              "#fdca26"
             ],
             [
              1,
              "#f0f921"
             ]
            ],
            "type": "histogram2dcontour"
           }
          ],
          "mesh3d": [
           {
            "colorbar": {
             "outlinewidth": 0,
             "ticks": ""
            },
            "type": "mesh3d"
           }
          ],
          "parcoords": [
           {
            "line": {
             "colorbar": {
              "outlinewidth": 0,
              "ticks": ""
             }
            },
            "type": "parcoords"
           }
          ],
          "pie": [
           {
            "automargin": true,
            "type": "pie"
           }
          ],
          "scatter": [
           {
            "fillpattern": {
             "fillmode": "overlay",
             "size": 10,
             "solidity": 0.2
            },
            "type": "scatter"
           }
          ],
          "scatter3d": [
           {
            "line": {
             "colorbar": {
              "outlinewidth": 0,
              "ticks": ""
             }
            },
            "marker": {
             "colorbar": {
              "outlinewidth": 0,
              "ticks": ""
             }
            },
            "type": "scatter3d"
           }
          ],
          "scattercarpet": [
           {
            "marker": {
             "colorbar": {
              "outlinewidth": 0,
              "ticks": ""
             }
            },
            "type": "scattercarpet"
           }
          ],
          "scattergeo": [
           {
            "marker": {
             "colorbar": {
              "outlinewidth": 0,
              "ticks": ""
             }
            },
            "type": "scattergeo"
           }
          ],
          "scattergl": [
           {
            "marker": {
             "colorbar": {
              "outlinewidth": 0,
              "ticks": ""
             }
            },
            "type": "scattergl"
           }
          ],
          "scattermapbox": [
           {
            "marker": {
             "colorbar": {
              "outlinewidth": 0,
              "ticks": ""
             }
            },
            "type": "scattermapbox"
           }
          ],
          "scatterpolar": [
           {
            "marker": {
             "colorbar": {
              "outlinewidth": 0,
              "ticks": ""
             }
            },
            "type": "scatterpolar"
           }
          ],
          "scatterpolargl": [
           {
            "marker": {
             "colorbar": {
              "outlinewidth": 0,
              "ticks": ""
             }
            },
            "type": "scatterpolargl"
           }
          ],
          "scatterternary": [
           {
            "marker": {
             "colorbar": {
              "outlinewidth": 0,
              "ticks": ""
             }
            },
            "type": "scatterternary"
           }
          ],
          "surface": [
           {
            "colorbar": {
             "outlinewidth": 0,
             "ticks": ""
            },
            "colorscale": [
             [
              0,
              "#0d0887"
             ],
             [
              0.1111111111111111,
              "#46039f"
             ],
             [
              0.2222222222222222,
              "#7201a8"
             ],
             [
              0.3333333333333333,
              "#9c179e"
             ],
             [
              0.4444444444444444,
              "#bd3786"
             ],
             [
              0.5555555555555556,
              "#d8576b"
             ],
             [
              0.6666666666666666,
              "#ed7953"
             ],
             [
              0.7777777777777778,
              "#fb9f3a"
             ],
             [
              0.8888888888888888,
              "#fdca26"
             ],
             [
              1,
              "#f0f921"
             ]
            ],
            "type": "surface"
           }
          ],
          "table": [
           {
            "cells": {
             "fill": {
              "color": "#EBF0F8"
             },
             "line": {
              "color": "white"
             }
            },
            "header": {
             "fill": {
              "color": "#C8D4E3"
             },
             "line": {
              "color": "white"
             }
            },
            "type": "table"
           }
          ]
         },
         "layout": {
          "annotationdefaults": {
           "arrowcolor": "#2a3f5f",
           "arrowhead": 0,
           "arrowwidth": 1
          },
          "autotypenumbers": "strict",
          "coloraxis": {
           "colorbar": {
            "outlinewidth": 0,
            "ticks": ""
           }
          },
          "colorscale": {
           "diverging": [
            [
             0,
             "#8e0152"
            ],
            [
             0.1,
             "#c51b7d"
            ],
            [
             0.2,
             "#de77ae"
            ],
            [
             0.3,
             "#f1b6da"
            ],
            [
             0.4,
             "#fde0ef"
            ],
            [
             0.5,
             "#f7f7f7"
            ],
            [
             0.6,
             "#e6f5d0"
            ],
            [
             0.7,
             "#b8e186"
            ],
            [
             0.8,
             "#7fbc41"
            ],
            [
             0.9,
             "#4d9221"
            ],
            [
             1,
             "#276419"
            ]
           ],
           "sequential": [
            [
             0,
             "#0d0887"
            ],
            [
             0.1111111111111111,
             "#46039f"
            ],
            [
             0.2222222222222222,
             "#7201a8"
            ],
            [
             0.3333333333333333,
             "#9c179e"
            ],
            [
             0.4444444444444444,
             "#bd3786"
            ],
            [
             0.5555555555555556,
             "#d8576b"
            ],
            [
             0.6666666666666666,
             "#ed7953"
            ],
            [
             0.7777777777777778,
             "#fb9f3a"
            ],
            [
             0.8888888888888888,
             "#fdca26"
            ],
            [
             1,
             "#f0f921"
            ]
           ],
           "sequentialminus": [
            [
             0,
             "#0d0887"
            ],
            [
             0.1111111111111111,
             "#46039f"
            ],
            [
             0.2222222222222222,
             "#7201a8"
            ],
            [
             0.3333333333333333,
             "#9c179e"
            ],
            [
             0.4444444444444444,
             "#bd3786"
            ],
            [
             0.5555555555555556,
             "#d8576b"
            ],
            [
             0.6666666666666666,
             "#ed7953"
            ],
            [
             0.7777777777777778,
             "#fb9f3a"
            ],
            [
             0.8888888888888888,
             "#fdca26"
            ],
            [
             1,
             "#f0f921"
            ]
           ]
          },
          "colorway": [
           "#636efa",
           "#EF553B",
           "#00cc96",
           "#ab63fa",
           "#FFA15A",
           "#19d3f3",
           "#FF6692",
           "#B6E880",
           "#FF97FF",
           "#FECB52"
          ],
          "font": {
           "color": "#2a3f5f"
          },
          "geo": {
           "bgcolor": "white",
           "lakecolor": "white",
           "landcolor": "white",
           "showlakes": true,
           "showland": true,
           "subunitcolor": "#C8D4E3"
          },
          "hoverlabel": {
           "align": "left"
          },
          "hovermode": "closest",
          "mapbox": {
           "style": "light"
          },
          "paper_bgcolor": "white",
          "plot_bgcolor": "white",
          "polar": {
           "angularaxis": {
            "gridcolor": "#EBF0F8",
            "linecolor": "#EBF0F8",
            "ticks": ""
           },
           "bgcolor": "white",
           "radialaxis": {
            "gridcolor": "#EBF0F8",
            "linecolor": "#EBF0F8",
            "ticks": ""
           }
          },
          "scene": {
           "xaxis": {
            "backgroundcolor": "white",
            "gridcolor": "#DFE8F3",
            "gridwidth": 2,
            "linecolor": "#EBF0F8",
            "showbackground": true,
            "ticks": "",
            "zerolinecolor": "#EBF0F8"
           },
           "yaxis": {
            "backgroundcolor": "white",
            "gridcolor": "#DFE8F3",
            "gridwidth": 2,
            "linecolor": "#EBF0F8",
            "showbackground": true,
            "ticks": "",
            "zerolinecolor": "#EBF0F8"
           },
           "zaxis": {
            "backgroundcolor": "white",
            "gridcolor": "#DFE8F3",
            "gridwidth": 2,
            "linecolor": "#EBF0F8",
            "showbackground": true,
            "ticks": "",
            "zerolinecolor": "#EBF0F8"
           }
          },
          "shapedefaults": {
           "line": {
            "color": "#2a3f5f"
           }
          },
          "ternary": {
           "aaxis": {
            "gridcolor": "#DFE8F3",
            "linecolor": "#A2B1C6",
            "ticks": ""
           },
           "baxis": {
            "gridcolor": "#DFE8F3",
            "linecolor": "#A2B1C6",
            "ticks": ""
           },
           "bgcolor": "white",
           "caxis": {
            "gridcolor": "#DFE8F3",
            "linecolor": "#A2B1C6",
            "ticks": ""
           }
          },
          "title": {
           "x": 0.05
          },
          "xaxis": {
           "automargin": true,
           "gridcolor": "#EBF0F8",
           "linecolor": "#EBF0F8",
           "ticks": "",
           "title": {
            "standoff": 15
           },
           "zerolinecolor": "#EBF0F8",
           "zerolinewidth": 2
          },
          "yaxis": {
           "automargin": true,
           "gridcolor": "#EBF0F8",
           "linecolor": "#EBF0F8",
           "ticks": "",
           "title": {
            "standoff": 15
           },
           "zerolinecolor": "#EBF0F8",
           "zerolinewidth": 2
          }
         }
        },
        "title": {
         "text": "pIC50 by approach taken used (submitted prior to 01-07-2020)"
        },
        "violinmode": "group",
        "xaxis": {
         "anchor": "y",
         "autorange": true,
         "categoryarray": [
          "Docking",
          "Hypothesis-driven",
          "Unclear"
         ],
         "categoryorder": "array",
         "domain": [
          0,
          1
         ],
         "range": [
          -0.7674769169769686,
          2.671972469314577
         ],
         "title": {
          "text": "approach"
         },
         "type": "category"
        },
        "yaxis": {
         "anchor": "x",
         "autorange": true,
         "domain": [
          0,
          1
         ],
         "range": [
          3.8704658842605557,
          6.461148199049444
         ],
         "title": {
          "text": "pIC50"
         },
         "type": "linear"
        }
       }
      },
      "image/png": "[encoded data removed]",
      "text/html": [
       "<div>                            <div id=\"1d206969-983c-44bb-a52b-5711b2889efb\" class=\"plotly-graph-div\" style=\"height:525px; width:100%;\"></div>            <script type=\"text/javascript\">                require([\"plotly\"], function(Plotly) {                    window.PLOTLYENV=window.PLOTLYENV || {};                                    if (document.getElementById(\"1d206969-983c-44bb-a52b-5711b2889efb\")) {                    Plotly.newPlot(                        \"1d206969-983c-44bb-a52b-5711b2889efb\",                        [{\"alignmentgroup\":\"True\",\"box\":{\"visible\":true},\"customdata\":[[\"DAR-DIA-23aa0b97-8\",\"Daren Fearon\",\"2020-04-27T00:00:00\",\"\",\"Introduction of aromatic ring with nitrile/chloro \"],[\"DAR-DIA-23aa0b97-11\",\"Daren Fearon\",\"2020-04-27T00:00:00\",\"\",\"Introduction of aromatic ring with nitrile/chloro \"],[\"DAR-DIA-23aa0b97-19\",\"Daren Fearon\",\"2020-04-17T00:00:00\",\"\",\"Introduction of aromatic ring with nitrile/chloro \"],[\"DAR-DIA-23aa0b97-20\",\"Daren Fearon\",\"2020-04-17T00:00:00\",\"Isoquinoline\",\"Introduction of aromatic ring with nitrile/chloro \"],[\"WAR-XCH-eb7b662f-2\",\"Warren Thompson\",\"2020-04-17T00:00:00\",\"\",\"Combining fragments X0305 and X0434 by eye.\"],[\"ALP-POS-95b75b4d-1\",\"Alpha Lee\",\"2020-06-10T00:00:00\",\"Aminopyridine-like\",\"Exploration around hit scaffold\"],[\"EDG-MED-0da5ad92-2\",\"Ed Griffen\",\"2020-05-26T00:00:00\",\"Aminopyridine-like\",\"Straightforward medicinal chemistry pairs based on\"],[\"EDJ-MED-49816e9b-1\",\"Ed Griffen\",\"2020-06-01T00:00:00\",\"Aminopyridine-like\",\"Designs based on biasing conformation of linker ch\"],[\"RAL-MED-2de63afb-1\",\"Med-Chem team\",\"2020-06-10T00:00:00\",\"Aminopyridine-like\",\"Close in (single point change) analogs of hit BAR-\"],[\"RAL-MED-2de63afb-2\",\"Med-Chem team\",\"2020-06-10T00:00:00\",\"Aminopyridine-like\",\"Close in (single point change) analogs of hit BAR-\"],[\"RAL-MED-2de63afb-14\",\"Med-Chem team\",\"2020-06-10T00:00:00\",\"Aminopyridine-like\",\"Close in (single point change) analogs of hit BAR-\"],[\"MAT-POS-590ac91e-11\",\"Matthew Robinson\",\"2020-06-16T00:00:00\",\"Aminopyridine-like\",\"Enamine REAL analogs of IC50 amino-pyridine hits a\"],[\"MAT-POS-590ac91e-32\",\"Matthew Robinson\",\"2020-06-10T00:00:00\",\"Quinolone\",\"Enamine REAL analogs of IC50 amino-pyridine hits a\"],[\"MAT-POS-590ac91e-38\",\"Matthew Robinson\",\"2020-06-10T00:00:00\",\"\",\"Enamine REAL analogs of IC50 amino-pyridine hits a\"],[\"MAT-POS-590ac91e-40\",\"Matthew Robinson\",\"2020-06-10T00:00:00\",\"\",\"Enamine REAL analogs of IC50 amino-pyridine hits a\"],[\"MAT-POS-590ac91e-41\",\"Matthew Robinson\",\"2020-06-16T00:00:00\",\"\",\"Enamine REAL analogs of IC50 amino-pyridine hits a\"],[\"MAT-POS-590ac91e-46\",\"Matthew Robinson\",\"2020-06-10T00:00:00\",\"\",\"Enamine REAL analogs of IC50 amino-pyridine hits a\"],[\"MAT-POS-590ac91e-61\",\"Matthew Robinson\",\"2020-06-10T00:00:00\",\"\",\"Enamine REAL analogs of IC50 amino-pyridine hits a\"],[\"MAT-POS-590ac91e-63\",\"Matthew Robinson\",\"2020-06-10T00:00:00\",\"\",\"Enamine REAL analogs of IC50 amino-pyridine hits a\"],[\"LON-WEI-ff7b210a-4\",\"Nir London\",\"2020-06-24T00:00:00\",\"\",\"Enamine-available hits (>80% inhibition at 10uM) f\"],[\"LON-WEI-ff7b210a-5\",\"Nir London\",\"2020-06-24T00:00:00\",\"\",\"Enamine-available hits (>80% inhibition at 10uM) f\"]],\"hovertemplate\":\"ccategory=Core<br>approach=%{x}<br>pIC50=%{y}<br>CID (canonical)=%{customdata[0]}<br>clean_creator=%{customdata[1]}<br>shipment_date=%{customdata[2]}<br>site_name=%{customdata[3]}<br>short=%{customdata[4]}<extra></extra>\",\"legendgroup\":\"Core\",\"marker\":{\"color\":\"#FD8A8A\"},\"name\":\"Core\",\"offsetgroup\":\"Core\",\"orientation\":\"v\",\"points\":\"all\",\"scalegroup\":\"True\",\"showlegend\":true,\"x\":[\"Unclear\",\"Unclear\",\"Unclear\",\"Unclear\",\"Unclear\",\"Unclear\",\"Unclear\",\"Hypothesis-driven\",\"Unclear\",\"Unclear\",\"Unclear\",\"Docking\",\"Docking\",\"Docking\",\"Docking\",\"Docking\",\"Docking\",\"Docking\",\"Docking\",\"Unclear\",\"Unclear\"],\"x0\":\" \",\"xaxis\":\"x\",\"y\":[4.265200170411153,4.196542884351587,4.573488738635425,4.239577516576788,4.00436480540245,4.018634490921455,4.270025714300444,4.52432881167557,4.053056729302175,4.464705879957229,4.603800652904264,4.00436480540245,4.002176919254275,4.002176919254275,4.4723700991286615,4.785156151952302,4.002176919254275,4.0,4.002176919254275,6.297569463554475,5.795880017344075],\"y0\":\" \",\"yaxis\":\"y\",\"type\":\"violin\",\"spanmode\":\"hard\"},{\"alignmentgroup\":\"True\",\"box\":{\"visible\":true},\"customdata\":[[\"TRY-UNI-714a760b-6\",\"Tryfon Zarganis\",\"2020-04-09T00:00:00\",\"Aminopyridine-like\",\"The design of the molecules was done by superimpos\"],[\"TRY-UNI-714a760b-12\",\"Tryfon Zarganis\",\"2020-04-17T00:00:00\",\"Aminopyridine-like\",\"The design of the molecules was done by superimpos\"],[\"TRY-UNI-714a760b-18\",\"Tryfon Zarganis\",\"2020-04-09T00:00:00\",\"Aminopyridine-like\",\"The design of the molecules was done by superimpos\"],[\"TRY-UNI-714a760b-20\",\"Tryfon Zarganis\",\"2020-04-17T00:00:00\",\"Aminopyridine-like\",\"The design of the molecules was done by superimpos\"],[\"TRY-UNI-714a760b-22\",\"Tryfon Zarganis\",\"2020-04-17T00:00:00\",\"Aminopyridine-like\",\"The design of the molecules was done by superimpos\"],[\"TRY-UNI-714a760b-24\",\"Tryfon Zarganis\",\"2020-04-17T00:00:00\",\"\",\"The design of the molecules was done by superimpos\"],[\"JOR-UNI-2fc98d0b-12\",\"Jordi JuarezJimenez\",\"2020-05-26T00:00:00\",\"Aminopyridine-like\",\"These compounds are based on the fragment X_0434. \"],[\"AGN-NEW-891393a6-1\",\"Agnieszka Bronowska\",\"2020-06-16T00:00:00\",\"\",\"Molecular docking and structure-guided design of s\"],[\"CHR-SOS-7098f804-10\",\"Chris De Graaf\",\"2020-05-13T00:00:00\",\"\",\"Structure-based design combining:\\r\\n1) X_0678 and X\"],[\"CHR-SOS-7098f804-14\",\"Chris De Graaf\",\"2020-05-20T00:00:00\",\"\",\"Structure-based design combining:\\r\\n1) X_0678 and X\"],[\"RUT-UNI-630c5802-20\",\"Ruth Brenk\",\"2020-04-27T00:00:00\",\"\",\"1) obviously, no potent inhibitors for Mpro are kn\"],[\"GAB-REV-70cc3ca5-8\",\"Gabriel Grand\",\"2020-05-13T00:00:00\",\"Aminopyridine-like\",\"Top 23 results hand-selected from a virtual fragme\"],[\"BAR-COM-4e090d3a-6\",\"Bart Lenselink\",\"2020-04-27T00:00:00\",\"\",\"Virtual screen on enamine REAL:\\r\\nhttps://docs. goo\"],[\"JAN-GHE-83b26c96-8\",\"Jan Hullaert\",\"2020-06-10T00:00:00\",\"Aminopyridine-like\",\"Library of Enamine REAL analogues of HIT compound \"],[\"JAN-GHE-83b26c96-12\",\"Jan Hullaert\",\"2020-06-01T00:00:00\",\"Aminopyridine-like\",\"Library of Enamine REAL analogues of HIT compound \"],[\"JAN-GHE-83b26c96-20\",\"Jan Hullaert\",\"2020-06-10T00:00:00\",\"Aminopyridine-like\",\"Library of Enamine REAL analogues of HIT compound \"],[\"JAN-GHE-83b26c96-22\",\"Jan Hullaert\",\"2020-06-10T00:00:00\",\"Aminopyridine-like\",\"Library of Enamine REAL analogues of HIT compound \"],[\"TRY-UNI-2eddb1ff-2\",\"Tryfon Zarganis\",\"2020-06-24T00:00:00\",\"Aminopyridine-like\",\"The design of the molecules was done by superimpos\"],[\"TRY-UNI-2eddb1ff-7\",\"Tryfon Zarganis\",\"2020-06-10T00:00:00\",\"Aminopyridine-like\",\"The design of the molecules was done by superimpos\"],[\"JAN-GHE-5a013bed-1\",\"Jan Hullaert\",\"2020-06-16T00:00:00\",\"\",\"Library of Enamine REAL compounds for SAR focused \"],[\"JAN-GHE-5a013bed-2\",\"Jan Hullaert\",\"2020-06-16T00:00:00\",\"Aminopyridine-like\",\"Library of Enamine REAL compounds for SAR focused \"],[\"JAN-GHE-5a013bed-3\",\"Jan Hullaert\",\"2020-06-16T00:00:00\",\"\",\"Library of Enamine REAL compounds for SAR focused \"],[\"JAN-GHE-5a013bed-11\",\"Jan Hullaert\",\"2020-06-16T00:00:00\",\"\",\"Library of Enamine REAL compounds for SAR focused \"],[\"BEN-DND-7e92b6ca-4\",\"Benjamin Perry\",\"2020-06-10T00:00:00\",\"Quinolone\",\"Scanning SAR around the 4-amidoquinolones identifi\"],[\"BEN-DND-7e92b6ca-5\",\"Benjamin Perry\",\"2020-06-10T00:00:00\",\"\",\"Scanning SAR around the 4-amidoquinolones identifi\"],[\"BEN-DND-7e92b6ca-10\",\"Benjamin Perry\",\"2020-06-01T00:00:00\",\"\",\"Scanning SAR around the 4-amidoquinolones identifi\"],[\"BEN-DND-7e92b6ca-11\",\"Benjamin Perry\",\"2020-06-01T00:00:00\",\"\",\"Scanning SAR around the 4-amidoquinolones identifi\"],[\"BEN-DND-7e92b6ca-12\",\"Benjamin Perry\",\"2020-06-01T00:00:00\",\"\",\"Scanning SAR around the 4-amidoquinolones identifi\"],[\"BEN-DND-7e92b6ca-13\",\"Benjamin Perry\",\"2020-06-01T00:00:00\",\"\",\"Scanning SAR around the 4-amidoquinolones identifi\"],[\"BEN-DND-7e92b6ca-14\",\"Benjamin Perry\",\"2020-06-01T00:00:00\",\"\",\"Scanning SAR around the 4-amidoquinolones identifi\"],[\"BEN-DND-7e92b6ca-16\",\"Benjamin Perry\",\"2020-06-01T00:00:00\",\"Quinolone\",\"Scanning SAR around the 4-amidoquinolones identifi\"],[\"BAR-COM-0f94fc3d-48\",\"Bart Lenselink\",\"2020-06-24T00:00:00\",\"Aminopyridine-like\",\"Similar approach as previously: \\r\\n\\r\\nhttps://docs. \"]],\"hovertemplate\":\"ccategory=Community<br>approach=%{x}<br>pIC50=%{y}<br>CID (canonical)=%{customdata[0]}<br>clean_creator=%{customdata[1]}<br>shipment_date=%{customdata[2]}<br>site_name=%{customdata[3]}<br>short=%{customdata[4]}<extra></extra>\",\"legendgroup\":\"Community\",\"marker\":{\"color\":\"#A8D1D1\"},\"name\":\"Community\",\"offsetgroup\":\"Community\",\"orientation\":\"v\",\"points\":\"all\",\"scalegroup\":\"True\",\"showlegend\":true,\"x\":[\"Hypothesis-driven\",\"Unclear\",\"Hypothesis-driven\",\"Hypothesis-driven\",\"Hypothesis-driven\",\"Hypothesis-driven\",\"Unclear\",\"Docking\",\"Hypothesis-driven\",\"Hypothesis-driven\",\"Docking\",\"Docking\",\"Docking\",\"Docking\",\"Docking\",\"Unclear\",\"Unclear\",\"Unclear\",\"Unclear\",\"Unclear\",\"Unclear\",\"Unclear\",\"Unclear\",\"Docking\",\"Docking\",\"Unclear\",\"Unclear\",\"Unclear\",\"Docking\",\"Docking\",\"Docking\",\"Docking\"],\"x0\":\" \",\"xaxis\":\"x\",\"y\":[4.609064892896621,4.1904402853647325,4.581698708680254,4.211831628858832,4.260427655549908,4.00436480540245,5.51427857351842,5.175223537524454,4.616184634019569,4.407823242604133,4.105130343254747,4.00436480540245,4.447331783887806,4.761953896871205,4.686132779630847,4.002176919254275,4.013676222949234,4.333482019445119,5.440093374963888,4.847711655616943,5.080921907623926,5.062983892535186,4.343901797987169,4.002176919254275,4.002176919254275,5.057495893831919,4.8326826652518236,5.1220530483708115,4.484126156288321,4.782516055786093,4.619788758288394,4.2225731776106885],\"y0\":\" \",\"yaxis\":\"y\",\"type\":\"violin\",\"spanmode\":\"hard\"},{\"alignmentgroup\":\"True\",\"box\":{\"visible\":true},\"customdata\":[[\"NIR-THE-c331be7a-1\",\"Nir London\",\"2020-06-24T00:00:00\",\"\",\"These are all based on merges of:\\r\\n- x1420 as a ba\"],[\"NIR-THE-c331be7a-2\",\"Nir London\",\"2020-06-24T00:00:00\",\"Chloroacetamide\",\"These are all based on merges of:\\r\\n- x1420 as a ba\"],[\"NIR-THE-c331be7a-6\",\"Nir London\",\"2020-06-16T00:00:00\",\"Chloroacetamide\",\"These are all based on merges of:\\r\\n- x1420 as a ba\"],[\"NIR-THE-0d6461ce-8\",\"Nir London\",\"2020-05-26T00:00:00\",\"\",\"x0692, x0770 and x0830 are all chloroacetamides of\"],[\"DAR-DIA-fb20be43-6\",\"Daren Fearon\",\"2020-05-20T00:00:00\",\"\",\"Merging of x0830 with x0305/x0104 and x0195 to tar\"],[\"DAR-DIA-fb20be43-7\",\"Daren Fearon\",\"2020-06-24T00:00:00\",\"\",\"Merging of x0830 with x0305/x0104 and x0195 to tar\"],[\"WAR-XCH-b0339bbe-19\",\"Warren Thompson\",\"2020-06-16T00:00:00\",\"\",\"1. Used top 40 compounds from Moonshot Folding doc\"],[\"WAR-XCH-79d12f6e-4\",\"Warren Thompson\",\"2020-05-20T00:00:00\",\"\",\"1. Top 40 docking score compounds (John Chodera's \"],[\"MED-COV-4280ac29-12\",\"Med-Chem team\",\"2020-06-10T00:00:00\",\"\",\"These are substitutions on submissions by the MedC\"],[\"MED-COV-4280ac29-13\",\"Med-Chem team\",\"2020-05-13T00:00:00\",\"\",\"These are substitutions on submissions by the MedC\"],[\"MED-COV-4280ac29-25\",\"Med-Chem team\",\"2020-05-26T00:00:00\",\"Chloroacetamide\",\"These are substitutions on submissions by the MedC\"],[\"MED-COV-4280ac29-30\",\"Med-Chem team\",\"2020-06-24T00:00:00\",\"\",\"These are substitutions on submissions by the MedC\"],[\"MED-COV-4280ac29-33\",\"Med-Chem team\",\"2020-06-01T00:00:00\",\"\",\"These are substitutions on submissions by the MedC\"],[\"MED-COV-4280ac29-37\",\"Med-Chem team\",\"2020-06-24T00:00:00\",\"\",\"These are substitutions on submissions by the MedC\"],[\"LON-WEI-babf2c61-1\",\"Nir London\",\"2020-06-16T00:00:00\",\"\",\"third gen. ugi designs combining previous \\u2018winning\"],[\"LON-WEI-babf2c61-2\",\"Nir London\",\"2020-06-16T00:00:00\",\"\",\"third gen. ugi designs combining previous \\u2018winning\"],[\"LON-WEI-babf2c61-5\",\"Nir London\",\"2020-06-16T00:00:00\",\"\",\"third gen. ugi designs combining previous \\u2018winning\"],[\"LON-WEI-babf2c61-6\",\"Nir London\",\"2020-06-16T00:00:00\",\"\",\"third gen. ugi designs combining previous \\u2018winning\"],[\"LON-WEI-babf2c61-9\",\"Nir London\",\"2020-06-16T00:00:00\",\"\",\"third gen. ugi designs combining previous \\u2018winning\"]],\"hovertemplate\":\"ccategory=Core_covalent<br>approach=%{x}<br>pIC50=%{y}<br>CID (canonical)=%{customdata[0]}<br>clean_creator=%{customdata[1]}<br>shipment_date=%{customdata[2]}<br>site_name=%{customdata[3]}<br>short=%{customdata[4]}<extra></extra>\",\"legendgroup\":\"Core_covalent\",\"marker\":{\"color\":\"#fec5c5\"},\"name\":\"Core_covalent\",\"offsetgroup\":\"Core_covalent\",\"orientation\":\"v\",\"points\":\"all\",\"scalegroup\":\"True\",\"showlegend\":true,\"x\":[\"Hypothesis-driven\",\"Hypothesis-driven\",\"Hypothesis-driven\",\"Hypothesis-driven\",\"Hypothesis-driven\",\"Hypothesis-driven\",\"Docking\",\"Docking\",\"Unclear\",\"Unclear\",\"Unclear\",\"Unclear\",\"Unclear\",\"Unclear\",\"Unclear\",\"Unclear\",\"Unclear\",\"Unclear\",\"Unclear\"],\"x0\":\" \",\"xaxis\":\"x\",\"y\":[5.034798298974088,5.931814138253839,5.698970004336019,5.447331783887806,5.336299074610352,5.560667306169737,4.739928612014925,4.474955192963154,4.2716462179787715,5.111820506081675,4.525783735923745,6.265200170411153,5.3214816209598865,5.657577319177793,4.939302159646388,4.935542010773082,4.621602099051862,4.614393726401688,4.696803942579511],\"y0\":\" \",\"yaxis\":\"y\",\"type\":\"violin\",\"spanmode\":\"hard\"},{\"alignmentgroup\":\"True\",\"box\":{\"visible\":true},\"customdata\":[[\"DUN-NEW-f8ce3686-22\",\"Duncan Miller\",\"2020-05-13T00:00:00\",\"\",\"Merging of x0072 with x1458 to combine the covalen\"],[\"DUN-NEW-f8ce3686-23\",\"Duncan Miller\",\"2020-06-30T00:00:00\",\"Chloroacetamide\",\"Merging of x0072 with x1458 to combine the covalen\"],[\"DUN-NEW-f8ce3686-24\",\"Duncan Miller\",\"2020-06-16T00:00:00\",\"Chloroacetamide\",\"Merging of x0072 with x1458 to combine the covalen\"],[\"DAN-LON-a5fc619e-8\",\"Daniel Zaidman\",\"2020-05-13T00:00:00\",\"Chloroacetamide\",\"The inspiration is X_0770, one of the covalent fra\"],[\"GIA-UNK-a79af1bc-1\",\"Gianfranco Lopopolo\",\"2020-05-26T00:00:00\",\"\",\"Replacement with pyrimidine, in order do have poss\"],[\"DAV-CRI-3edb475e-4\",\"David Briggs\",\"2020-05-07T00:00:00\",\"Chloroacetamide\",\"Modifications of x1382, the best occupancy, high c\"],[\"DAV-CRI-3edb475e-6\",\"David Briggs\",\"2020-05-26T00:00:00\",\"Chloroacetamide\",\"Modifications of x1382, the best occupancy, high c\"],[\"DAV-CRI-14a23e73-1\",\"David Briggs\",\"2020-06-24T00:00:00\",\"\",\"By eye merging of X0161 and x1382, retaining coval\"],[\"GIA-UNK-20b63697-2\",\"Gianfranco Lopopolo\",\"2020-06-10T00:00:00\",\"\",\"A series of derivatives, having the chloroacetamid\"],[\"GIA-UNK-20b63697-6\",\"Gianfranco Lopopolo\",\"2020-06-10T00:00:00\",\"\",\"A series of derivatives, having the chloroacetamid\"],[\"TAM-UNI-d1c3dd9f-5\",\"Tamas Szommer\",\"2020-05-26T00:00:00\",\"\",\"Covalent fragments were re-docked using multiple p\"],[\"PAU-UNI-8cdd41c7-1\",\"Paul Brear\",\"2020-05-13T00:00:00\",\"\",\"Combination fo x0770 and x0692. by eye.\"],[\"STU-CHA-6cae54d3-1\",\"Stuart Ward\",\"2020-06-30T00:00:00\",\"\",\"Combination of covalent fragment x0770 with non-co\"],[\"STU-CHA-83dacf15-1\",\"Stuart Ward\",\"2020-06-16T00:00:00\",\"\",\"Combination of covalent fragment x0770 with non-co\"],[\"SIM-SYN-f15aaa3a-1\",\"Simon Williams\",\"2020-05-07T00:00:00\",\"Chloroacetamide\",\"Noting that the benzylic group on fragments such a\"],[\"NEH-REV-107bcf72-5\",\"Neha Rana\",\"2020-05-13T00:00:00\",\"\",\"In addition to the covalent bond between chloroace\"],[\"NAU-LAT-64f4b287-4\",\"Nauris Narvaiss\",\"2020-06-24T00:00:00\",\"\",\"X-ray/IC50 fragment and structure growing/merging \"],[\"NAU-LAT-64f4b287-5\",\"Nauris Narvaiss\",\"2020-06-24T00:00:00\",\"Chloroacetamide\",\"X-ray/IC50 fragment and structure growing/merging \"]],\"hovertemplate\":\"ccategory=Community_covalent<br>approach=%{x}<br>pIC50=%{y}<br>CID (canonical)=%{customdata[0]}<br>clean_creator=%{customdata[1]}<br>shipment_date=%{customdata[2]}<br>site_name=%{customdata[3]}<br>short=%{customdata[4]}<extra></extra>\",\"legendgroup\":\"Community_covalent\",\"marker\":{\"color\":\"#d4e8e8\"},\"name\":\"Community_covalent\",\"offsetgroup\":\"Community_covalent\",\"orientation\":\"v\",\"points\":\"all\",\"scalegroup\":\"True\",\"showlegend\":true,\"x\":[\"Hypothesis-driven\",\"Hypothesis-driven\",\"Hypothesis-driven\",\"Docking\",\"Unclear\",\"Unclear\",\"Unclear\",\"Hypothesis-driven\",\"Unclear\",\"Unclear\",\"Docking\",\"Unclear\",\"Docking\",\"Docking\",\"Unclear\",\"Docking\",\"Hypothesis-driven\",\"Hypothesis-driven\"],\"x0\":\" \",\"xaxis\":\"x\",\"y\":[4.97469413473523,4.723538195826756,4.7594507517174005,5.663540266151471,4.559090917934782,4.00436480540245,4.554395796726403,6.33161408331,4.661543506395395,5.361510743045363,4.39577394691553,5.723538195826756,5.42021640338319,4.709965388637482,5.703334809738469,4.42712839779952,5.42712839779952,4.2716462179787715],\"y0\":\" \",\"yaxis\":\"y\",\"type\":\"violin\",\"spanmode\":\"hard\"}],                        {\"template\":{\"data\":{\"barpolar\":[{\"marker\":{\"line\":{\"color\":\"white\",\"width\":0.5},\"pattern\":{\"fillmode\":\"overlay\",\"size\":10,\"solidity\":0.2}},\"type\":\"barpolar\"}],\"bar\":[{\"error_x\":{\"color\":\"#2a3f5f\"},\"error_y\":{\"color\":\"#2a3f5f\"},\"marker\":{\"line\":{\"color\":\"white\",\"width\":0.5},\"pattern\":{\"fillmode\":\"overlay\",\"size\":10,\"solidity\":0.2}},\"type\":\"bar\"}],\"carpet\":[{\"aaxis\":{\"endlinecolor\":\"#2a3f5f\",\"gridcolor\":\"#C8D4E3\",\"linecolor\":\"#C8D4E3\",\"minorgridcolor\":\"#C8D4E3\",\"startlinecolor\":\"#2a3f5f\"},\"baxis\":{\"endlinecolor\":\"#2a3f5f\",\"gridcolor\":\"#C8D4E3\",\"linecolor\":\"#C8D4E3\",\"minorgridcolor\":\"#C8D4E3\",\"startlinecolor\":\"#2a3f5f\"},\"type\":\"carpet\"}],\"choropleth\":[{\"colorbar\":{\"outlinewidth\":0,\"ticks\":\"\"},\"type\":\"choropleth\"}],\"contourcarpet\":[{\"colorbar\":{\"outlinewidth\":0,\"ticks\":\"\"},\"type\":\"contourcarpet\"}],\"contour\":[{\"colorbar\":{\"outlinewidth\":0,\"ticks\":\"\"},\"colorscale\":[[0.0,\"#0d0887\"],[0.1111111111111111,\"#46039f\"],[0.2222222222222222,\"#7201a8\"],[0.3333333333333333,\"#9c179e\"],[0.4444444444444444,\"#bd3786\"],[0.5555555555555556,\"#d8576b\"],[0.6666666666666666,\"#ed7953\"],[0.7777777777777778,\"#fb9f3a\"],[0.8888888888888888,\"#fdca26\"],[1.0,\"#f0f921\"]],\"type\":\"contour\"}],\"heatmapgl\":[{\"colorbar\":{\"outlinewidth\":0,\"ticks\":\"\"},\"colorscale\":[[0.0,\"#0d0887\"],[0.1111111111111111,\"#46039f\"],[0.2222222222222222,\"#7201a8\"],[0.3333333333333333,\"#9c179e\"],[0.4444444444444444,\"#bd3786\"],[0.5555555555555556,\"#d8576b\"],[0.6666666666666666,\"#ed7953\"],[0.7777777777777778,\"#fb9f3a\"],[0.8888888888888888,\"#fdca26\"],[1.0,\"#f0f921\"]],\"type\":\"heatmapgl\"}],\"heatmap\":[{\"colorbar\":{\"outlinewidth\":0,\"ticks\":\"\"},\"colorscale\":[[0.0,\"#0d0887\"],[0.1111111111111111,\"#46039f\"],[0.2222222222222222,\"#7201a8\"],[0.3333333333333333,\"#9c179e\"],[0.4444444444444444,\"#bd3786\"],[0.5555555555555556,\"#d8576b\"],[0.6666666666666666,\"#ed7953\"],[0.7777777777777778,\"#fb9f3a\"],[0.8888888888888888,\"#fdca26\"],[1.0,\"#f0f921\"]],\"type\":\"heatmap\"}],\"histogram2dcontour\":[{\"colorbar\":{\"outlinewidth\":0,\"ticks\":\"\"},\"colorscale\":[[0.0,\"#0d0887\"],[0.1111111111111111,\"#46039f\"],[0.2222222222222222,\"#7201a8\"],[0.3333333333333333,\"#9c179e\"],[0.4444444444444444,\"#bd3786\"],[0.5555555555555556,\"#d8576b\"],[0.6666666666666666,\"#ed7953\"],[0.7777777777777778,\"#fb9f3a\"],[0.8888888888888888,\"#fdca26\"],[1.0,\"#f0f921\"]],\"type\":\"histogram2dcontour\"}],\"histogram2d\":[{\"colorbar\":{\"outlinewidth\":0,\"ticks\":\"\"},\"colorscale\":[[0.0,\"#0d0887\"],[0.1111111111111111,\"#46039f\"],[0.2222222222222222,\"#7201a8\"],[0.3333333333333333,\"#9c179e\"],[0.4444444444444444,\"#bd3786\"],[0.5555555555555556,\"#d8576b\"],[0.6666666666666666,\"#ed7953\"],[0.7777777777777778,\"#fb9f3a\"],[0.8888888888888888,\"#fdca26\"],[1.0,\"#f0f921\"]],\"type\":\"histogram2d\"}],\"histogram\":[{\"marker\":{\"pattern\":{\"fillmode\":\"overlay\",\"size\":10,\"solidity\":0.2}},\"type\":\"histogram\"}],\"mesh3d\":[{\"colorbar\":{\"outlinewidth\":0,\"ticks\":\"\"},\"type\":\"mesh3d\"}],\"parcoords\":[{\"line\":{\"colorbar\":{\"outlinewidth\":0,\"ticks\":\"\"}},\"type\":\"parcoords\"}],\"pie\":[{\"automargin\":true,\"type\":\"pie\"}],\"scatter3d\":[{\"line\":{\"colorbar\":{\"outlinewidth\":0,\"ticks\":\"\"}},\"marker\":{\"colorbar\":{\"outlinewidth\":0,\"ticks\":\"\"}},\"type\":\"scatter3d\"}],\"scattercarpet\":[{\"marker\":{\"colorbar\":{\"outlinewidth\":0,\"ticks\":\"\"}},\"type\":\"scattercarpet\"}],\"scattergeo\":[{\"marker\":{\"colorbar\":{\"outlinewidth\":0,\"ticks\":\"\"}},\"type\":\"scattergeo\"}],\"scattergl\":[{\"marker\":{\"colorbar\":{\"outlinewidth\":0,\"ticks\":\"\"}},\"type\":\"scattergl\"}],\"scattermapbox\":[{\"marker\":{\"colorbar\":{\"outlinewidth\":0,\"ticks\":\"\"}},\"type\":\"scattermapbox\"}],\"scatterpolargl\":[{\"marker\":{\"colorbar\":{\"outlinewidth\":0,\"ticks\":\"\"}},\"type\":\"scatterpolargl\"}],\"scatterpolar\":[{\"marker\":{\"colorbar\":{\"outlinewidth\":0,\"ticks\":\"\"}},\"type\":\"scatterpolar\"}],\"scatter\":[{\"fillpattern\":{\"fillmode\":\"overlay\",\"size\":10,\"solidity\":0.2},\"type\":\"scatter\"}],\"scatterternary\":[{\"marker\":{\"colorbar\":{\"outlinewidth\":0,\"ticks\":\"\"}},\"type\":\"scatterternary\"}],\"surface\":[{\"colorbar\":{\"outlinewidth\":0,\"ticks\":\"\"},\"colorscale\":[[0.0,\"#0d0887\"],[0.1111111111111111,\"#46039f\"],[0.2222222222222222,\"#7201a8\"],[0.3333333333333333,\"#9c179e\"],[0.4444444444444444,\"#bd3786\"],[0.5555555555555556,\"#d8576b\"],[0.6666666666666666,\"#ed7953\"],[0.7777777777777778,\"#fb9f3a\"],[0.8888888888888888,\"#fdca26\"],[1.0,\"#f0f921\"]],\"type\":\"surface\"}],\"table\":[{\"cells\":{\"fill\":{\"color\":\"#EBF0F8\"},\"line\":{\"color\":\"white\"}},\"header\":{\"fill\":{\"color\":\"#C8D4E3\"},\"line\":{\"color\":\"white\"}},\"type\":\"table\"}]},\"layout\":{\"annotationdefaults\":{\"arrowcolor\":\"#2a3f5f\",\"arrowhead\":0,\"arrowwidth\":1},\"autotypenumbers\":\"strict\",\"coloraxis\":{\"colorbar\":{\"outlinewidth\":0,\"ticks\":\"\"}},\"colorscale\":{\"diverging\":[[0,\"#8e0152\"],[0.1,\"#c51b7d\"],[0.2,\"#de77ae\"],[0.3,\"#f1b6da\"],[0.4,\"#fde0ef\"],[0.5,\"#f7f7f7\"],[0.6,\"#e6f5d0\"],[0.7,\"#b8e186\"],[0.8,\"#7fbc41\"],[0.9,\"#4d9221\"],[1,\"#276419\"]],\"sequential\":[[0.0,\"#0d0887\"],[0.1111111111111111,\"#46039f\"],[0.2222222222222222,\"#7201a8\"],[0.3333333333333333,\"#9c179e\"],[0.4444444444444444,\"#bd3786\"],[0.5555555555555556,\"#d8576b\"],[0.6666666666666666,\"#ed7953\"],[0.7777777777777778,\"#fb9f3a\"],[0.8888888888888888,\"#fdca26\"],[1.0,\"#f0f921\"]],\"sequentialminus\":[[0.0,\"#0d0887\"],[0.1111111111111111,\"#46039f\"],[0.2222222222222222,\"#7201a8\"],[0.3333333333333333,\"#9c179e\"],[0.4444444444444444,\"#bd3786\"],[0.5555555555555556,\"#d8576b\"],[0.6666666666666666,\"#ed7953\"],[0.7777777777777778,\"#fb9f3a\"],[0.8888888888888888,\"#fdca26\"],[1.0,\"#f0f921\"]]},\"colorway\":[\"#636efa\",\"#EF553B\",\"#00cc96\",\"#ab63fa\",\"#FFA15A\",\"#19d3f3\",\"#FF6692\",\"#B6E880\",\"#FF97FF\",\"#FECB52\"],\"font\":{\"color\":\"#2a3f5f\"},\"geo\":{\"bgcolor\":\"white\",\"lakecolor\":\"white\",\"landcolor\":\"white\",\"showlakes\":true,\"showland\":true,\"subunitcolor\":\"#C8D4E3\"},\"hoverlabel\":{\"align\":\"left\"},\"hovermode\":\"closest\",\"mapbox\":{\"style\":\"light\"},\"paper_bgcolor\":\"white\",\"plot_bgcolor\":\"white\",\"polar\":{\"angularaxis\":{\"gridcolor\":\"#EBF0F8\",\"linecolor\":\"#EBF0F8\",\"ticks\":\"\"},\"bgcolor\":\"white\",\"radialaxis\":{\"gridcolor\":\"#EBF0F8\",\"linecolor\":\"#EBF0F8\",\"ticks\":\"\"}},\"scene\":{\"xaxis\":{\"backgroundcolor\":\"white\",\"gridcolor\":\"#DFE8F3\",\"gridwidth\":2,\"linecolor\":\"#EBF0F8\",\"showbackground\":true,\"ticks\":\"\",\"zerolinecolor\":\"#EBF0F8\"},\"yaxis\":{\"backgroundcolor\":\"white\",\"gridcolor\":\"#DFE8F3\",\"gridwidth\":2,\"linecolor\":\"#EBF0F8\",\"showbackground\":true,\"ticks\":\"\",\"zerolinecolor\":\"#EBF0F8\"},\"zaxis\":{\"backgroundcolor\":\"white\",\"gridcolor\":\"#DFE8F3\",\"gridwidth\":2,\"linecolor\":\"#EBF0F8\",\"showbackground\":true,\"ticks\":\"\",\"zerolinecolor\":\"#EBF0F8\"}},\"shapedefaults\":{\"line\":{\"color\":\"#2a3f5f\"}},\"ternary\":{\"aaxis\":{\"gridcolor\":\"#DFE8F3\",\"linecolor\":\"#A2B1C6\",\"ticks\":\"\"},\"baxis\":{\"gridcolor\":\"#DFE8F3\",\"linecolor\":\"#A2B1C6\",\"ticks\":\"\"},\"bgcolor\":\"white\",\"caxis\":{\"gridcolor\":\"#DFE8F3\",\"linecolor\":\"#A2B1C6\",\"ticks\":\"\"}},\"title\":{\"x\":0.05},\"xaxis\":{\"automargin\":true,\"gridcolor\":\"#EBF0F8\",\"linecolor\":\"#EBF0F8\",\"ticks\":\"\",\"title\":{\"standoff\":15},\"zerolinecolor\":\"#EBF0F8\",\"zerolinewidth\":2},\"yaxis\":{\"automargin\":true,\"gridcolor\":\"#EBF0F8\",\"linecolor\":\"#EBF0F8\",\"ticks\":\"\",\"title\":{\"standoff\":15},\"zerolinecolor\":\"#EBF0F8\",\"zerolinewidth\":2}}},\"xaxis\":{\"anchor\":\"y\",\"domain\":[0.0,1.0],\"title\":{\"text\":\"approach\"},\"categoryorder\":\"array\",\"categoryarray\":[\"Docking\",\"Hypothesis-driven\",\"Unclear\"]},\"yaxis\":{\"anchor\":\"x\",\"domain\":[0.0,1.0],\"title\":{\"text\":\"pIC50\"}},\"legend\":{\"title\":{\"text\":\"Group\"},\"tracegroupgap\":0},\"title\":{\"text\":\"pIC50 by approach taken used (submitted prior to 01-07-2020)\"},\"violinmode\":\"group\"},                        {\"responsive\": true}                    ).then(function(){\n",
       "                            \n",
       "var gd = document.getElementById('1d206969-983c-44bb-a52b-5711b2889efb');\n",
       "var x = new MutationObserver(function (mutations, observer) {{\n",
       "        var display = window.getComputedStyle(gd).display;\n",
       "        if (!display || display === 'none') {{\n",
       "            console.log([gd, 'removed!']);\n",
       "            Plotly.purge(gd);\n",
       "            observer.disconnect();\n",
       "        }}\n",
       "}});\n",
       "\n",
       "// Listen for the removal of the full notebook cells\n",
       "var notebookContainer = gd.closest('#notebook-container');\n",
       "if (notebookContainer) {{\n",
       "    x.observe(notebookContainer, {childList: true});\n",
       "}}\n",
       "\n",
       "// Listen for the clearing of the current output cell\n",
       "var outputEl = gd.closest('.output');\n",
       "if (outputEl) {{\n",
       "    x.observe(outputEl, {childList: true});\n",
       "}}\n",
       "\n",
       "                        })                };                });            </script>        </div>"
      ]
     },
     "metadata": {},
     "output_type": "display_data"
    }
   ],
   "source": [
    "from datetime import datetime\n",
    "import plotly.express as px\n",
    "\n",
    "date_cutoff = datetime(2020, 7, 1)\n",
    "\n",
    "subbed = moonshot.loc[~moonshot.classified_method.isin(['STARTING_LIBRARY', 'UNKNOWN']) & \\\n",
    "                      (moonshot.submission_date < date_cutoff) & (moonshot.shipment_date < date_cutoff) & \\\n",
    "                      (moonshot.approach != \"Prior SARS inhibitor\")\n",
    "                     ]\n",
    "fig = px.violin(subbed,\n",
    "                title=f'pIC50 by approach taken used (submitted prior to {date_cutoff.strftime(\"%d-%m-%Y\")})',\n",
    "                y='pIC50', x='approach',\n",
    "               color='ccategory',\n",
    "                template=\"plotly_white\",\n",
    "                hover_data=['CID (canonical)', 'clean_creator', 'shipment_date', 'site_name', 'short'],\n",
    "               box=True,\n",
    "               points='all',\n",
    "               color_discrete_map={'Core': '#FD8A8A', \n",
    "                                   'Community': '#A8D1D1', \n",
    "                                   \"Core_covalent\": '#fec5c5',\n",
    "                                   \"Community_covalent\": '#d4e8e8'\n",
    "                                  },\n",
    "               category_orders={\"ccategory\": [\"Core\", \"Community\", \"Core_covalent\", \"Community_covalent\"],\n",
    "                              \"approach\": [\"Docking\", \"Hypothesis-driven\", \"Unclear\"],\n",
    "                               }\n",
    "               )\n",
    "fig.update_traces(spanmode = 'hard')\n",
    "fig.update_layout(legend=dict(title='Group'))\n",
    "fig.write_image(\"images/methodology_covalent.png\")\n",
    "fig"
   ]
  },
  {
   "cell_type": "code",
   "execution_count": null,
   "id": "b7fb0df9-8965-41e2-96d0-f7185554b78e",
   "metadata": {},
   "outputs": [],
   "source": []
  }
 ],
 "metadata": {
  "kernelspec": {
   "display_name": "Python [conda env:cc39]",
   "language": "python",
   "name": "conda-env-cc39-py"
  },
  "language_info": {
   "codemirror_mode": {
    "name": "ipython",
    "version": 3
   },
   "file_extension": ".py",
   "mimetype": "text/x-python",
   "name": "python",
   "nbconvert_exporter": "python",
   "pygments_lexer": "ipython3",
   "version": "3.9.15"
  }
 },
 "nbformat": 4,
 "nbformat_minor": 5
}

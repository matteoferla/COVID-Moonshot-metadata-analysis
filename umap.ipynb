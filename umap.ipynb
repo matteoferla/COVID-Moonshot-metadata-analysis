{
 "cells": [
  {
   "cell_type": "code",
   "execution_count": null,
   "id": "b9cbd2a7-96ce-4d65-a08e-9f37cd886c40",
   "metadata": {},
   "outputs": [],
   "source": [
    "import pandas as pd\n",
    "import numpy as np\n",
    "\n",
    "import pandas as pd\n",
    "import numpy as np\n",
    "import gzip\n",
    "\n",
    "with gzip.open('moonshot_submissions.pkl.gz', 'rb') as fh:\n",
    "    _m = pd.read_pickle(fh)\n",
    "\n",
    "moonshot = _m.loc[_m.okay][['CID (canonical)','CID_group', 'old_index', 'clean_creator', 'internal', 'SMILES', 'new_smiles',\n",
    "                           'fragments', 'xcode', 'Structure ID', 'xcode','site_name', 'pdb_entry',\n",
    "                            'series',\n",
    "                            'postera_SAScore', 'postera_minNumSteps',\n",
    "                            'purchasable', 'SAScore', 'midprefix', 'category', 'quarter (shipment)', 'quarter (submission)',\n",
    "                            'ORDERED', 'MADE', 'ASSAYED', 'in_fragalysis',\n",
    "                            'IC50', 'pIC50', 'purchasable',\n",
    "                           'submission_date', 'inferred_submission_date', 'order_date', 'shipment_date', \n",
    "                           'description', 'initial_screen',\n",
    "                           'N_creator_submission', 'N_submission_group', 'resubmitted',\n",
    "                           'Enamine - REAL Space', 'Enamine - Extended REAL Space',\n",
    "                           'Enamine - SCR', 'Enamine - BB', 'Mcule', 'Mcule Ultimate',\n",
    "                           'N_chars', 'N_words', 'N_words_cutoff', 'classified_method', 'flesch',\n",
    "                           'dale_chall']]\n",
    "\n",
    "del _m"
   ]
  },
  {
   "cell_type": "code",
   "execution_count": null,
   "id": "1461413c-1b71-439c-8012-0ebbd40f007b",
   "metadata": {},
   "outputs": [],
   "source": [
    "moonshot['short'] = moonshot.description.str.slice(0,50)\n",
    "moonshot['pIC50_str'] = moonshot.pIC50.astype(str)"
   ]
  },
  {
   "cell_type": "code",
   "execution_count": null,
   "id": "a542ae20-cfa8-4d44-8e5f-f3687da4ad08",
   "metadata": {},
   "outputs": [],
   "source": [
    "quad = moonshot.loc[moonshot['postera_minNumSteps'] <= 4]"
   ]
  },
  {
   "cell_type": "code",
   "execution_count": null,
   "id": "c09adc42-6b4c-4761-a595-56d7bf328051",
   "metadata": {},
   "outputs": [],
   "source": [
    "made = moonshot.loc[~moonshot.pIC50.isna()]"
   ]
  },
  {
   "cell_type": "code",
   "execution_count": null,
   "id": "a507efbf-8659-43b7-bbb9-89153e6350c3",
   "metadata": {},
   "outputs": [],
   "source": [
    "import umap\n",
    "from functools import partial\n",
    "from rdkit import Chem\n",
    "from rdkit.Chem import AllChem\n",
    "import pandera.typing as pdt\n",
    "import numpy.typing as npt\n",
    "\n",
    "fp: pdt.Series[npt.ArrayLike] = moonshot.SMILES\\\n",
    "             .apply(Chem.MolFromSmiles)\\\n",
    "             .apply(partial(AllChem.GetMorganFingerprintAsBitVect, radius=4, nBits=2**13))\\\n",
    "             .apply(np.array)\n",
    "\n",
    "# random setting from web...\n",
    "# Jacard is Tanimoto, which makes sense (metric='euclidean' for a one-hot is bad idea)\n",
    "model = umap.UMAP(metric = \"jaccard\",   \n",
    "                  n_neighbors = 25,\n",
    "                  n_components = 2,\n",
    "                  low_memory = False,\n",
    "                  min_dist = 0.001)\n",
    "_u: npt.ArrayLike = model.fit_transform(np.stack(fp.values))\n",
    "moonshot[\"UMAP_0\"]: pdt.Series[float] = _u[:,0]\n",
    "moonshot[\"UMAP_1\"]: pdt.Series[float] = _u[:,1]"
   ]
  },
  {
   "cell_type": "code",
   "execution_count": null,
   "id": "091d6665-b90e-436d-b003-1ab22b65d36e",
   "metadata": {},
   "outputs": [],
   "source": [
    "import plotly.express as px\n",
    "\n",
    "px.scatter(made, \n",
    "           \"UMAP_0\", \n",
    "           \"UMAP_1\",\n",
    "           hover_data=['CID (canonical)', 'pIC50_str',  'clean_creator', 'site_name', 'short'],\n",
    "           color='category', \n",
    "           opacity=0.1)"
   ]
  },
  {
   "cell_type": "code",
   "execution_count": null,
   "id": "4c209f3b-3b33-4ac4-9790-368139f8e2af",
   "metadata": {},
   "outputs": [],
   "source": [
    "random.gauss(0, 1)"
   ]
  },
  {
   "cell_type": "code",
   "execution_count": null,
   "id": "077dedbb-4050-4b2d-aa90-15af139b72ac",
   "metadata": {},
   "outputs": [],
   "source": []
  },
  {
   "cell_type": "code",
   "execution_count": null,
   "id": "779dffd0-6946-469a-8c8e-9b04a573bacd",
   "metadata": {},
   "outputs": [],
   "source": [
    "import random\n",
    "import plotly.express as px\n",
    "\n",
    "moonshot[\"UMAP_0_wobble\"] = moonshot.UMAP_0.apply(lambda x: x + random.gauss(0, 1) )\n",
    "moonshot[\"UMAP_1_wobble\"] = moonshot.UMAP_1.apply(lambda x: x + random.gauss(0, 1) )\n",
    "\n",
    "fig = px.scatter(moonshot, \n",
    "                   \"UMAP_0_wobble\", \n",
    "                   \"UMAP_1_wobble\",\n",
    "                   title=f'Divesity of all compounds\\nclustered by Tanimoto similarity (4-jump radius, {2**12} bits)',\n",
    "                   hover_data=['CID (canonical)', 'pIC50_str',  'clean_creator', 'site_name', 'short'],\n",
    "                   color='category',\n",
    "                   category_orders=dict(category=['Community', 'Core']),\n",
    "                   opacity=0.1)\n",
    "fig"
   ]
  },
  {
   "cell_type": "code",
   "execution_count": null,
   "id": "8ddcaab8-fbf8-444a-9502-56f1f468116e",
   "metadata": {},
   "outputs": [],
   "source": [
    "import chart_studio\n",
    "chart_studio.tools.set_credentials_file(username='matteoferla', api_key=os.environ['PLOTLY_API_KEY'])\n",
    "import chart_studio.plotly as studio_pl\n",
    "\n",
    "studio_pl.plot(fig, filename = 'umap-all-moonshot', auto_open=True) # 524.288 KB limit!"
   ]
  },
  {
   "cell_type": "code",
   "execution_count": null,
   "id": "40bb1494-d65a-4b98-9961-278958023991",
   "metadata": {},
   "outputs": [],
   "source": [
    "import numpy as np\n",
    "import seaborn as sns\n",
    "sns.set_theme(style=\"ticks\")\n",
    "p = sns.jointplot(data=made, x='UMAP_0', y='UMAP_1', kind=\"hex\",\n",
    "              color=\"#4CB391\")\n",
    "p.fig.suptitle('Divesity of synthesised compounds\\nclustered by Tanimoto similarity (4-jump radius, 2^11 bits)')\n",
    "p.fig.tight_layout()\n",
    "p.fig.subplots_adjust(top=0.90)\n",
    "p.savefig(\"images/dim-red_made.png\")"
   ]
  },
  {
   "cell_type": "code",
   "execution_count": null,
   "id": "04ed6cec-4c1f-4db8-a3af-09dd4c5a001d",
   "metadata": {},
   "outputs": [],
   "source": [
    "import numpy as np\n",
    "import seaborn as sns\n",
    "sns.set_theme(style=\"ticks\")\n",
    "p = sns.jointplot(data=moonshot, \n",
    "                  x='UMAP_0', y='UMAP_1', \n",
    "                  kind=\"hex\",  # hue= and hex is not supported.\n",
    "                  color=\"#4CB391\"\n",
    "                 )\n",
    "p.fig.suptitle('Divesity of synthesised compounds\\nclustered by Tanimoto similarity (4-jump radius, 2^12 bits)')\n",
    "p.fig.tight_layout()\n",
    "p.fig.subplots_adjust(top=0.90)\n",
    "p.savefig(\"images/dim-red_all.png\")"
   ]
  },
  {
   "cell_type": "code",
   "execution_count": null,
   "id": "8c726651-a2b1-4b20-a192-1077b5f2c7a3",
   "metadata": {},
   "outputs": [],
   "source": [
    "import numpy as np\n",
    "import seaborn as sns\n",
    "sns.set_theme(style=\"ticks\")\n",
    "p = sns.jointplot(data=moonshot, \n",
    "                  x='UMAP_0', y='UMAP_1', \n",
    "                  kind=\"kde\",\n",
    "                  hue=\"category\"\n",
    "                 )\n",
    "p.fig.suptitle('Divesity of all compounds\\nclustered by Tanimoto similarity (4-jump radius, 2^12 bits)')\n",
    "p.fig.tight_layout()\n",
    "p.fig.subplots_adjust(top=0.90)\n",
    "p.savefig(\"images/dim-red_all-alt.png\")"
   ]
  },
  {
   "cell_type": "code",
   "execution_count": null,
   "id": "5ef50162-405a-4396-b77b-cf6168f49658",
   "metadata": {},
   "outputs": [],
   "source": [
    "import numpy as np\n",
    "import seaborn as sns\n",
    "sns.set_theme(style=\"ticks\")\n",
    "p = sns.jointplot(data=moonshot, \n",
    "                  x='UMAP_0', y='UMAP_1', \n",
    "                  kind=\"kde\",\n",
    "                  hue=\"MADE\"\n",
    "                 )\n",
    "p.fig.suptitle('Divesity of synthesised compounds\\nclustered by Tanimoto similarity (4-jump radius, 2^12 bits)')\n",
    "p.fig.tight_layout()\n",
    "p.fig.subplots_adjust(top=0.90)\n",
    "p.savefig(\"images/dim-red-alt2.png\")"
   ]
  },
  {
   "cell_type": "code",
   "execution_count": null,
   "id": "462eb115-2da4-4ad2-b743-7ffc2dadf164",
   "metadata": {},
   "outputs": [],
   "source": []
  }
 ],
 "metadata": {
  "kernelspec": {
   "display_name": "Python [conda env:cc39]",
   "language": "python",
   "name": "conda-env-cc39-py"
  },
  "language_info": {
   "codemirror_mode": {
    "name": "ipython",
    "version": 3
   },
   "file_extension": ".py",
   "mimetype": "text/x-python",
   "name": "python",
   "nbconvert_exporter": "python",
   "pygments_lexer": "ipython3",
   "version": "3.9.15"
  }
 },
 "nbformat": 4,
 "nbformat_minor": 5
}

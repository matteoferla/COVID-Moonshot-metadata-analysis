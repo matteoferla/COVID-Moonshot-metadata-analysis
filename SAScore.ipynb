{
 "cells": [
  {
   "cell_type": "code",
   "execution_count": 1,
   "id": "acbd1092-9479-458a-8419-3a2b6a9c83bb",
   "metadata": {},
   "outputs": [],
   "source": [
    "import pandas as pd\n",
    "import numpy as np\n",
    "\n",
    "_m = pd.read_pickle('moonshot_submissions.p')\n",
    "\n",
    "\n",
    "\n",
    "moonshot = _m.loc[_m.okay][['CID (canonical)','CID_group', 'old_index', 'clean_creator', 'SMILES', 'new_smiles',\n",
    "                           'fragments', 'xcode', 'Structure ID', 'xcode','site_name', 'pdb_entry',\n",
    "                            'series',\n",
    "                            'ORDERED', 'MADE', 'ASSAYED', 'in_fragalysis',\n",
    "                            'IC50', 'pIC50',\n",
    "                           'submission_date', 'inferred_submission_date', 'order_date', 'shipment_date', \n",
    "                           'description', 'initial_screen',\n",
    "                           'N_creator_submission', 'N_submission_group', 'resubmitted',\n",
    "                           'Enamine - REAL Space', 'Enamine - Extended REAL Space',\n",
    "                           'Enamine - SCR', 'Enamine - BB', 'Mcule', 'Mcule Ultimate',\n",
    "                           'N_chars', 'N_words', 'N_words_cutoff', 'classified_method', 'flesch',\n",
    "                           'dale_chall']]\n",
    "\n",
    "#del _m"
   ]
  },
  {
   "cell_type": "code",
   "execution_count": 2,
   "id": "5cb3b546-b226-44a0-bada-868258113d90",
   "metadata": {},
   "outputs": [],
   "source": [
    "moonshot['purchasable'] = moonshot[['Enamine - REAL Space', 'Enamine - Extended REAL Space',\n",
    "               'Enamine - SCR', 'Enamine - BB', 'Mcule', 'Mcule Ultimate']].apply(lambda row: ((row.astype(str) != 'False') & (row.astype(str) != '') & (row.astype(str) != 'nan')).any(), axis=1)"
   ]
  },
  {
   "cell_type": "code",
   "execution_count": 3,
   "id": "068c4283-b0d4-42e8-b954-bd0385c56519",
   "metadata": {},
   "outputs": [
    {
     "name": "stderr",
     "output_type": "stream",
     "text": [
      "[14:38:24] WARNING: not removing hydrogen atom without neighbors\n",
      "[14:38:24] WARNING: not removing hydrogen atom without neighbors\n"
     ]
    }
   ],
   "source": [
    "from rdkit import Chem\n",
    "from rdkit.Contrib.SA_Score import sascorer\n",
    "sascorer.readFragmentScores()\n",
    "\n",
    "moonshot['SAScore'] = moonshot.SMILES.apply(Chem.MolFromSmiles).apply(sascorer.calculateScore).fillna(10)"
   ]
  },
  {
   "cell_type": "code",
   "execution_count": 4,
   "id": "5cc44f6e-7751-4873-a912-6de2a4515e8b",
   "metadata": {},
   "outputs": [],
   "source": [
    "cabal = ['Aaron Morris',\n",
    " 'Alessandro Contini',\n",
    " 'Alpha Lee',\n",
    " 'Andre Schützer de Godoy',\n",
    " 'Andrea Rizzi',\n",
    " 'Anna Carbery',\n",
    " 'Annette von Delft',\n",
    " 'Anthony Aimon',\n",
    " 'Austin Clyde',\n",
    " 'Daren Fearon',\n",
    " 'Demetri Moustakas',\n",
    " 'Ed Griffen',\n",
    " 'Edward Griffen',\n",
    " 'Frank von Delft',\n",
    " 'Garrett M. Morris',\n",
    " 'Garrett Morris',\n",
    " 'Halina Mikolajek',\n",
    " 'Hannah Bruce Macdonald',\n",
    " 'Hannah Bruce-Macdonald',\n",
    " 'Jason Cole',\n",
    " 'Jason Pattis',\n",
    " 'Jenke Scheen',\n",
    " 'Jin Pan',\n",
    " 'John Chodera',\n",
    " 'Kadi Liis Saar',\n",
    " 'Lizbé Koekemoer',\n",
    " 'Mark Calmiano',\n",
    " 'Mark Williamson',\n",
    " 'Matt Hurley',\n",
    " 'Matt Robinson',\n",
    " 'Matt Wittmann',\n",
    " 'Matteo Ferla',\n",
    " 'Matthew Hurley',\n",
    " 'Matthew Robinson',\n",
    " 'Matthew Wittmann',\n",
    " 'Med-Chem team',\n",
    " 'Melissa Boby',\n",
    " 'Michael Retchin',\n",
    " 'Mihaela Smilova',\n",
    " 'Milan Cvitkovic',\n",
    " 'Nir London',\n",
    " 'Rajath Salegame',\n",
    " 'Richard Foster',\n",
    " 'Robert Glen',\n",
    " 'Ruby Pai',\n",
    " 'Tim Dudgeon',\n",
    " 'Tyler Gorrie-Stone',\n",
    " 'Vincent Voelz',\n",
    " 'Warren Thompson',\n",
    " 'Will Glass',\n",
    " 'William Glass',\n",
    " 'William McCorkindale',\n",
    " 'Yuanqing Wang']\n",
    "\n",
    "moonshot['internal'] = moonshot.clean_creator.str.lower().isin(list(map(str.lower, cabal)))\n",
    "moonshot['midprefix'] = moonshot['CID (canonical)'].str.extract(r'\\w{3}-(?P<mid_prefix>\\w{3})').mid_prefix\n"
   ]
  },
  {
   "cell_type": "code",
   "execution_count": 5,
   "id": "e0296f35-d8e7-432a-aa0a-1408df13d8ba",
   "metadata": {},
   "outputs": [],
   "source": [
    "moonshot['category'] = moonshot.internal.map({True: 'Core', False: 'Community'})\n",
    "moonshot['quarter (shipment)'] = moonshot.shipment_date.apply(lambda d: 1+int(d.month // 3 + 4 * (d.year -2020)) if str(d.month) != 'nan' else -1)"
   ]
  },
  {
   "cell_type": "code",
   "execution_count": 6,
   "id": "0a289623-b318-4b75-a198-6d938e08fd7a",
   "metadata": {},
   "outputs": [],
   "source": [
    "moonshot['quarter (submission)'] = moonshot.inferred_submission_date.apply(lambda d: 1+int(d.month // 3 + 4 * (d.year -2020)) if str(d.month) != 'nan' else -1)"
   ]
  },
  {
   "cell_type": "code",
   "execution_count": null,
   "id": "3893bee6-a63b-4351-9801-27218b041861",
   "metadata": {},
   "outputs": [],
   "source": [
    "import plotly.express as px\n",
    "from datetime import datetime\n",
    "\n",
    "fig = px.histogram(moonshot.loc[moonshot.inferred_submission_date < datetime(day=1, month=6, year=2020)],\n",
    "                   x='SAScore', color='category',\n",
    "                   title='Synthetic accessibility of compounds submitted in Spring 2020',\n",
    "                  )\n",
    "fig.write_image(\"SAScore_corevcomm_histo.jpg\")\n",
    "fig.show()"
   ]
  },
  {
   "cell_type": "code",
   "execution_count": null,
   "id": "aff72976-2c6c-46a3-b535-625e9986658f",
   "metadata": {},
   "outputs": [],
   "source": [
    "import plotly.express as px\n",
    "from datetime import datetime\n",
    "\n",
    "fig = px.violin(moonshot,\n",
    "          template=\"plotly_white\",\n",
    "                   y='SAScore', x='quarter (submission)', color='category',\n",
    "                   title='Synthetic accessibility of compounds', box=True,\n",
    "                #points='all',\n",
    "                  )\n",
    "fig.update_layout(xaxis=dict(range=[1.5,7.5]))\n",
    "fig.update_traces(spanmode = 'hard')\n",
    "fig.write_image(\"SAScore_corevcomm_vio.jpg\")\n",
    "fig.show()"
   ]
  },
  {
   "cell_type": "code",
   "execution_count": null,
   "id": "de290698-1aea-48d3-afcf-d2f4b27b3456",
   "metadata": {},
   "outputs": [],
   "source": [
    "fixed_date = moonshot.inferred_submission_date.apply(lambda v: v if isinstance(v, pd.Timestamp) else np.nan)"
   ]
  },
  {
   "cell_type": "code",
   "execution_count": null,
   "id": "050cacd4-6a50-4467-9741-ac9bcc2d6ba7",
   "metadata": {},
   "outputs": [],
   "source": [
    "from datetime import datetime\n",
    "\n",
    "fig = px.histogram(moonshot.loc[fixed_date < datetime(day=1, month=6, year=2020)],\n",
    "                   color='purchasable', x='category',\n",
    "                   title='Catalogue availability of compounds submitted in Spring 2020',\n",
    "                  )\n",
    "fig.write_image(\"catalogue_corevcomm.jpg\")\n",
    "fig.show()"
   ]
  },
  {
   "cell_type": "markdown",
   "id": "be453390-dccb-4aac-ac1a-7b25bc15da98",
   "metadata": {},
   "source": [
    "## NB catalogue stops being added after a while"
   ]
  },
  {
   "cell_type": "code",
   "execution_count": null,
   "id": "b6fe6180-44c9-4923-95d6-f096ba96db02",
   "metadata": {},
   "outputs": [],
   "source": [
    "from datetime import datetime\n",
    "\n",
    "fig = px.histogram(moonshot,\n",
    "                   color='purchasable', x='quarter (submission)',\n",
    "                   title='Catalogue availability of compounds submitted in Spring 2020',\n",
    "                  )\n",
    "#fig.write_image(\"catalogue_corevcomm.jpg\")\n",
    "fig.show()"
   ]
  },
  {
   "cell_type": "markdown",
   "id": "15696e44-fbdf-413b-8a60-601247afdfcc",
   "metadata": {},
   "source": [
    "## % purchasable"
   ]
  },
  {
   "cell_type": "code",
   "execution_count": null,
   "id": "04c9abeb-9451-4630-87ca-e700aff90649",
   "metadata": {},
   "outputs": [],
   "source": [
    "(pd.pivot_table(moonshot.loc[moonshot['quarter (submission)'] < 3], \n",
    "               index='category',\n",
    "               values='purchasable', \n",
    "               aggfunc=sum) / \\\n",
    "pd.pivot_table(moonshot.loc[moonshot['quarter (submission)'] < 3], \n",
    "               index='category',\n",
    "               values='purchasable', \n",
    "               aggfunc=len) * 100).round(1).rename(columns={'purchasable': '% purchasable'}).transpose()"
   ]
  },
  {
   "cell_type": "code",
   "execution_count": null,
   "id": "2ee0e4de-0278-4dd6-ad76-75645e836933",
   "metadata": {},
   "outputs": [],
   "source": [
    "baddies = moonshot.sort_values('SAScore', ascending=False).head(20)\n",
    "baddies['mol'] = baddies.SMILES.apply(Chem.MolFromSmiles)\n",
    "\n",
    "from rdkit.Chem import Draw\n",
    "\n",
    "d = baddies.SAScore.round(1).astype(str) + '\\n' + baddies.description.str.slice(0,50)\n",
    "Draw.MolsToGridImage(baddies['mol'], legends=d.to_list())"
   ]
  },
  {
   "cell_type": "code",
   "execution_count": null,
   "id": "f59ecfc1-e38d-47fb-b97e-16e47493bb2c",
   "metadata": {},
   "outputs": [],
   "source": []
  },
  {
   "cell_type": "code",
   "execution_count": null,
   "id": "091cfca7-0583-4a7e-a334-7b33aab4ef32",
   "metadata": {},
   "outputs": [],
   "source": [
    "midfices = moonshot.midprefix.value_counts().to_dict()\n",
    "common_midfices = [m for m, v in midfices.items() if v > 50]"
   ]
  },
  {
   "cell_type": "code",
   "execution_count": null,
   "id": "f9ce2ecb-1132-47e8-a7b8-7fffae1c4138",
   "metadata": {},
   "outputs": [],
   "source": [
    "fig = px.violin(moonshot.loc[moonshot.midprefix.isin(common_midfices)].sort_values('midprefix'), \n",
    "                x='midprefix', y='SAScore',\n",
    "               title='Distribution of SAScore per group (w/ > 50 submissions)'\n",
    "               )\n",
    "fig.update_layout(violingap=0)\n",
    "fig"
   ]
  },
  {
   "cell_type": "code",
   "execution_count": null,
   "id": "f13f7559-75fd-4628-a17a-cb461a35d503",
   "metadata": {},
   "outputs": [],
   "source": [
    "## Postera SAScore\n"
   ]
  },
  {
   "cell_type": "code",
   "execution_count": 14,
   "id": "66a3aa98-d816-4e9d-bf54-665931c4cc7a",
   "metadata": {},
   "outputs": [],
   "source": [
    "import os, requests, json\n",
    "from typing import Union, List, Tuple, Dict, Any\n",
    "\n",
    "class SinglePostera:\n",
    "    \"\"\"\n",
    "    The Posera SDK by Rubén does a lot more,\n",
    "    this is a simple one aimed at pandas.\n",
    "    It does log the queries...\n",
    "    \n",
    "    \"\"\"\n",
    "    # https://api.postera.ai/api/v1/docs/#operation/api_v1_post\n",
    "    def __init__(self, **options):\n",
    "        self.options = options\n",
    "        self.responses: List[Tuple[str, Dict[str, Union[str, float, int]], Any]] = []\n",
    "        \n",
    "    def dejavu(self, url: str, data: dict) -> Union[dict, None]:\n",
    "        \"\"\"\n",
    "        \"\"\"\n",
    "        h = hash(tuple(data.items()))\n",
    "        for u, d, r in self.responses:\n",
    "            if u == url and h == hash(tuple(d.items())):\n",
    "                return r\n",
    "        else:\n",
    "            None\n",
    "            \n",
    "    def load_cache(self, fn: str='responses.json'):\n",
    "        with open(fn) as fh:\n",
    "            self.responses += json.load(fh)\n",
    "            \n",
    "                \n",
    "    def dump_cache(self, fn: str='responses.json'):\n",
    "        with open(fn, 'w') as fh:\n",
    "            json.dump(self.responses, fh)\n",
    "            \n",
    "\n",
    "    def _post(self, url: str, data: Dict[str, Union[str, float, int]]) -> dict:\n",
    "        # check if done before\n",
    "        past_response = self.dejavu(url, data)\n",
    "        if past_response is not None:\n",
    "            return past_response\n",
    "        if 'smiles' not in data:\n",
    "            raise ValueError('no smiles?')\n",
    "        if not data['smiles'] or not isinstance(data['smiles'], str):\n",
    "            return {}\n",
    "        headers = {'X-API-KEY': os.environ[\"MANIFOLD_API_KEY\"]}\n",
    "        response: requests.Response = requests.post(url, headers=headers, json=data)\n",
    "        if response.status_code == 429:\n",
    "            raise requests.ConnectionError(response.text)\n",
    "        elif not response.ok:  # error tolerant\n",
    "            print(data, response.status_code, response.text)\n",
    "            return {}\n",
    "        response_json = response.json()\n",
    "        results: dict = response_json['results'] if 'results' in response_json else response_json\n",
    "        self.responses.append((url, data, results))\n",
    "        return results\n",
    "\n",
    "    def retrosynthesis(self, smiles) -> dict:\n",
    "        return self._post('https://api.postera.ai/api/v1/retrosynthesis/',\n",
    "                          {'smiles': smiles, **self.options})\n",
    "    \n",
    "    def sa_retro(self, smiles) -> dict:\n",
    "        return self._post('https://api.postera.ai/api/v1/synthetic-accessibility/retrosynthesis/',\n",
    "                          {'smiles': smiles, **self.options})\n",
    "\n",
    "    def similarity(self, smiles) -> dict:\n",
    "        return self._post('https://api.postera.ai/api/v1/similarity/', \n",
    "                          {'smiles': smiles, **self.options})\n",
    "\n",
    "    def fast(self, smiles) -> dict:\n",
    "        return self._post('https://api.postera.ai/api/v1/synthetic-accessibility/fast-score/', \n",
    "                          {'smiles': smiles, **self.options})"
   ]
  },
  {
   "cell_type": "code",
   "execution_count": null,
   "id": "96af1c98-5925-470e-a46f-4c18cb3ca488",
   "metadata": {},
   "outputs": [],
   "source": [
    "p = SinglePostera()"
   ]
  },
  {
   "cell_type": "code",
   "execution_count": null,
   "id": "18156603-dea2-41c4-82cb-bdcede274306",
   "metadata": {},
   "outputs": [],
   "source": [
    "sa = moonshot.SMILES.apply(p.sa_retro)"
   ]
  },
  {
   "cell_type": "code",
   "execution_count": null,
   "id": "22dc409f-a9ce-406d-a902-64af103f16a5",
   "metadata": {},
   "outputs": [],
   "source": [
    "#\n",
    "moonshot.loc[moonshot['quarter (submission)'] <= 2].SMILES.apply(p.sa_retro)"
   ]
  },
  {
   "cell_type": "code",
   "execution_count": null,
   "id": "6b261981-74bd-4a52-a718-def35edccf49",
   "metadata": {},
   "outputs": [],
   "source": [
    "p.dump_cache('../postera-sa-retro.json')"
   ]
  },
  {
   "cell_type": "code",
   "execution_count": null,
   "id": "f3d4d3eb-467a-4628-a5d1-3c6a9c7378f3",
   "metadata": {},
   "outputs": [],
   "source": [
    "#%%script false --no-raise-error\n",
    "# cached mode:\n",
    "sa = moonshot.SMILES.apply(lambda s: p.dejavu('https://api.postera.ai/api/v1/synthetic-accessibility/retrosynthesis/', {'smiles': s}))"
   ]
  },
  {
   "cell_type": "code",
   "execution_count": null,
   "id": "6459ebc1-8439-46c6-8ecf-f5ddd4db78f1",
   "metadata": {},
   "outputs": [],
   "source": [
    "moonshot.loc[moonshot['quarter (submission)'] <= 2]"
   ]
  },
  {
   "cell_type": "code",
   "execution_count": null,
   "id": "3064eeaf-bb4e-46b0-860e-533337957147",
   "metadata": {},
   "outputs": [],
   "source": [
    "import operator\n",
    "nan = float('nan')\n",
    "sa = sa.apply(lambda v: v if isinstance(v, dict) else {'score': nan, 'minNumSteps': nan})\n",
    "\n",
    "moonshot['postera_SAScore'] = sa.apply(operator.itemgetter('score'))\n",
    "moonshot['postera_minNumSteps'] = sa.apply(operator.itemgetter('minNumSteps'))"
   ]
  },
  {
   "cell_type": "code",
   "execution_count": null,
   "id": "a5992735-c938-4339-b757-cc218b145f59",
   "metadata": {},
   "outputs": [],
   "source": [
    "import plotly.express as px\n",
    "\n",
    "fig = px.histogram(moonshot.loc[moonshot['quarter (submission)'] <= 2],\n",
    "                   template=\"plotly_white\",\n",
    "                   color='category',\n",
    "                   x='postera_SAScore',\n",
    "                   title='Synthetic accessibility of compounds submitted in Spring 2020',\n",
    "                  )\n",
    "fig"
   ]
  },
  {
   "cell_type": "code",
   "execution_count": null,
   "id": "fed0d323-ac52-4bd7-93aa-b4b5798f29f1",
   "metadata": {},
   "outputs": [],
   "source": [
    "import plotly.express as px\n",
    "\n",
    "fig = px.histogram(moonshot.loc[moonshot['quarter (submission)'] <= 2],\n",
    "                   template=\"plotly_white\",\n",
    "                   color='category',\n",
    "                   x='postera_minNumSteps',\n",
    "                   title='N step for synthesis of compounds submitted in Spring 2020',\n",
    "                  )\n",
    "fig"
   ]
  },
  {
   "cell_type": "code",
   "execution_count": null,
   "id": "85af3188-17f1-44d4-8fac-8ebbd17027da",
   "metadata": {},
   "outputs": [],
   "source": []
  }
 ],
 "metadata": {
  "kernelspec": {
   "display_name": "Python [conda env:cc39]",
   "language": "python",
   "name": "conda-env-cc39-py"
  },
  "language_info": {
   "codemirror_mode": {
    "name": "ipython",
    "version": 3
   },
   "file_extension": ".py",
   "mimetype": "text/x-python",
   "name": "python",
   "nbconvert_exporter": "python",
   "pygments_lexer": "ipython3",
   "version": "3.9.15"
  }
 },
 "nbformat": 4,
 "nbformat_minor": 5
}

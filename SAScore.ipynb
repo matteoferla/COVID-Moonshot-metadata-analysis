{
 "cells": [
  {
   "cell_type": "code",
   "execution_count": null,
   "id": "acbd1092-9479-458a-8419-3a2b6a9c83bb",
   "metadata": {},
   "outputs": [],
   "source": [
    "import pandas as pd\n",
    "import numpy as np\n",
    "\n",
    "_m = pd.read_pickle('moonshot_submissions.p')\n",
    "\n",
    "\n",
    "\n",
    "moonshot = _m.loc[_m.okay][['CID (canonical)','CID_group', 'old_index', 'clean_creator', 'SMILES', 'new_smiles',\n",
    "                           'fragments', 'xcode', 'Structure ID', 'xcode','site_name', 'pdb_entry',\n",
    "                            'series',\n",
    "                            'ORDERED', 'MADE', 'ASSAYED', 'in_fragalysis',\n",
    "                            'IC50', 'pIC50',\n",
    "                           'submission_date', 'inferred_submission_date', 'order_date', 'shipment_date', \n",
    "                           'description', 'initial_screen',\n",
    "                           'N_creator_submission', 'N_submission_group', 'resubmitted',\n",
    "                           'Enamine - REAL Space', 'Enamine - Extended REAL Space',\n",
    "                           'Enamine - SCR', 'Enamine - BB', 'Mcule', 'Mcule Ultimate',\n",
    "                           'N_chars', 'N_words', 'N_words_cutoff', 'classified_method', 'flesch',\n",
    "                           'dale_chall']]\n",
    "\n",
    "#del _m"
   ]
  },
  {
   "cell_type": "code",
   "execution_count": null,
   "id": "5cb3b546-b226-44a0-bada-868258113d90",
   "metadata": {},
   "outputs": [],
   "source": [
    "moonshot['purchasable'] = moonshot[['Enamine - REAL Space', 'Enamine - Extended REAL Space',\n",
    "               'Enamine - SCR', 'Enamine - BB', 'Mcule', 'Mcule Ultimate']].apply(lambda row: ((row.astype(str) != 'False') & (row.astype(str) != '') & (row.astype(str) != 'nan')).any(), axis=1)"
   ]
  },
  {
   "cell_type": "code",
   "execution_count": null,
   "id": "056f76b5-803f-40fd-9779-17886ad19ff2",
   "metadata": {},
   "outputs": [],
   "source": []
  },
  {
   "cell_type": "code",
   "execution_count": null,
   "id": "068c4283-b0d4-42e8-b954-bd0385c56519",
   "metadata": {},
   "outputs": [],
   "source": [
    "from rdkit import Chem\n",
    "from rdkit.Contrib.SA_Score import sascorer\n",
    "sascorer.readFragmentScores()\n",
    "\n",
    "moonshot['SAScore'] = moonshot.SMILES.apply(Chem.MolFromSmiles).apply(sascorer.calculateScore).fillna(10)"
   ]
  },
  {
   "cell_type": "code",
   "execution_count": null,
   "id": "5cc44f6e-7751-4873-a912-6de2a4515e8b",
   "metadata": {},
   "outputs": [],
   "source": [
    "cabal = ['Aaron Morris',\n",
    " 'Alessandro Contini',\n",
    " 'Alpha Lee',\n",
    " 'Andre Schützer de Godoy',\n",
    " 'Andrea Rizzi',\n",
    " 'Anna Carbery',\n",
    " 'Annette von Delft',\n",
    " 'Anthony Aimon',\n",
    " 'Austin Clyde',\n",
    " 'Daren Fearon',\n",
    " 'Demetri Moustakas',\n",
    " 'Ed Griffen',\n",
    " 'Edward Griffen',\n",
    " 'Frank von Delft',\n",
    " 'Garrett M. Morris',\n",
    " 'Garrett Morris',\n",
    " 'Halina Mikolajek',\n",
    " 'Hannah Bruce Macdonald',\n",
    " 'Hannah Bruce-Macdonald',\n",
    " 'Jason Cole',\n",
    " 'Jason Pattis',\n",
    " 'Jenke Scheen',\n",
    " 'Jin Pan',\n",
    " 'John Chodera',\n",
    " 'Kadi Liis Saar',\n",
    " 'Lizbé Koekemoer',\n",
    " 'Mark Calmiano',\n",
    " 'Mark Williamson',\n",
    " 'Matt Hurley',\n",
    " 'Matt Robinson',\n",
    " 'Matt Wittmann',\n",
    " 'Matteo Ferla',\n",
    " 'Matthew Hurley',\n",
    " 'Matthew Robinson',\n",
    " 'Matthew Wittmann',\n",
    " 'Med-Chem team',\n",
    " 'Melissa Boby',\n",
    " 'Michael Retchin',\n",
    " 'Mihaela Smilova',\n",
    " 'Milan Cvitkovic',\n",
    " 'Nir London',\n",
    " 'Rajath Salegame',\n",
    " 'Richard Foster',\n",
    " 'Robert Glen',\n",
    " 'Ruby Pai',\n",
    " 'Tim Dudgeon',\n",
    " 'Tyler Gorrie-Stone',\n",
    " 'Vincent Voelz',\n",
    " 'Warren Thompson',\n",
    " 'Will Glass',\n",
    " 'William Glass',\n",
    " 'William McCorkindale',\n",
    " 'Yuanqing Wang']\n",
    "\n",
    "moonshot['internal'] = moonshot.clean_creator.str.lower().isin(list(map(str.lower, cabal)))\n",
    "moonshot['midprefix'] = moonshot['CID (canonical)'].str.extract(r'\\w{3}-(?P<mid_prefix>\\w{3})').mid_prefix\n"
   ]
  },
  {
   "cell_type": "code",
   "execution_count": null,
   "id": "e0296f35-d8e7-432a-aa0a-1408df13d8ba",
   "metadata": {},
   "outputs": [],
   "source": [
    "moonshot['category'] = moonshot.internal.map({True: 'Core', False: 'Community'})\n",
    "moonshot['quarter (shipment)'] = moonshot.shipment_date.apply(lambda d: 1+int(d.month // 3 + 4 * (d.year -2020)) if str(d.month) != 'nan' else -1)"
   ]
  },
  {
   "cell_type": "code",
   "execution_count": null,
   "id": "0a289623-b318-4b75-a198-6d938e08fd7a",
   "metadata": {},
   "outputs": [],
   "source": [
    "moonshot['quarter (submission)'] = moonshot.inferred_submission_date.apply(lambda d: 1+int(d.month // 3 + 4 * (d.year -2020)) if str(d.month) != 'nan' else -1)"
   ]
  },
  {
   "cell_type": "code",
   "execution_count": null,
   "id": "3893bee6-a63b-4351-9801-27218b041861",
   "metadata": {},
   "outputs": [],
   "source": [
    "import plotly.express as px\n",
    "from datetime import datetime\n",
    "\n",
    "fig = px.histogram(moonshot.loc[moonshot.inferred_submission_date < datetime(day=1, month=6, year=2020)],\n",
    "                   x='SAScore', color='category',\n",
    "                   title='Synthetic accessibility of compounds submitted in Spring 2020',\n",
    "                  )\n",
    "fig.write_image(\"SAScore_corevcomm_histo.jpg\")\n",
    "fig.show()"
   ]
  },
  {
   "cell_type": "code",
   "execution_count": null,
   "id": "aff72976-2c6c-46a3-b535-625e9986658f",
   "metadata": {},
   "outputs": [],
   "source": [
    "import plotly.express as px\n",
    "from datetime import datetime\n",
    "\n",
    "fig = px.violin(moonshot,\n",
    "          template=\"plotly_white\",\n",
    "                   y='SAScore', x='quarter (submission)', color='category',\n",
    "                   title='Synthetic accessibility of compounds', box=True,\n",
    "                #points='all',\n",
    "                  )\n",
    "fig.update_layout(xaxis=dict(range=[1.5,7.5]))\n",
    "fig.update_traces(spanmode = 'hard')\n",
    "fig.write_image(\"SAScore_corevcomm_vio.jpg\")\n",
    "fig.show()"
   ]
  },
  {
   "cell_type": "code",
   "execution_count": null,
   "id": "de290698-1aea-48d3-afcf-d2f4b27b3456",
   "metadata": {},
   "outputs": [],
   "source": [
    "fixed_date = moonshot.inferred_submission_date.apply(lambda v: v if isinstance(v, pd.Timestamp) else np.nan)"
   ]
  },
  {
   "cell_type": "code",
   "execution_count": null,
   "id": "050cacd4-6a50-4467-9741-ac9bcc2d6ba7",
   "metadata": {},
   "outputs": [],
   "source": [
    "from datetime import datetime\n",
    "\n",
    "fig = px.histogram(moonshot.loc[fixed_date < datetime(day=1, month=6, year=2020)],\n",
    "                   color='purchasable', x='category',\n",
    "                   title='Catalogue availability of compounds submitted in Spring 2020',\n",
    "                  )\n",
    "fig.write_image(\"catalogue_corevcomm.jpg\")\n",
    "fig.show()"
   ]
  },
  {
   "cell_type": "markdown",
   "id": "be453390-dccb-4aac-ac1a-7b25bc15da98",
   "metadata": {},
   "source": [
    "## NB catalogue stops being added after a while"
   ]
  },
  {
   "cell_type": "code",
   "execution_count": null,
   "id": "b6fe6180-44c9-4923-95d6-f096ba96db02",
   "metadata": {},
   "outputs": [],
   "source": [
    "from datetime import datetime\n",
    "\n",
    "fig = px.histogram(moonshot,\n",
    "                   color='purchasable', x='quarter (submission)',\n",
    "                   title='Catalogue availability of compounds submitted in Spring 2020',\n",
    "                  )\n",
    "#fig.write_image(\"catalogue_corevcomm.jpg\")\n",
    "fig.show()"
   ]
  },
  {
   "cell_type": "markdown",
   "id": "15696e44-fbdf-413b-8a60-601247afdfcc",
   "metadata": {},
   "source": [
    "## % purchasable"
   ]
  },
  {
   "cell_type": "code",
   "execution_count": null,
   "id": "04c9abeb-9451-4630-87ca-e700aff90649",
   "metadata": {},
   "outputs": [],
   "source": [
    "(pd.pivot_table(moonshot.loc[moonshot['quarter (submission)'] < 3], \n",
    "               index='category',\n",
    "               values='purchasable', \n",
    "               aggfunc=sum) / \\\n",
    "pd.pivot_table(moonshot.loc[moonshot['quarter (submission)'] < 3], \n",
    "               index='category',\n",
    "               values='purchasable', \n",
    "               aggfunc=len) * 100).round(1).rename(columns={'purchasable': '% purchasable'}).transpose()"
   ]
  },
  {
   "cell_type": "code",
   "execution_count": null,
   "id": "2ee0e4de-0278-4dd6-ad76-75645e836933",
   "metadata": {},
   "outputs": [],
   "source": [
    "baddies = moonshot.sort_values('SAScore', ascending=False).head(20)\n",
    "baddies['mol'] = baddies.SMILES.apply(Chem.MolFromSmiles)\n",
    "\n",
    "from rdkit.Chem import Draw\n",
    "\n",
    "d = baddies.SAScore.round(1).astype(str) + '\\n' + baddies.description.str.slice(0,50)\n",
    "Draw.MolsToGridImage(baddies['mol'], legends=d.to_list())"
   ]
  },
  {
   "cell_type": "code",
   "execution_count": null,
   "id": "f59ecfc1-e38d-47fb-b97e-16e47493bb2c",
   "metadata": {},
   "outputs": [],
   "source": []
  },
  {
   "cell_type": "code",
   "execution_count": null,
   "id": "091cfca7-0583-4a7e-a334-7b33aab4ef32",
   "metadata": {},
   "outputs": [],
   "source": [
    "midfices = moonshot.midprefix.value_counts().to_dict()\n",
    "common_midfices = [m for m, v in midfices.items() if v > 50]"
   ]
  },
  {
   "cell_type": "code",
   "execution_count": null,
   "id": "f9ce2ecb-1132-47e8-a7b8-7fffae1c4138",
   "metadata": {},
   "outputs": [],
   "source": [
    "fig = px.violin(moonshot.loc[moonshot.midprefix.isin(common_midfices)].sort_values('midprefix'), \n",
    "                x='midprefix', y='SAScore',\n",
    "               title='Distribution of SAScore per group (w/ > 50 submissions)'\n",
    "               )\n",
    "fig.update_layout(violingap=0)\n",
    "fig"
   ]
  },
  {
   "cell_type": "code",
   "execution_count": null,
   "id": "f13f7559-75fd-4628-a17a-cb461a35d503",
   "metadata": {},
   "outputs": [],
   "source": []
  }
 ],
 "metadata": {
  "kernelspec": {
   "display_name": "Python [conda env:cc39]",
   "language": "python",
   "name": "conda-env-cc39-py"
  },
  "language_info": {
   "codemirror_mode": {
    "name": "ipython",
    "version": 3
   },
   "file_extension": ".py",
   "mimetype": "text/x-python",
   "name": "python",
   "nbconvert_exporter": "python",
   "pygments_lexer": "ipython3",
   "version": "3.9.15"
  }
 },
 "nbformat": 4,
 "nbformat_minor": 5
}
